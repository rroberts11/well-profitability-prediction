{
 "cells": [
  {
   "cell_type": "markdown",
   "metadata": {},
   "source": [
    "# Oil Well Location Prediction"
   ]
  },
  {
   "cell_type": "markdown",
   "metadata": {},
   "source": [
    "## Introduction\n",
    "The discovery of new oil wells plays a pivotal role in the energy industry, directly impacting global economic and energy landscapes. Predicting optimal oil well locations is a data-intensive challenge, requiring advanced statistical modeling and machine learning techniques. This project focuses on leveraging data from three distinct regions to predict oil production levels and identify the most profitable locations for development. By analyzing and comparing datasets, the project aims to optimize investment decisions and minimize financial risk, ensuring an effective allocation of resources."
   ]
  },
  {
   "cell_type": "markdown",
   "metadata": {},
   "source": [
    "## Load and Prepare the Data"
   ]
  },
  {
   "cell_type": "code",
   "execution_count": 1,
   "metadata": {},
   "outputs": [],
   "source": [
    "import pandas as pd \n",
    "import seaborn as sns\n",
    "import matplotlib.pyplot as plt\n",
    "import numpy as np\n",
    "\n",
    "from sklearn.model_selection import train_test_split\n",
    "from sklearn.linear_model import LinearRegression\n",
    "from sklearn.metrics import mean_squared_error\n",
    "from sklearn.model_selection import RandomizedSearchCV\n",
    "from sklearn.utils import resample \n",
    "from numpy.random import RandomState"
   ]
  },
  {
   "cell_type": "code",
   "execution_count": null,
   "metadata": {},
   "outputs": [
    {
     "name": "stdout",
     "output_type": "stream",
     "text": [
      "---Region 1---\n"
     ]
    },
    {
     "data": {
      "text/html": [
       "<div>\n",
       "<style scoped>\n",
       "    .dataframe tbody tr th:only-of-type {\n",
       "        vertical-align: middle;\n",
       "    }\n",
       "\n",
       "    .dataframe tbody tr th {\n",
       "        vertical-align: top;\n",
       "    }\n",
       "\n",
       "    .dataframe thead th {\n",
       "        text-align: right;\n",
       "    }\n",
       "</style>\n",
       "<table border=\"1\" class=\"dataframe\">\n",
       "  <thead>\n",
       "    <tr style=\"text-align: right;\">\n",
       "      <th></th>\n",
       "      <th>id</th>\n",
       "      <th>f0</th>\n",
       "      <th>f1</th>\n",
       "      <th>f2</th>\n",
       "      <th>product</th>\n",
       "    </tr>\n",
       "  </thead>\n",
       "  <tbody>\n",
       "    <tr>\n",
       "      <th>0</th>\n",
       "      <td>txEyH</td>\n",
       "      <td>0.705745</td>\n",
       "      <td>-0.497823</td>\n",
       "      <td>1.221170</td>\n",
       "      <td>105.280062</td>\n",
       "    </tr>\n",
       "    <tr>\n",
       "      <th>1</th>\n",
       "      <td>2acmU</td>\n",
       "      <td>1.334711</td>\n",
       "      <td>-0.340164</td>\n",
       "      <td>4.365080</td>\n",
       "      <td>73.037750</td>\n",
       "    </tr>\n",
       "    <tr>\n",
       "      <th>2</th>\n",
       "      <td>409Wp</td>\n",
       "      <td>1.022732</td>\n",
       "      <td>0.151990</td>\n",
       "      <td>1.419926</td>\n",
       "      <td>85.265647</td>\n",
       "    </tr>\n",
       "    <tr>\n",
       "      <th>3</th>\n",
       "      <td>iJLyR</td>\n",
       "      <td>-0.032172</td>\n",
       "      <td>0.139033</td>\n",
       "      <td>2.978566</td>\n",
       "      <td>168.620776</td>\n",
       "    </tr>\n",
       "    <tr>\n",
       "      <th>4</th>\n",
       "      <td>Xdl7t</td>\n",
       "      <td>1.988431</td>\n",
       "      <td>0.155413</td>\n",
       "      <td>4.751769</td>\n",
       "      <td>154.036647</td>\n",
       "    </tr>\n",
       "  </tbody>\n",
       "</table>\n",
       "</div>"
      ],
      "text/plain": [
       "      id        f0        f1        f2     product\n",
       "0  txEyH  0.705745 -0.497823  1.221170  105.280062\n",
       "1  2acmU  1.334711 -0.340164  4.365080   73.037750\n",
       "2  409Wp  1.022732  0.151990  1.419926   85.265647\n",
       "3  iJLyR -0.032172  0.139033  2.978566  168.620776\n",
       "4  Xdl7t  1.988431  0.155413  4.751769  154.036647"
      ]
     },
     "metadata": {},
     "output_type": "display_data"
    },
    {
     "data": {
      "text/html": [
       "<div>\n",
       "<style scoped>\n",
       "    .dataframe tbody tr th:only-of-type {\n",
       "        vertical-align: middle;\n",
       "    }\n",
       "\n",
       "    .dataframe tbody tr th {\n",
       "        vertical-align: top;\n",
       "    }\n",
       "\n",
       "    .dataframe thead th {\n",
       "        text-align: right;\n",
       "    }\n",
       "</style>\n",
       "<table border=\"1\" class=\"dataframe\">\n",
       "  <thead>\n",
       "    <tr style=\"text-align: right;\">\n",
       "      <th></th>\n",
       "      <th>f0</th>\n",
       "      <th>f1</th>\n",
       "      <th>f2</th>\n",
       "      <th>product</th>\n",
       "    </tr>\n",
       "  </thead>\n",
       "  <tbody>\n",
       "    <tr>\n",
       "      <th>count</th>\n",
       "      <td>100000.000000</td>\n",
       "      <td>100000.000000</td>\n",
       "      <td>100000.000000</td>\n",
       "      <td>100000.000000</td>\n",
       "    </tr>\n",
       "    <tr>\n",
       "      <th>mean</th>\n",
       "      <td>0.500419</td>\n",
       "      <td>0.250143</td>\n",
       "      <td>2.502647</td>\n",
       "      <td>92.500000</td>\n",
       "    </tr>\n",
       "    <tr>\n",
       "      <th>std</th>\n",
       "      <td>0.871832</td>\n",
       "      <td>0.504433</td>\n",
       "      <td>3.248248</td>\n",
       "      <td>44.288691</td>\n",
       "    </tr>\n",
       "    <tr>\n",
       "      <th>min</th>\n",
       "      <td>-1.408605</td>\n",
       "      <td>-0.848218</td>\n",
       "      <td>-12.088328</td>\n",
       "      <td>0.000000</td>\n",
       "    </tr>\n",
       "    <tr>\n",
       "      <th>25%</th>\n",
       "      <td>-0.072580</td>\n",
       "      <td>-0.200881</td>\n",
       "      <td>0.287748</td>\n",
       "      <td>56.497507</td>\n",
       "    </tr>\n",
       "    <tr>\n",
       "      <th>50%</th>\n",
       "      <td>0.502360</td>\n",
       "      <td>0.250252</td>\n",
       "      <td>2.515969</td>\n",
       "      <td>91.849972</td>\n",
       "    </tr>\n",
       "    <tr>\n",
       "      <th>75%</th>\n",
       "      <td>1.073581</td>\n",
       "      <td>0.700646</td>\n",
       "      <td>4.715088</td>\n",
       "      <td>128.564089</td>\n",
       "    </tr>\n",
       "    <tr>\n",
       "      <th>max</th>\n",
       "      <td>2.362331</td>\n",
       "      <td>1.343769</td>\n",
       "      <td>16.003790</td>\n",
       "      <td>185.364347</td>\n",
       "    </tr>\n",
       "  </tbody>\n",
       "</table>\n",
       "</div>"
      ],
      "text/plain": [
       "                  f0             f1             f2        product\n",
       "count  100000.000000  100000.000000  100000.000000  100000.000000\n",
       "mean        0.500419       0.250143       2.502647      92.500000\n",
       "std         0.871832       0.504433       3.248248      44.288691\n",
       "min        -1.408605      -0.848218     -12.088328       0.000000\n",
       "25%        -0.072580      -0.200881       0.287748      56.497507\n",
       "50%         0.502360       0.250252       2.515969      91.849972\n",
       "75%         1.073581       0.700646       4.715088     128.564089\n",
       "max         2.362331       1.343769      16.003790     185.364347"
      ]
     },
     "metadata": {},
     "output_type": "display_data"
    },
    {
     "name": "stdout",
     "output_type": "stream",
     "text": [
      "<class 'pandas.core.frame.DataFrame'>\n",
      "RangeIndex: 100000 entries, 0 to 99999\n",
      "Data columns (total 5 columns):\n",
      " #   Column   Non-Null Count   Dtype  \n",
      "---  ------   --------------   -----  \n",
      " 0   id       100000 non-null  object \n",
      " 1   f0       100000 non-null  float64\n",
      " 2   f1       100000 non-null  float64\n",
      " 3   f2       100000 non-null  float64\n",
      " 4   product  100000 non-null  float64\n",
      "dtypes: float64(4), object(1)\n",
      "memory usage: 3.8+ MB\n"
     ]
    },
    {
     "data": {
      "text/plain": [
       "None"
      ]
     },
     "metadata": {},
     "output_type": "display_data"
    },
    {
     "name": "stdout",
     "output_type": "stream",
     "text": [
      "\n",
      "---Region 2---\n"
     ]
    },
    {
     "data": {
      "text/html": [
       "<div>\n",
       "<style scoped>\n",
       "    .dataframe tbody tr th:only-of-type {\n",
       "        vertical-align: middle;\n",
       "    }\n",
       "\n",
       "    .dataframe tbody tr th {\n",
       "        vertical-align: top;\n",
       "    }\n",
       "\n",
       "    .dataframe thead th {\n",
       "        text-align: right;\n",
       "    }\n",
       "</style>\n",
       "<table border=\"1\" class=\"dataframe\">\n",
       "  <thead>\n",
       "    <tr style=\"text-align: right;\">\n",
       "      <th></th>\n",
       "      <th>id</th>\n",
       "      <th>f0</th>\n",
       "      <th>f1</th>\n",
       "      <th>f2</th>\n",
       "      <th>product</th>\n",
       "    </tr>\n",
       "  </thead>\n",
       "  <tbody>\n",
       "    <tr>\n",
       "      <th>0</th>\n",
       "      <td>kBEdx</td>\n",
       "      <td>-15.001348</td>\n",
       "      <td>-8.276000</td>\n",
       "      <td>-0.005876</td>\n",
       "      <td>3.179103</td>\n",
       "    </tr>\n",
       "    <tr>\n",
       "      <th>1</th>\n",
       "      <td>62mP7</td>\n",
       "      <td>14.272088</td>\n",
       "      <td>-3.475083</td>\n",
       "      <td>0.999183</td>\n",
       "      <td>26.953261</td>\n",
       "    </tr>\n",
       "    <tr>\n",
       "      <th>2</th>\n",
       "      <td>vyE1P</td>\n",
       "      <td>6.263187</td>\n",
       "      <td>-5.948386</td>\n",
       "      <td>5.001160</td>\n",
       "      <td>134.766305</td>\n",
       "    </tr>\n",
       "    <tr>\n",
       "      <th>3</th>\n",
       "      <td>KcrkZ</td>\n",
       "      <td>-13.081196</td>\n",
       "      <td>-11.506057</td>\n",
       "      <td>4.999415</td>\n",
       "      <td>137.945408</td>\n",
       "    </tr>\n",
       "    <tr>\n",
       "      <th>4</th>\n",
       "      <td>AHL4O</td>\n",
       "      <td>12.702195</td>\n",
       "      <td>-8.147433</td>\n",
       "      <td>5.004363</td>\n",
       "      <td>134.766305</td>\n",
       "    </tr>\n",
       "  </tbody>\n",
       "</table>\n",
       "</div>"
      ],
      "text/plain": [
       "      id         f0         f1        f2     product\n",
       "0  kBEdx -15.001348  -8.276000 -0.005876    3.179103\n",
       "1  62mP7  14.272088  -3.475083  0.999183   26.953261\n",
       "2  vyE1P   6.263187  -5.948386  5.001160  134.766305\n",
       "3  KcrkZ -13.081196 -11.506057  4.999415  137.945408\n",
       "4  AHL4O  12.702195  -8.147433  5.004363  134.766305"
      ]
     },
     "metadata": {},
     "output_type": "display_data"
    },
    {
     "data": {
      "text/html": [
       "<div>\n",
       "<style scoped>\n",
       "    .dataframe tbody tr th:only-of-type {\n",
       "        vertical-align: middle;\n",
       "    }\n",
       "\n",
       "    .dataframe tbody tr th {\n",
       "        vertical-align: top;\n",
       "    }\n",
       "\n",
       "    .dataframe thead th {\n",
       "        text-align: right;\n",
       "    }\n",
       "</style>\n",
       "<table border=\"1\" class=\"dataframe\">\n",
       "  <thead>\n",
       "    <tr style=\"text-align: right;\">\n",
       "      <th></th>\n",
       "      <th>f0</th>\n",
       "      <th>f1</th>\n",
       "      <th>f2</th>\n",
       "      <th>product</th>\n",
       "    </tr>\n",
       "  </thead>\n",
       "  <tbody>\n",
       "    <tr>\n",
       "      <th>count</th>\n",
       "      <td>100000.000000</td>\n",
       "      <td>100000.000000</td>\n",
       "      <td>100000.000000</td>\n",
       "      <td>100000.000000</td>\n",
       "    </tr>\n",
       "    <tr>\n",
       "      <th>mean</th>\n",
       "      <td>1.141296</td>\n",
       "      <td>-4.796579</td>\n",
       "      <td>2.494541</td>\n",
       "      <td>68.825000</td>\n",
       "    </tr>\n",
       "    <tr>\n",
       "      <th>std</th>\n",
       "      <td>8.965932</td>\n",
       "      <td>5.119872</td>\n",
       "      <td>1.703572</td>\n",
       "      <td>45.944423</td>\n",
       "    </tr>\n",
       "    <tr>\n",
       "      <th>min</th>\n",
       "      <td>-31.609576</td>\n",
       "      <td>-26.358598</td>\n",
       "      <td>-0.018144</td>\n",
       "      <td>0.000000</td>\n",
       "    </tr>\n",
       "    <tr>\n",
       "      <th>25%</th>\n",
       "      <td>-6.298551</td>\n",
       "      <td>-8.267985</td>\n",
       "      <td>1.000021</td>\n",
       "      <td>26.953261</td>\n",
       "    </tr>\n",
       "    <tr>\n",
       "      <th>50%</th>\n",
       "      <td>1.153055</td>\n",
       "      <td>-4.813172</td>\n",
       "      <td>2.011479</td>\n",
       "      <td>57.085625</td>\n",
       "    </tr>\n",
       "    <tr>\n",
       "      <th>75%</th>\n",
       "      <td>8.621015</td>\n",
       "      <td>-1.332816</td>\n",
       "      <td>3.999904</td>\n",
       "      <td>107.813044</td>\n",
       "    </tr>\n",
       "    <tr>\n",
       "      <th>max</th>\n",
       "      <td>29.421755</td>\n",
       "      <td>18.734063</td>\n",
       "      <td>5.019721</td>\n",
       "      <td>137.945408</td>\n",
       "    </tr>\n",
       "  </tbody>\n",
       "</table>\n",
       "</div>"
      ],
      "text/plain": [
       "                  f0             f1             f2        product\n",
       "count  100000.000000  100000.000000  100000.000000  100000.000000\n",
       "mean        1.141296      -4.796579       2.494541      68.825000\n",
       "std         8.965932       5.119872       1.703572      45.944423\n",
       "min       -31.609576     -26.358598      -0.018144       0.000000\n",
       "25%        -6.298551      -8.267985       1.000021      26.953261\n",
       "50%         1.153055      -4.813172       2.011479      57.085625\n",
       "75%         8.621015      -1.332816       3.999904     107.813044\n",
       "max        29.421755      18.734063       5.019721     137.945408"
      ]
     },
     "metadata": {},
     "output_type": "display_data"
    },
    {
     "name": "stdout",
     "output_type": "stream",
     "text": [
      "<class 'pandas.core.frame.DataFrame'>\n",
      "RangeIndex: 100000 entries, 0 to 99999\n",
      "Data columns (total 5 columns):\n",
      " #   Column   Non-Null Count   Dtype  \n",
      "---  ------   --------------   -----  \n",
      " 0   id       100000 non-null  object \n",
      " 1   f0       100000 non-null  float64\n",
      " 2   f1       100000 non-null  float64\n",
      " 3   f2       100000 non-null  float64\n",
      " 4   product  100000 non-null  float64\n",
      "dtypes: float64(4), object(1)\n",
      "memory usage: 3.8+ MB\n"
     ]
    },
    {
     "data": {
      "text/plain": [
       "None"
      ]
     },
     "metadata": {},
     "output_type": "display_data"
    },
    {
     "name": "stdout",
     "output_type": "stream",
     "text": [
      "\n",
      "---Region 3---\n"
     ]
    },
    {
     "data": {
      "text/html": [
       "<div>\n",
       "<style scoped>\n",
       "    .dataframe tbody tr th:only-of-type {\n",
       "        vertical-align: middle;\n",
       "    }\n",
       "\n",
       "    .dataframe tbody tr th {\n",
       "        vertical-align: top;\n",
       "    }\n",
       "\n",
       "    .dataframe thead th {\n",
       "        text-align: right;\n",
       "    }\n",
       "</style>\n",
       "<table border=\"1\" class=\"dataframe\">\n",
       "  <thead>\n",
       "    <tr style=\"text-align: right;\">\n",
       "      <th></th>\n",
       "      <th>id</th>\n",
       "      <th>f0</th>\n",
       "      <th>f1</th>\n",
       "      <th>f2</th>\n",
       "      <th>product</th>\n",
       "    </tr>\n",
       "  </thead>\n",
       "  <tbody>\n",
       "    <tr>\n",
       "      <th>0</th>\n",
       "      <td>fwXo0</td>\n",
       "      <td>-1.146987</td>\n",
       "      <td>0.963328</td>\n",
       "      <td>-0.828965</td>\n",
       "      <td>27.758673</td>\n",
       "    </tr>\n",
       "    <tr>\n",
       "      <th>1</th>\n",
       "      <td>WJtFt</td>\n",
       "      <td>0.262778</td>\n",
       "      <td>0.269839</td>\n",
       "      <td>-2.530187</td>\n",
       "      <td>56.069697</td>\n",
       "    </tr>\n",
       "    <tr>\n",
       "      <th>2</th>\n",
       "      <td>ovLUW</td>\n",
       "      <td>0.194587</td>\n",
       "      <td>0.289035</td>\n",
       "      <td>-5.586433</td>\n",
       "      <td>62.871910</td>\n",
       "    </tr>\n",
       "    <tr>\n",
       "      <th>3</th>\n",
       "      <td>q6cA6</td>\n",
       "      <td>2.236060</td>\n",
       "      <td>-0.553760</td>\n",
       "      <td>0.930038</td>\n",
       "      <td>114.572842</td>\n",
       "    </tr>\n",
       "    <tr>\n",
       "      <th>4</th>\n",
       "      <td>WPMUX</td>\n",
       "      <td>-0.515993</td>\n",
       "      <td>1.716266</td>\n",
       "      <td>5.899011</td>\n",
       "      <td>149.600746</td>\n",
       "    </tr>\n",
       "  </tbody>\n",
       "</table>\n",
       "</div>"
      ],
      "text/plain": [
       "      id        f0        f1        f2     product\n",
       "0  fwXo0 -1.146987  0.963328 -0.828965   27.758673\n",
       "1  WJtFt  0.262778  0.269839 -2.530187   56.069697\n",
       "2  ovLUW  0.194587  0.289035 -5.586433   62.871910\n",
       "3  q6cA6  2.236060 -0.553760  0.930038  114.572842\n",
       "4  WPMUX -0.515993  1.716266  5.899011  149.600746"
      ]
     },
     "metadata": {},
     "output_type": "display_data"
    },
    {
     "data": {
      "text/html": [
       "<div>\n",
       "<style scoped>\n",
       "    .dataframe tbody tr th:only-of-type {\n",
       "        vertical-align: middle;\n",
       "    }\n",
       "\n",
       "    .dataframe tbody tr th {\n",
       "        vertical-align: top;\n",
       "    }\n",
       "\n",
       "    .dataframe thead th {\n",
       "        text-align: right;\n",
       "    }\n",
       "</style>\n",
       "<table border=\"1\" class=\"dataframe\">\n",
       "  <thead>\n",
       "    <tr style=\"text-align: right;\">\n",
       "      <th></th>\n",
       "      <th>f0</th>\n",
       "      <th>f1</th>\n",
       "      <th>f2</th>\n",
       "      <th>product</th>\n",
       "    </tr>\n",
       "  </thead>\n",
       "  <tbody>\n",
       "    <tr>\n",
       "      <th>count</th>\n",
       "      <td>100000.000000</td>\n",
       "      <td>100000.000000</td>\n",
       "      <td>100000.000000</td>\n",
       "      <td>100000.000000</td>\n",
       "    </tr>\n",
       "    <tr>\n",
       "      <th>mean</th>\n",
       "      <td>0.002023</td>\n",
       "      <td>-0.002081</td>\n",
       "      <td>2.495128</td>\n",
       "      <td>95.000000</td>\n",
       "    </tr>\n",
       "    <tr>\n",
       "      <th>std</th>\n",
       "      <td>1.732045</td>\n",
       "      <td>1.730417</td>\n",
       "      <td>3.473445</td>\n",
       "      <td>44.749921</td>\n",
       "    </tr>\n",
       "    <tr>\n",
       "      <th>min</th>\n",
       "      <td>-8.760004</td>\n",
       "      <td>-7.084020</td>\n",
       "      <td>-11.970335</td>\n",
       "      <td>0.000000</td>\n",
       "    </tr>\n",
       "    <tr>\n",
       "      <th>25%</th>\n",
       "      <td>-1.162288</td>\n",
       "      <td>-1.174820</td>\n",
       "      <td>0.130359</td>\n",
       "      <td>59.450441</td>\n",
       "    </tr>\n",
       "    <tr>\n",
       "      <th>50%</th>\n",
       "      <td>0.009424</td>\n",
       "      <td>-0.009482</td>\n",
       "      <td>2.484236</td>\n",
       "      <td>94.925613</td>\n",
       "    </tr>\n",
       "    <tr>\n",
       "      <th>75%</th>\n",
       "      <td>1.158535</td>\n",
       "      <td>1.163678</td>\n",
       "      <td>4.858794</td>\n",
       "      <td>130.595027</td>\n",
       "    </tr>\n",
       "    <tr>\n",
       "      <th>max</th>\n",
       "      <td>7.238262</td>\n",
       "      <td>7.844801</td>\n",
       "      <td>16.739402</td>\n",
       "      <td>190.029838</td>\n",
       "    </tr>\n",
       "  </tbody>\n",
       "</table>\n",
       "</div>"
      ],
      "text/plain": [
       "                  f0             f1             f2        product\n",
       "count  100000.000000  100000.000000  100000.000000  100000.000000\n",
       "mean        0.002023      -0.002081       2.495128      95.000000\n",
       "std         1.732045       1.730417       3.473445      44.749921\n",
       "min        -8.760004      -7.084020     -11.970335       0.000000\n",
       "25%        -1.162288      -1.174820       0.130359      59.450441\n",
       "50%         0.009424      -0.009482       2.484236      94.925613\n",
       "75%         1.158535       1.163678       4.858794     130.595027\n",
       "max         7.238262       7.844801      16.739402     190.029838"
      ]
     },
     "metadata": {},
     "output_type": "display_data"
    },
    {
     "name": "stdout",
     "output_type": "stream",
     "text": [
      "<class 'pandas.core.frame.DataFrame'>\n",
      "RangeIndex: 100000 entries, 0 to 99999\n",
      "Data columns (total 5 columns):\n",
      " #   Column   Non-Null Count   Dtype  \n",
      "---  ------   --------------   -----  \n",
      " 0   id       100000 non-null  object \n",
      " 1   f0       100000 non-null  float64\n",
      " 2   f1       100000 non-null  float64\n",
      " 3   f2       100000 non-null  float64\n",
      " 4   product  100000 non-null  float64\n",
      "dtypes: float64(4), object(1)\n",
      "memory usage: 3.8+ MB\n"
     ]
    },
    {
     "data": {
      "text/plain": [
       "None"
      ]
     },
     "metadata": {},
     "output_type": "display_data"
    }
   ],
   "source": [
    "# Load the datasets for all regions\n",
    "region_1 = pd.read_csv('geo_data_0.csv')\n",
    "region_2 = pd.read_csv('geo_data_1.csv')\n",
    "region_3 = pd.read_csv('geo_data_2.csv')\n",
    "\n",
    "# Check the first few rows of each dataset to ensure they are loaded correctly and display info on each dataset\n",
    "print('---Region 1---')\n",
    "display(region_1.head())\n",
    "display(region_1.describe())\n",
    "display(region_1.info())\n",
    "print()\n",
    "print('---Region 2---')\n",
    "display(region_2.head())\n",
    "display(region_2.describe())\n",
    "display(region_2.info())\n",
    "print()\n",
    "print('---Region 3---')\n",
    "display(region_3.head())\n",
    "display(region_3.describe())\n",
    "display(region_3.info())"
   ]
  },
  {
   "cell_type": "markdown",
   "metadata": {},
   "source": [
    "There data has been loaded correctly, the amount of entries for each dataset is 100k and the data types are appropriate for each column. "
   ]
  },
  {
   "cell_type": "markdown",
   "metadata": {},
   "source": [
    "### Check for missing and duplicate values"
   ]
  },
  {
   "cell_type": "code",
   "execution_count": 3,
   "metadata": {},
   "outputs": [
    {
     "data": {
      "text/plain": [
       "id         0\n",
       "f0         0\n",
       "f1         0\n",
       "f2         0\n",
       "product    0\n",
       "dtype: int64"
      ]
     },
     "execution_count": 3,
     "metadata": {},
     "output_type": "execute_result"
    }
   ],
   "source": [
    "region_1.isna().sum()"
   ]
  },
  {
   "cell_type": "code",
   "execution_count": 4,
   "metadata": {},
   "outputs": [
    {
     "data": {
      "text/plain": [
       "0"
      ]
     },
     "execution_count": 4,
     "metadata": {},
     "output_type": "execute_result"
    }
   ],
   "source": [
    "region_1.duplicated().sum()"
   ]
  },
  {
   "cell_type": "code",
   "execution_count": 5,
   "metadata": {},
   "outputs": [
    {
     "data": {
      "text/plain": [
       "id         0\n",
       "f0         0\n",
       "f1         0\n",
       "f2         0\n",
       "product    0\n",
       "dtype: int64"
      ]
     },
     "execution_count": 5,
     "metadata": {},
     "output_type": "execute_result"
    }
   ],
   "source": [
    "region_2.isna().sum()"
   ]
  },
  {
   "cell_type": "code",
   "execution_count": 6,
   "metadata": {},
   "outputs": [
    {
     "data": {
      "text/plain": [
       "0"
      ]
     },
     "execution_count": 6,
     "metadata": {},
     "output_type": "execute_result"
    }
   ],
   "source": [
    "region_2.duplicated().sum()"
   ]
  },
  {
   "cell_type": "code",
   "execution_count": 7,
   "metadata": {},
   "outputs": [
    {
     "data": {
      "text/plain": [
       "id         0\n",
       "f0         0\n",
       "f1         0\n",
       "f2         0\n",
       "product    0\n",
       "dtype: int64"
      ]
     },
     "execution_count": 7,
     "metadata": {},
     "output_type": "execute_result"
    }
   ],
   "source": [
    "region_3.isna().sum()"
   ]
  },
  {
   "cell_type": "code",
   "execution_count": 8,
   "metadata": {},
   "outputs": [
    {
     "data": {
      "text/plain": [
       "0"
      ]
     },
     "execution_count": 8,
     "metadata": {},
     "output_type": "execute_result"
    }
   ],
   "source": [
    "region_3.duplicated().sum()"
   ]
  },
  {
   "cell_type": "markdown",
   "metadata": {},
   "source": [
    "There are no missing or duplicate values in any dataset. Next we will merge the datasets."
   ]
  },
  {
   "cell_type": "markdown",
   "metadata": {},
   "source": [
    "### Merge the data"
   ]
  },
  {
   "cell_type": "code",
   "execution_count": 9,
   "metadata": {},
   "outputs": [
    {
     "name": "stdout",
     "output_type": "stream",
     "text": [
      "           id         f0        f1        f2     product  region\n",
      "269629  pIWPh   2.477266  0.315327  3.992097   81.760878       3\n",
      "236326  965sd   2.385407 -1.276211  2.307246   50.595182       3\n",
      "121104  s2iVI  -4.296583 -5.023074  1.998230   57.085625       2\n",
      "238009  8wc6q   1.754906 -0.048720  1.186424   53.308387       3\n",
      "281065  PuPjO  -1.120449  0.237737  4.415641  128.938311       3\n",
      "34723   SeDSt   0.855366  0.491489 -3.662222    6.671557       1\n",
      "203184  yXUK5  -1.699264  0.020400 -0.979432   82.690849       3\n",
      "4862    6RagE   0.504381  0.682015  8.383180  146.856271       1\n",
      "142071  i3YXH  12.409739 -6.712204  2.997162   80.859783       2\n",
      "40671   DYAay  -0.953299  0.352732  3.124562  125.718542       1\n"
     ]
    }
   ],
   "source": [
    "# Add a column indicating the region for identification later\n",
    "region_1['region'] = 1\n",
    "region_2['region'] = 2\n",
    "region_3['region'] = 3\n",
    "\n",
    "# Combine all datasets into one\n",
    "region_data = pd.concat([region_1, region_2, region_3], ignore_index=True)\n",
    "\n",
    "# Check the combined data\n",
    "print(region_data.sample(10))"
   ]
  },
  {
   "cell_type": "markdown",
   "metadata": {},
   "source": [
    "## Train and Test the Model "
   ]
  },
  {
   "cell_type": "code",
   "execution_count": 10,
   "metadata": {},
   "outputs": [
    {
     "name": "stdout",
     "output_type": "stream",
     "text": [
      "--Region 1---\n",
      "RMSE: 37.58\n",
      "Average predicted volume: 92.59 thousand barrells\n",
      "\n",
      "--Region 2---\n",
      "RMSE: 0.89\n",
      "Average predicted volume: 68.77 thousand barrells\n",
      "\n",
      "--Region 3---\n",
      "RMSE: 39.96\n",
      "Average predicted volume: 95.09 thousand barrells\n",
      "\n"
     ]
    }
   ],
   "source": [
    "# Initialize the model\n",
    "model = LinearRegression()\n",
    "random_state = RandomState(12345)\n",
    "region_data['prediction'] = np.nan \n",
    "\n",
    "# Loop through each region in the combined dataset\n",
    "for region in region_data['region'].unique():\n",
    "    region_data_region = region_data[region_data['region'] == region]\n",
    "\n",
    "    # Features and target\n",
    "    X = region_data_region[['f0', 'f1', 'f2']]  # Features\n",
    "    y = region_data_region['product']  # Target (volume of reserves)\n",
    "    \n",
    "    # Split data into train and validation sets (75% train, 25% validation)\n",
    "    X_train, X_val, y_train, y_val = train_test_split(X, y, test_size=0.25, random_state=random_state)\n",
    "    \n",
    "    # Train the model\n",
    "    model.fit(X_train, y_train)\n",
    "    \n",
    "    # Predict for the entire region\n",
    "    y_pred_all = model.predict(X)  # Predictions for all rows in the region\n",
    "    \n",
    "    # Add predictions to the DataFrame for the entire region\n",
    "    region_data.loc[region_data_region.index, 'prediction'] = y_pred_all\n",
    "    \n",
    "    # Evaluate model on the validation set\n",
    "    y_pred_val = model.predict(X_val)\n",
    "    rmse = np.sqrt(mean_squared_error(y_val, y_pred_val))\n",
    "    avg_predicted_volume = np.mean(y_pred_val)\n",
    "    \n",
    "    # Print model evaluation for region\n",
    "    print(f\"--Region {region}---\")\n",
    "    print(f\"RMSE: {rmse:.2f}\")\n",
    "    print(f\"Average predicted volume: {avg_predicted_volume:.2f} thousand barrells\")\n",
    "    print()"
   ]
  },
  {
   "cell_type": "markdown",
   "metadata": {},
   "source": [
    "(RMSE):\n",
    "Region 2 has the lowest RMSE, indicating that the model's predictions are the most accurate in this region. A lower RMSE implies better model performance. Region 1 and Region 3 have higher RMSE values, especially Region 3, suggesting that the model has less predictive accuracy in these regions compared to Region 2. This could imply that the model is not capturing the relationship as well in these regions, possibly due to outliers or non-linear relationships in the data. I will check for outliers in these two regions.\n",
    "\n",
    "(Average predicted volume):\n",
    "The predicted volumes are relatively similar across all regions, but Region 3 has the highest average predicted volume. This suggests that the model expects larger reserves in Region 3 on average compared to the other regions.\n",
    "We will check again after the outliers are identified and handled. \n"
   ]
  },
  {
   "cell_type": "markdown",
   "metadata": {},
   "source": [
    "### Check for Outliers "
   ]
  },
  {
   "cell_type": "code",
   "execution_count": 11,
   "metadata": {},
   "outputs": [
    {
     "data": {
      "image/png": "[encoded data removed]",
      "text/plain": [
       "<Figure size 2000x600 with 4 Axes>"
      ]
     },
     "metadata": {},
     "output_type": "display_data"
    },
    {
     "data": {
      "image/png": "[encoded data removed]",
      "text/plain": [
       "<Figure size 2000x600 with 4 Axes>"
      ]
     },
     "metadata": {},
     "output_type": "display_data"
    }
   ],
   "source": [
    "# Set up the plot style for better visualization\n",
    "sns.set(style=\"whitegrid\")\n",
    "\n",
    "# Plot boxplots for each feature and target variable for Region 1 and Region 3\n",
    "for region in [1, 3]: \n",
    "    # Box plots for features (f0, f1, f2) and the target variable (product)\n",
    "    fig, axes = plt.subplots(1, 4, figsize=(20, 6))\n",
    "    fig.suptitle(f\"Box Plots for Region {region}\")\n",
    "    \n",
    "    sns.boxplot(data=region_data_region[['f0']], ax=axes[0])\n",
    "    axes[0].set_title(\"f0\")\n",
    "    \n",
    "    sns.boxplot(data=region_data_region[['f1']], ax=axes[1])\n",
    "    axes[1].set_title(\"f1\")\n",
    "    \n",
    "    sns.boxplot(data=region_data_region[['f2']], ax=axes[2])\n",
    "    axes[2].set_title(\"f2\")\n",
    "    \n",
    "    sns.boxplot(data=region_data_region[['product']], ax=axes[3])\n",
    "    axes[3].set_title(\"Product\")\n",
    "    \n",
    "    plt.tight_layout()\n",
    "    plt.subplots_adjust(top=0.85)\n",
    "    plt.show()"
   ]
  },
  {
   "cell_type": "markdown",
   "metadata": {},
   "source": [
    "There appears to be outliers in 'f2' for region 1 and region 3 is showing them in 'f0', 'f1' and 'f2'. I will remove the outliers to see if it improves the model. "
   ]
  },
  {
   "cell_type": "markdown",
   "metadata": {},
   "source": [
    "### Remove Outliers"
   ]
  },
  {
   "cell_type": "code",
   "execution_count": 12,
   "metadata": {},
   "outputs": [
    {
     "name": "stdout",
     "output_type": "stream",
     "text": [
      "Region 1 cleaned data: 99494 rows remaining after removing outliers.\n",
      "Region 3 cleaned data: 98003 rows remaining after removing outliers.\n"
     ]
    }
   ],
   "source": [
    "def remove_outliers(df, columns):\n",
    "    # Calculate the IQR for each column\n",
    "    for column in columns:\n",
    "        Q1 = df[column].quantile(0.25)\n",
    "        Q3 = df[column].quantile(0.75)\n",
    "        IQR = Q3 - Q1\n",
    "        \n",
    "        # Determine the outlier bounds\n",
    "        lower_bound = Q1 - 1.5 * IQR\n",
    "        upper_bound = Q3 + 1.5 * IQR\n",
    "        \n",
    "        # Remove the rows with outliers\n",
    "        df = df[(df[column] >= lower_bound) & (df[column] <= upper_bound)]\n",
    "    \n",
    "    return df\n",
    "\n",
    "# Remove outliers for Region 1 and Region 3\n",
    "for region in [1, 3]:\n",
    "    region_data_region = region_data[region_data['region'] == region]\n",
    "    region_data_clean = remove_outliers(region_data_region, ['f0', 'f1', 'f2', 'product'])\n",
    "    \n",
    "    print(f\"Region {region} cleaned data: {region_data_clean.shape[0]} rows remaining after removing outliers.\")"
   ]
  },
  {
   "cell_type": "code",
   "execution_count": 13,
   "metadata": {},
   "outputs": [
    {
     "data": {
      "image/png": "[encoded data removed]",
      "text/plain": [
       "<Figure size 2000x600 with 4 Axes>"
      ]
     },
     "metadata": {},
     "output_type": "display_data"
    },
    {
     "data": {
      "image/png": "[encoded data removed]",
      "text/plain": [
       "<Figure size 2000x600 with 4 Axes>"
      ]
     },
     "metadata": {},
     "output_type": "display_data"
    }
   ],
   "source": [
    "region_data_clean = remove_outliers(region_data_region, ['f0', 'f1', 'f2', 'product'])\n",
    "    \n",
    "# Visualize again after removing outliers\n",
    "for region in [1, 3]:\n",
    "    # Plot boxplots for cleaned data\n",
    "    fig, axes = plt.subplots(1, 4, figsize=(20, 6))\n",
    "    fig.suptitle(f\"Box Plots After Removing Outliers - Region {region}\")\n",
    "    \n",
    "    sns.boxplot(data=region_data_clean[['f0']], ax=axes[0])\n",
    "    axes[0].set_title(\"f0\")\n",
    "    \n",
    "    sns.boxplot(data=region_data_clean[['f1']], ax=axes[1])\n",
    "    axes[1].set_title(\"f1\")\n",
    "    \n",
    "    sns.boxplot(data=region_data_clean[['f2']], ax=axes[2])\n",
    "    axes[2].set_title(\"f2\")\n",
    "    \n",
    "    sns.boxplot(data=region_data_clean[['product']], ax=axes[3])\n",
    "    axes[3].set_title(\"Product\")\n",
    "    \n",
    "    plt.tight_layout()\n",
    "    plt.subplots_adjust(top=0.85)\n",
    "    plt.show()\n"
   ]
  },
  {
   "cell_type": "markdown",
   "metadata": {},
   "source": [
    "Both regions appear to be in better condition now, so we can run the model again to assess the 'RMSE' and 'Average predicted volume'"
   ]
  },
  {
   "cell_type": "markdown",
   "metadata": {},
   "source": [
    "### Confirm Model performance after removing outliers"
   ]
  },
  {
   "cell_type": "code",
   "execution_count": 14,
   "metadata": {},
   "outputs": [
    {
     "name": "stdout",
     "output_type": "stream",
     "text": [
      "--Region 1 (After Outlier Removal)--\n",
      "RMSE: 39.96\n",
      "Average predicted volume: 95.09 thousand barrels\n",
      "\n",
      "--Region 3 (After Outlier Removal)--\n",
      "RMSE: 39.96\n",
      "Average predicted volume: 95.09 thousand barrels\n",
      "\n"
     ]
    }
   ],
   "source": [
    "for region in [1, 3]:\n",
    "     # Calculate RMSE and average predicted volume\n",
    "    rmse = np.sqrt(mean_squared_error(y_val, y_pred_val))\n",
    "    avg_predicted_volume = np.mean(y_pred_val)\n",
    "    \n",
    "    # Print model evaluation for region\n",
    "    print(f\"--Region {region} (After Outlier Removal)--\")\n",
    "    print(f\"RMSE: {rmse:.2f}\")\n",
    "    print(f\"Average predicted volume: {avg_predicted_volume:.2f} thousand barrels\")\n",
    "    print()"
   ]
  },
  {
   "cell_type": "markdown",
   "metadata": {},
   "source": [
    "The RMSE didn't see much change after removing the outliers, which suggests that they didn't have a significant effect on the model. I am unsure how to improve the models accuracy."
   ]
  },
  {
   "cell_type": "markdown",
   "metadata": {},
   "source": [
    "## Prepare for Profit Calculation"
   ]
  },
  {
   "cell_type": "code",
   "execution_count": 15,
   "metadata": {},
   "outputs": [
    {
     "name": "stdout",
     "output_type": "stream",
     "text": [
      "Break-even volume per well: 111.11 thousand barrels\n",
      "\n",
      "Average volumes per region:\n",
      "region\n",
      "1    92.500\n",
      "2    68.825\n",
      "3    95.000\n",
      "Name: product, dtype: float64\n",
      "\n",
      "Comparison with break-even volume:\n",
      "Region 1: Avg Volume = 92.50 thousand barrels, Not Feasible\n",
      "Region 2: Avg Volume = 68.83 thousand barrels, Not Feasible\n",
      "Region 3: Avg Volume = 95.00 thousand barrels, Not Feasible\n"
     ]
    }
   ],
   "source": [
    "# Define constants for profit calculation\n",
    "development_budget = 100000000   # Total budget in USD\n",
    "wells_to_develop = 200  # Number of wells to develop\n",
    "revenue_per_barrel = 4500   # Revenue in USD \n",
    "\n",
    "# Calculate break-even volume per well\n",
    "cost_per_well = development_budget / wells_to_develop\n",
    "break_even_volume = cost_per_well / revenue_per_barrel  # in thousand barrels\n",
    "\n",
    "print(f\"Break-even volume per well: {break_even_volume:.2f} thousand barrels\")\n",
    "\n",
    "# Calculate the average volume per well for each region\n",
    "average_volume_per_region = region_data.groupby('region')['product'].mean()\n",
    "\n",
    "print(\"\\nAverage volumes per region:\")\n",
    "print(average_volume_per_region)\n",
    "\n",
    "# Compare break-even volume with average volume\n",
    "print(\"\\nComparison with break-even volume:\")\n",
    "for region, avg_volume in average_volume_per_region.items():\n",
    "    feasibility = \"Feasible\" if avg_volume > break_even_volume else \"Not Feasible\"\n",
    "    print(f\"Region {region}: Avg Volume = {avg_volume:.2f} thousand barrels, {feasibility}\")"
   ]
  },
  {
   "cell_type": "markdown",
   "metadata": {},
   "source": [
    "None of the regions have an average volume of reserves that meets the break-even requirement of 111.11 thousand barrels per well. This suggests that based on average volumes alone, none of the regions are economically viable for oil development."
   ]
  },
  {
   "cell_type": "markdown",
   "metadata": {},
   "source": [
    "## Risk Calculation using Bootstrapping"
   ]
  },
  {
   "cell_type": "code",
   "execution_count": 16,
   "metadata": {},
   "outputs": [
    {
     "name": "stdout",
     "output_type": "stream",
     "text": [
      "Region 1:\n",
      "  Average Profit: $4,645,587.52\n",
      "  95% Confidence Interval: ($-569,289.39, $10,139,508.50)\n",
      "  Risk of Loss: 4.60%\n",
      "\n",
      "Region 2:\n",
      "  Average Profit: $4,932,149.17\n",
      "  95% Confidence Interval: ($879,763.49, $9,302,973.75)\n",
      "  Risk of Loss: 0.70%\n",
      "\n",
      "Region 3:\n",
      "  Average Profit: $4,234,544.33\n",
      "  95% Confidence Interval: ($-1,222,070.74, $10,066,152.14)\n",
      "  Risk of Loss: 6.10%\n",
      "\n",
      "---------------\n",
      "Best Region: 2\n",
      "  Average Profit: $4,932,149.17\n",
      "  95% Confidence Interval: ($879,763.49, $9,302,973.75)\n",
      "  Risk of Loss: 0.70%\n"
     ]
    }
   ],
   "source": [
    "sample_size = 500  # Number of wells to sample for bootstrap\n",
    "top_wells = 200  # Number of top wells based on predictions\n",
    "\n",
    "# Dictionary to store results for each region\n",
    "results = {}\n",
    "\n",
    "# Perform bootstrapping for each region\n",
    "for region in region_data['region'].unique():\n",
    "    region_data_region = region_data[region_data['region'] == region]\n",
    "    target = region_data_region['product']\n",
    "    predictions = region_data_region['prediction']  \n",
    "    profits = []\n",
    "\n",
    "    for i in range(1000):  # 1000 bootstrap samples\n",
    "        # Randomly sample 500 points\n",
    "        sampled_indices = region_data_region.sample(sample_size, replace=True, random_state=random_state).index\n",
    "        \n",
    "        # Get predictions and corresponding targets for the sampled points\n",
    "        sampled_predictions = region_data_region.loc[sampled_indices, 'prediction']\n",
    "        sampled_targets = region_data_region.loc[sampled_indices, 'product']\n",
    "        \n",
    "        # Select the top 200 points by prediction\n",
    "        top_200_predictions = sampled_predictions.sort_values(ascending=False).head(top_wells)\n",
    "        top_200_indices = top_200_predictions.index\n",
    "        \n",
    "        # Get targets corresponding to the top 200 predictions\n",
    "        top_200_targets = sampled_targets.loc[top_200_indices]\n",
    "        \n",
    "        # Calculate total revenue and profit\n",
    "        total_reserves = top_200_targets.sum()\n",
    "        revenue = total_reserves * revenue_per_barrel\n",
    "        profit = revenue - development_budget\n",
    "        profits.append(profit)\n",
    "    \n",
    "    # Convert profits to pandas Series for quantile calculations\n",
    "    profits = pd.Series(profits)\n",
    "    \n",
    "    # Calculate metrics\n",
    "    avg_profit = np.mean(profits)\n",
    "    ci_lower = profits.quantile(0.025)\n",
    "    ci_upper = profits.quantile(0.975)\n",
    "    risk_of_loss = np.mean(profits < 0) * 100\n",
    "    \n",
    "    # Store results if risk of loss < 2.5%\n",
    "    if risk_of_loss < 2.5:\n",
    "        results[region] = {\n",
    "            'avg_profit': avg_profit,\n",
    "            'ci_lower': ci_lower,\n",
    "            'ci_upper': ci_upper,\n",
    "            'risk_of_loss': risk_of_loss\n",
    "        }\n",
    "    \n",
    "    # Print results for the region\n",
    "    print(f\"Region {region}:\")\n",
    "    print(f\"  Average Profit: ${avg_profit:,.2f}\")\n",
    "    print(f\"  95% Confidence Interval: (${ci_lower:,.2f}, ${ci_upper:,.2f})\")\n",
    "    print(f\"  Risk of Loss: {risk_of_loss:.2f}%\")\n",
    "    print()\n",
    "    \n",
    "print('---------------')\n",
    "# Select the region with the highest average profit\n",
    "if results:\n",
    "    best_region = max(results, key=lambda x: results[x]['avg_profit'])\n",
    "    print(f\"Best Region: {best_region}\")\n",
    "    print(f\"  Average Profit: ${results[best_region]['avg_profit']:,.2f}\")\n",
    "    print(f\"  95% Confidence Interval: (${results[best_region]['ci_lower']:,.2f}, ${results[best_region]['ci_upper']:,.2f})\")\n",
    "    print(f\"  Risk of Loss: {results[best_region]['risk_of_loss']:.2f}%\")\n",
    "else:\n",
    "    print(\"No region meets the risk of loss criteria.\")"
   ]
  },
  {
   "cell_type": "markdown",
   "metadata": {},
   "source": [
    "## Conclusion"
   ]
  },
  {
   "cell_type": "markdown",
   "metadata": {},
   "source": [
    "The project specifies that only regions with a risk of loss below 2.5 percent are suitable for development. Region 2 meets this threshold and seems to be the most suitable for development. The break-even volume per well is 111.11 thousand barrels, but the average product volume for all regions is below this threshold. While none of the regions meet the break-even volume requirement, this does not necessarily disqualify them for development because the profit calculations account for predicted production (which is more refined than average volume). We'll still assess based on profits and loss risks.\n",
    "\n",
    "Region 2 has the highest average profit (5,121,188.77 USD) and a positive confidence interval (95 percent CI: 818,185.66 to 9,239,078.97 USD). This indicates strong expected profitability with a reasonable margin of certainty. Region 1 has an average profit of $4,851,245.26 but a wide confidence interval (95 percent CI: -215,894.34 to 10,193,563.04 USD), suggesting uncertainty and the possibility of losses. Region 3 has the lowest average profit (4,146,939.43 USD) and the greatest uncertainty, with a negative lower bound and a high risk of loss (6.60 percent).\n",
    "\n",
    "Region 2 is the best choice for development because it meets the risk of loss criteria (1.10 percent), has the highest average profit (5,121,188.77 USD), and benefits from highly accurate predictions (RMSE = 0.89). Proceed with development in Region 2 as it balances profitability, low risk, and prediction accuracy effectively.\n"
   ]
  }
 ],
 "metadata": {
  "ExecuteTimeLog": [
   {
    "duration": 288,
    "start_time": "2024-12-06T14:25:03.464Z"
   },
   {
    "duration": 504,
    "start_time": "2024-12-06T14:27:26.458Z"
   },
   {
    "duration": 98,
    "start_time": "2024-12-06T14:44:36.692Z"
   },
   {
    "duration": 265,
    "start_time": "2024-12-06T14:45:31.402Z"
   },
   {
    "duration": 217,
    "start_time": "2024-12-06T14:45:58.387Z"
   },
   {
    "duration": 10,
    "start_time": "2024-12-06T14:47:39.212Z"
   },
   {
    "duration": 12,
    "start_time": "2024-12-06T14:47:57.747Z"
   },
   {
    "duration": 11,
    "start_time": "2024-12-06T14:48:06.674Z"
   },
   {
    "duration": 13,
    "start_time": "2024-12-06T14:48:14.101Z"
   },
   {
    "duration": 11,
    "start_time": "2024-12-06T14:48:25.284Z"
   },
   {
    "duration": 11,
    "start_time": "2024-12-06T14:48:49.309Z"
   },
   {
    "duration": 12,
    "start_time": "2024-12-06T14:48:51.081Z"
   },
   {
    "duration": 214,
    "start_time": "2024-12-06T14:48:55.801Z"
   },
   {
    "duration": 11,
    "start_time": "2024-12-06T14:48:56.741Z"
   },
   {
    "duration": 10,
    "start_time": "2024-12-06T14:48:57.353Z"
   },
   {
    "duration": 12,
    "start_time": "2024-12-06T14:48:58.893Z"
   },
   {
    "duration": 26,
    "start_time": "2024-12-06T14:49:10.900Z"
   },
   {
    "duration": 24,
    "start_time": "2024-12-06T14:50:48.987Z"
   },
   {
    "duration": 5,
    "start_time": "2024-12-06T14:51:24.610Z"
   },
   {
    "duration": 4,
    "start_time": "2024-12-06T14:51:38.530Z"
   },
   {
    "duration": 24,
    "start_time": "2024-12-06T14:52:02.096Z"
   },
   {
    "duration": 4,
    "start_time": "2024-12-06T14:52:08.863Z"
   },
   {
    "duration": 10,
    "start_time": "2024-12-06T15:11:47.532Z"
   },
   {
    "duration": 9,
    "start_time": "2024-12-06T15:12:02.659Z"
   },
   {
    "duration": 9,
    "start_time": "2024-12-06T15:12:12.263Z"
   },
   {
    "duration": 9,
    "start_time": "2024-12-06T15:54:36.644Z"
   },
   {
    "duration": 159,
    "start_time": "2024-12-06T16:54:20.026Z"
   },
   {
    "duration": 296,
    "start_time": "2024-12-06T16:54:29.281Z"
   },
   {
    "duration": 307,
    "start_time": "2024-12-06T16:54:29.579Z"
   },
   {
    "duration": 14,
    "start_time": "2024-12-06T16:54:29.888Z"
   },
   {
    "duration": 24,
    "start_time": "2024-12-06T16:54:29.903Z"
   },
   {
    "duration": 26,
    "start_time": "2024-12-06T16:54:29.930Z"
   },
   {
    "duration": 4,
    "start_time": "2024-12-06T16:54:29.958Z"
   },
   {
    "duration": 32,
    "start_time": "2024-12-06T16:54:29.964Z"
   },
   {
    "duration": 35,
    "start_time": "2024-12-06T16:54:29.998Z"
   },
   {
    "duration": 13,
    "start_time": "2024-12-06T16:54:30.034Z"
   },
   {
    "duration": 25,
    "start_time": "2024-12-06T16:54:30.049Z"
   },
   {
    "duration": 5,
    "start_time": "2024-12-06T16:54:30.076Z"
   },
   {
    "duration": 9,
    "start_time": "2024-12-06T16:54:30.083Z"
   },
   {
    "duration": 11,
    "start_time": "2024-12-06T16:54:30.125Z"
   },
   {
    "duration": 25,
    "start_time": "2024-12-06T16:54:30.138Z"
   },
   {
    "duration": 5,
    "start_time": "2024-12-06T16:54:30.164Z"
   },
   {
    "duration": 32,
    "start_time": "2024-12-06T16:55:09.181Z"
   },
   {
    "duration": 33,
    "start_time": "2024-12-06T16:55:29.452Z"
   },
   {
    "duration": 155,
    "start_time": "2024-12-07T15:32:06.668Z"
   },
   {
    "duration": 273,
    "start_time": "2024-12-07T15:32:15.531Z"
   },
   {
    "duration": 279,
    "start_time": "2024-12-07T15:32:15.806Z"
   },
   {
    "duration": 14,
    "start_time": "2024-12-07T15:32:16.087Z"
   },
   {
    "duration": 11,
    "start_time": "2024-12-07T15:32:16.103Z"
   },
   {
    "duration": 40,
    "start_time": "2024-12-07T15:32:16.116Z"
   },
   {
    "duration": 4,
    "start_time": "2024-12-07T15:32:16.159Z"
   },
   {
    "duration": 31,
    "start_time": "2024-12-07T15:32:16.165Z"
   },
   {
    "duration": 7,
    "start_time": "2024-12-07T15:32:16.198Z"
   },
   {
    "duration": 36,
    "start_time": "2024-12-07T15:32:16.206Z"
   },
   {
    "duration": 10,
    "start_time": "2024-12-07T15:32:16.245Z"
   },
   {
    "duration": 24,
    "start_time": "2024-12-07T15:32:16.256Z"
   },
   {
    "duration": 4,
    "start_time": "2024-12-07T15:32:16.282Z"
   },
   {
    "duration": 32,
    "start_time": "2024-12-07T15:32:16.287Z"
   },
   {
    "duration": 10,
    "start_time": "2024-12-07T15:32:16.343Z"
   },
   {
    "duration": 10,
    "start_time": "2024-12-07T15:32:16.355Z"
   },
   {
    "duration": 24,
    "start_time": "2024-12-07T15:32:16.367Z"
   },
   {
    "duration": 5,
    "start_time": "2024-12-07T15:32:16.392Z"
   },
   {
    "duration": 66,
    "start_time": "2024-12-07T15:32:16.399Z"
   },
   {
    "duration": 9,
    "start_time": "2024-12-07T15:32:45.362Z"
   },
   {
    "duration": 10,
    "start_time": "2024-12-07T15:32:50.037Z"
   },
   {
    "duration": 9,
    "start_time": "2024-12-07T15:32:53.357Z"
   },
   {
    "duration": 9,
    "start_time": "2024-12-07T15:32:55.588Z"
   },
   {
    "duration": 9,
    "start_time": "2024-12-07T15:32:57.573Z"
   },
   {
    "duration": 9,
    "start_time": "2024-12-07T15:32:59.158Z"
   },
   {
    "duration": 10,
    "start_time": "2024-12-07T15:33:00.403Z"
   },
   {
    "duration": 9,
    "start_time": "2024-12-07T15:33:01.808Z"
   },
   {
    "duration": 8,
    "start_time": "2024-12-07T15:33:08.594Z"
   },
   {
    "duration": 10,
    "start_time": "2024-12-07T15:33:12.841Z"
   },
   {
    "duration": 10,
    "start_time": "2024-12-07T15:33:28.413Z"
   },
   {
    "duration": 213,
    "start_time": "2024-12-07T15:37:05.254Z"
   },
   {
    "duration": 10,
    "start_time": "2024-12-07T15:37:07.799Z"
   },
   {
    "duration": 9,
    "start_time": "2024-12-07T15:37:12.088Z"
   },
   {
    "duration": 224,
    "start_time": "2024-12-07T15:37:14.551Z"
   },
   {
    "duration": 10,
    "start_time": "2024-12-07T15:37:16.099Z"
   },
   {
    "duration": 11,
    "start_time": "2024-12-07T15:37:18.293Z"
   },
   {
    "duration": 24,
    "start_time": "2024-12-07T15:37:24.379Z"
   },
   {
    "duration": 274,
    "start_time": "2024-12-07T15:37:34.921Z"
   },
   {
    "duration": 231,
    "start_time": "2024-12-07T15:37:35.197Z"
   },
   {
    "duration": 175,
    "start_time": "2024-12-07T15:37:35.429Z"
   },
   {
    "duration": 0,
    "start_time": "2024-12-07T15:37:35.607Z"
   },
   {
    "duration": 0,
    "start_time": "2024-12-07T15:37:35.608Z"
   },
   {
    "duration": 0,
    "start_time": "2024-12-07T15:37:35.609Z"
   },
   {
    "duration": 0,
    "start_time": "2024-12-07T15:37:35.611Z"
   },
   {
    "duration": 0,
    "start_time": "2024-12-07T15:37:35.613Z"
   },
   {
    "duration": 0,
    "start_time": "2024-12-07T15:37:35.614Z"
   },
   {
    "duration": 0,
    "start_time": "2024-12-07T15:37:35.616Z"
   },
   {
    "duration": 0,
    "start_time": "2024-12-07T15:37:35.617Z"
   },
   {
    "duration": 0,
    "start_time": "2024-12-07T15:37:35.618Z"
   },
   {
    "duration": 0,
    "start_time": "2024-12-07T15:37:35.643Z"
   },
   {
    "duration": 0,
    "start_time": "2024-12-07T15:37:35.645Z"
   },
   {
    "duration": 0,
    "start_time": "2024-12-07T15:37:35.646Z"
   },
   {
    "duration": 0,
    "start_time": "2024-12-07T15:37:35.647Z"
   },
   {
    "duration": 0,
    "start_time": "2024-12-07T15:37:35.648Z"
   },
   {
    "duration": 13,
    "start_time": "2024-12-07T15:37:58.570Z"
   },
   {
    "duration": 13,
    "start_time": "2024-12-07T15:38:09.296Z"
   },
   {
    "duration": 14,
    "start_time": "2024-12-07T15:38:21.422Z"
   },
   {
    "duration": 11,
    "start_time": "2024-12-07T15:38:24.180Z"
   },
   {
    "duration": 28,
    "start_time": "2024-12-07T15:38:33.104Z"
   },
   {
    "duration": 4,
    "start_time": "2024-12-07T15:38:39.006Z"
   },
   {
    "duration": 35,
    "start_time": "2024-12-07T15:38:44.992Z"
   },
   {
    "duration": 10,
    "start_time": "2024-12-07T15:38:53.682Z"
   },
   {
    "duration": 11,
    "start_time": "2024-12-07T15:39:01.978Z"
   },
   {
    "duration": 11,
    "start_time": "2024-12-07T15:39:06.681Z"
   },
   {
    "duration": 25,
    "start_time": "2024-12-07T15:39:14.627Z"
   },
   {
    "duration": 5,
    "start_time": "2024-12-07T15:39:21.881Z"
   },
   {
    "duration": 14,
    "start_time": "2024-12-07T15:40:53.830Z"
   },
   {
    "duration": 161,
    "start_time": "2024-12-07T15:41:16.258Z"
   },
   {
    "duration": 59,
    "start_time": "2024-12-07T15:41:49.029Z"
   },
   {
    "duration": 54,
    "start_time": "2024-12-07T15:42:28.191Z"
   },
   {
    "duration": 59,
    "start_time": "2024-12-07T15:42:52.538Z"
   },
   {
    "duration": 2,
    "start_time": "2024-12-07T15:43:07.694Z"
   },
   {
    "duration": 4,
    "start_time": "2024-12-07T15:46:14.230Z"
   },
   {
    "duration": 3,
    "start_time": "2024-12-07T15:47:41.227Z"
   },
   {
    "duration": 3,
    "start_time": "2024-12-07T15:47:47.365Z"
   },
   {
    "duration": 61,
    "start_time": "2024-12-07T15:47:51.343Z"
   },
   {
    "duration": 5,
    "start_time": "2024-12-07T15:48:47.947Z"
   },
   {
    "duration": 3,
    "start_time": "2024-12-07T15:48:53.194Z"
   },
   {
    "duration": 67,
    "start_time": "2024-12-07T15:48:58.142Z"
   },
   {
    "duration": 3,
    "start_time": "2024-12-07T15:49:39.256Z"
   },
   {
    "duration": 60,
    "start_time": "2024-12-07T15:49:43.015Z"
   },
   {
    "duration": 3,
    "start_time": "2024-12-07T15:49:49.321Z"
   },
   {
    "duration": 3,
    "start_time": "2024-12-07T15:50:01.022Z"
   },
   {
    "duration": 62,
    "start_time": "2024-12-07T15:50:18.641Z"
   },
   {
    "duration": 2448,
    "start_time": "2024-12-07T15:58:49.438Z"
   },
   {
    "duration": 63,
    "start_time": "2024-12-07T16:08:14.937Z"
   },
   {
    "duration": 454,
    "start_time": "2024-12-07T16:15:56.638Z"
   },
   {
    "duration": 431,
    "start_time": "2024-12-07T16:16:21.985Z"
   },
   {
    "duration": 839,
    "start_time": "2024-12-07T16:54:30.425Z"
   },
   {
    "duration": 46,
    "start_time": "2024-12-07T17:35:59.697Z"
   },
   {
    "duration": 7,
    "start_time": "2024-12-07T17:49:23.197Z"
   },
   {
    "duration": 134,
    "start_time": "2024-12-07T17:59:57.847Z"
   },
   {
    "duration": 5,
    "start_time": "2024-12-07T18:43:02.335Z"
   },
   {
    "duration": 155,
    "start_time": "2024-12-08T15:34:29.434Z"
   },
   {
    "duration": 2649,
    "start_time": "2024-12-08T15:34:40.753Z"
   },
   {
    "duration": 321,
    "start_time": "2024-12-08T15:34:43.405Z"
   },
   {
    "duration": 3,
    "start_time": "2024-12-08T15:34:43.728Z"
   },
   {
    "duration": 68,
    "start_time": "2024-12-08T15:34:43.733Z"
   },
   {
    "duration": 57,
    "start_time": "2024-12-08T15:34:43.804Z"
   },
   {
    "duration": 75,
    "start_time": "2024-12-08T15:34:43.863Z"
   },
   {
    "duration": 448,
    "start_time": "2024-12-08T15:34:43.940Z"
   },
   {
    "duration": 818,
    "start_time": "2024-12-08T15:34:44.390Z"
   },
   {
    "duration": 45,
    "start_time": "2024-12-08T15:34:45.209Z"
   },
   {
    "duration": 11,
    "start_time": "2024-12-08T15:34:45.256Z"
   },
   {
    "duration": 17,
    "start_time": "2024-12-08T15:34:45.269Z"
   },
   {
    "duration": 464,
    "start_time": "2024-12-08T15:43:41.762Z"
   },
   {
    "duration": 222,
    "start_time": "2024-12-08T15:43:57.484Z"
   },
   {
    "duration": 991,
    "start_time": "2024-12-08T15:45:03.623Z"
   },
   {
    "duration": 217,
    "start_time": "2024-12-08T15:45:04.616Z"
   },
   {
    "duration": 4,
    "start_time": "2024-12-08T15:45:04.835Z"
   },
   {
    "duration": 77,
    "start_time": "2024-12-08T15:45:04.842Z"
   },
   {
    "duration": 65,
    "start_time": "2024-12-08T15:45:04.921Z"
   },
   {
    "duration": 62,
    "start_time": "2024-12-08T15:45:04.988Z"
   },
   {
    "duration": 486,
    "start_time": "2024-12-08T15:45:05.052Z"
   },
   {
    "duration": 719,
    "start_time": "2024-12-08T15:45:05.540Z"
   },
   {
    "duration": 64,
    "start_time": "2024-12-08T15:45:06.261Z"
   },
   {
    "duration": 7,
    "start_time": "2024-12-08T15:45:06.328Z"
   },
   {
    "duration": 4,
    "start_time": "2024-12-08T15:45:06.336Z"
   },
   {
    "duration": 221,
    "start_time": "2024-12-08T15:45:06.342Z"
   },
   {
    "duration": 5,
    "start_time": "2024-12-08T15:54:05.288Z"
   },
   {
    "duration": 202,
    "start_time": "2024-12-08T15:54:21.343Z"
   },
   {
    "duration": 4,
    "start_time": "2024-12-08T15:54:25.942Z"
   },
   {
    "duration": 904,
    "start_time": "2024-12-08T15:54:36.565Z"
   },
   {
    "duration": 219,
    "start_time": "2024-12-08T15:54:37.471Z"
   },
   {
    "duration": 3,
    "start_time": "2024-12-08T15:54:37.692Z"
   },
   {
    "duration": 60,
    "start_time": "2024-12-08T15:54:37.699Z"
   },
   {
    "duration": 78,
    "start_time": "2024-12-08T15:54:37.761Z"
   },
   {
    "duration": 75,
    "start_time": "2024-12-08T15:54:37.841Z"
   },
   {
    "duration": 456,
    "start_time": "2024-12-08T15:54:37.918Z"
   },
   {
    "duration": 777,
    "start_time": "2024-12-08T15:54:38.376Z"
   },
   {
    "duration": 59,
    "start_time": "2024-12-08T15:54:39.155Z"
   },
   {
    "duration": 7,
    "start_time": "2024-12-08T15:54:39.217Z"
   },
   {
    "duration": 4,
    "start_time": "2024-12-08T15:54:39.226Z"
   },
   {
    "duration": 215,
    "start_time": "2024-12-08T15:54:39.231Z"
   },
   {
    "duration": 5,
    "start_time": "2024-12-08T15:54:56.615Z"
   },
   {
    "duration": 10,
    "start_time": "2024-12-08T15:55:06.842Z"
   },
   {
    "duration": 4,
    "start_time": "2024-12-08T15:55:35.302Z"
   },
   {
    "duration": 9,
    "start_time": "2024-12-08T15:55:43.755Z"
   },
   {
    "duration": 226,
    "start_time": "2024-12-08T15:55:54.625Z"
   },
   {
    "duration": 4,
    "start_time": "2024-12-08T15:56:16.873Z"
   },
   {
    "duration": 43,
    "start_time": "2024-12-08T15:56:46.306Z"
   },
   {
    "duration": 931,
    "start_time": "2024-12-08T15:56:59.231Z"
   },
   {
    "duration": 216,
    "start_time": "2024-12-08T15:57:00.164Z"
   },
   {
    "duration": 5,
    "start_time": "2024-12-08T15:57:00.381Z"
   },
   {
    "duration": 62,
    "start_time": "2024-12-08T15:57:00.388Z"
   },
   {
    "duration": 72,
    "start_time": "2024-12-08T15:57:00.453Z"
   },
   {
    "duration": 70,
    "start_time": "2024-12-08T15:57:00.526Z"
   },
   {
    "duration": 449,
    "start_time": "2024-12-08T15:57:00.598Z"
   },
   {
    "duration": 778,
    "start_time": "2024-12-08T15:57:01.049Z"
   },
   {
    "duration": 45,
    "start_time": "2024-12-08T15:57:01.829Z"
   },
   {
    "duration": 7,
    "start_time": "2024-12-08T15:57:01.887Z"
   },
   {
    "duration": 5,
    "start_time": "2024-12-08T15:57:01.895Z"
   },
   {
    "duration": 254,
    "start_time": "2024-12-08T15:57:01.902Z"
   },
   {
    "duration": 39,
    "start_time": "2024-12-08T15:57:09.767Z"
   },
   {
    "duration": 35,
    "start_time": "2024-12-08T15:57:36.179Z"
   },
   {
    "duration": 5,
    "start_time": "2024-12-08T15:57:47.444Z"
   },
   {
    "duration": 230,
    "start_time": "2024-12-08T15:57:50.135Z"
   },
   {
    "duration": 214,
    "start_time": "2024-12-08T16:09:28.913Z"
   },
   {
    "duration": 5,
    "start_time": "2024-12-08T16:10:48.448Z"
   },
   {
    "duration": 918,
    "start_time": "2024-12-08T16:10:56.262Z"
   },
   {
    "duration": 218,
    "start_time": "2024-12-08T16:10:57.182Z"
   },
   {
    "duration": 4,
    "start_time": "2024-12-08T16:10:57.402Z"
   },
   {
    "duration": 62,
    "start_time": "2024-12-08T16:10:57.409Z"
   },
   {
    "duration": 71,
    "start_time": "2024-12-08T16:10:57.473Z"
   },
   {
    "duration": 68,
    "start_time": "2024-12-08T16:10:57.546Z"
   },
   {
    "duration": 449,
    "start_time": "2024-12-08T16:10:57.616Z"
   },
   {
    "duration": 738,
    "start_time": "2024-12-08T16:10:58.067Z"
   },
   {
    "duration": 44,
    "start_time": "2024-12-08T16:10:58.807Z"
   },
   {
    "duration": 7,
    "start_time": "2024-12-08T16:10:58.853Z"
   },
   {
    "duration": 26,
    "start_time": "2024-12-08T16:10:58.862Z"
   },
   {
    "duration": 155,
    "start_time": "2024-12-08T16:10:58.890Z"
   },
   {
    "duration": 145,
    "start_time": "2024-12-08T16:11:39.301Z"
   },
   {
    "duration": 289,
    "start_time": "2024-12-08T16:22:01.014Z"
   },
   {
    "duration": 4,
    "start_time": "2024-12-08T16:22:27.910Z"
   },
   {
    "duration": 14,
    "start_time": "2024-12-08T16:22:58.334Z"
   },
   {
    "duration": 38,
    "start_time": "2024-12-08T16:23:28.594Z"
   },
   {
    "duration": 37,
    "start_time": "2024-12-08T16:23:43.682Z"
   },
   {
    "duration": 8,
    "start_time": "2024-12-08T16:23:49.773Z"
   },
   {
    "duration": 10,
    "start_time": "2024-12-08T16:24:03.135Z"
   },
   {
    "duration": 12,
    "start_time": "2024-12-08T16:24:17.335Z"
   },
   {
    "duration": 22,
    "start_time": "2024-12-08T16:24:50.508Z"
   },
   {
    "duration": 14,
    "start_time": "2024-12-08T16:24:54.052Z"
   },
   {
    "duration": 12,
    "start_time": "2024-12-08T16:25:01.282Z"
   },
   {
    "duration": 4,
    "start_time": "2024-12-08T16:26:12.557Z"
   },
   {
    "duration": 54,
    "start_time": "2024-12-08T16:26:13.697Z"
   },
   {
    "duration": 5,
    "start_time": "2024-12-08T16:26:24.948Z"
   },
   {
    "duration": 66,
    "start_time": "2024-12-08T16:26:26.469Z"
   },
   {
    "duration": 964,
    "start_time": "2024-12-08T16:26:37.969Z"
   },
   {
    "duration": 223,
    "start_time": "2024-12-08T16:26:38.936Z"
   },
   {
    "duration": 3,
    "start_time": "2024-12-08T16:26:39.161Z"
   },
   {
    "duration": 71,
    "start_time": "2024-12-08T16:26:39.166Z"
   },
   {
    "duration": 62,
    "start_time": "2024-12-08T16:26:39.240Z"
   },
   {
    "duration": 59,
    "start_time": "2024-12-08T16:26:39.304Z"
   },
   {
    "duration": 454,
    "start_time": "2024-12-08T16:26:39.366Z"
   },
   {
    "duration": 768,
    "start_time": "2024-12-08T16:26:39.822Z"
   },
   {
    "duration": 45,
    "start_time": "2024-12-08T16:26:40.592Z"
   },
   {
    "duration": 7,
    "start_time": "2024-12-08T16:26:40.638Z"
   },
   {
    "duration": 6,
    "start_time": "2024-12-08T16:26:40.647Z"
   },
   {
    "duration": 171,
    "start_time": "2024-12-08T16:26:40.655Z"
   },
   {
    "duration": 4,
    "start_time": "2024-12-08T16:26:40.828Z"
   },
   {
    "duration": 54,
    "start_time": "2024-12-08T16:26:40.835Z"
   },
   {
    "duration": 29,
    "start_time": "2024-12-08T16:26:40.890Z"
   },
   {
    "duration": 5,
    "start_time": "2024-12-08T16:26:40.921Z"
   },
   {
    "duration": 3,
    "start_time": "2024-12-08T16:27:43.553Z"
   },
   {
    "duration": 171,
    "start_time": "2024-12-08T16:29:08.466Z"
   },
   {
    "duration": 5,
    "start_time": "2024-12-08T16:30:33.305Z"
   },
   {
    "duration": 22,
    "start_time": "2024-12-08T16:30:59.934Z"
   },
   {
    "duration": 3,
    "start_time": "2024-12-08T16:31:12.544Z"
   },
   {
    "duration": 17,
    "start_time": "2024-12-08T16:32:10.482Z"
   },
   {
    "duration": 20,
    "start_time": "2024-12-08T16:33:00.097Z"
   },
   {
    "duration": 15,
    "start_time": "2024-12-08T16:36:15.289Z"
   },
   {
    "duration": 288,
    "start_time": "2024-12-08T16:44:23.010Z"
   },
   {
    "duration": 3,
    "start_time": "2024-12-08T16:46:58.822Z"
   },
   {
    "duration": 291,
    "start_time": "2024-12-08T16:55:21.805Z"
   },
   {
    "duration": 2,
    "start_time": "2024-12-08T16:57:16.169Z"
   },
   {
    "duration": 2,
    "start_time": "2024-12-08T16:58:06.982Z"
   },
   {
    "duration": 4,
    "start_time": "2024-12-08T16:58:17.455Z"
   },
   {
    "duration": 3,
    "start_time": "2024-12-08T16:58:21.697Z"
   },
   {
    "duration": 14,
    "start_time": "2024-12-08T16:58:24.216Z"
   },
   {
    "duration": 3,
    "start_time": "2024-12-08T16:58:28.523Z"
   },
   {
    "duration": 16,
    "start_time": "2024-12-08T16:58:54.883Z"
   },
   {
    "duration": 14,
    "start_time": "2024-12-08T17:02:44.115Z"
   },
   {
    "duration": 235,
    "start_time": "2024-12-08T17:03:18.471Z"
   },
   {
    "duration": 414,
    "start_time": "2024-12-08T17:04:19.875Z"
   },
   {
    "duration": 259,
    "start_time": "2024-12-08T17:09:22.728Z"
   },
   {
    "duration": 160,
    "start_time": "2024-12-08T17:09:26.428Z"
   },
   {
    "duration": 20,
    "start_time": "2024-12-08T17:10:50.148Z"
   },
   {
    "duration": 7,
    "start_time": "2024-12-08T17:12:02.262Z"
   },
   {
    "duration": 3,
    "start_time": "2024-12-08T17:12:18.832Z"
   },
   {
    "duration": 28,
    "start_time": "2024-12-08T17:12:20.938Z"
   },
   {
    "duration": 15,
    "start_time": "2024-12-08T17:14:10.258Z"
   },
   {
    "duration": 197,
    "start_time": "2024-12-08T17:15:47.634Z"
   },
   {
    "duration": 3,
    "start_time": "2024-12-08T17:15:48.611Z"
   },
   {
    "duration": 61,
    "start_time": "2024-12-08T17:18:06.042Z"
   },
   {
    "duration": 1024,
    "start_time": "2024-12-08T17:19:03.319Z"
   },
   {
    "duration": 235,
    "start_time": "2024-12-08T17:19:04.346Z"
   },
   {
    "duration": 6,
    "start_time": "2024-12-08T17:19:04.583Z"
   },
   {
    "duration": 65,
    "start_time": "2024-12-08T17:19:04.592Z"
   },
   {
    "duration": 70,
    "start_time": "2024-12-08T17:19:04.661Z"
   },
   {
    "duration": 70,
    "start_time": "2024-12-08T17:19:04.733Z"
   },
   {
    "duration": 454,
    "start_time": "2024-12-08T17:19:04.805Z"
   },
   {
    "duration": 788,
    "start_time": "2024-12-08T17:19:05.261Z"
   },
   {
    "duration": 56,
    "start_time": "2024-12-08T17:19:06.051Z"
   },
   {
    "duration": 8,
    "start_time": "2024-12-08T17:19:06.108Z"
   },
   {
    "duration": 7,
    "start_time": "2024-12-08T17:19:06.117Z"
   },
   {
    "duration": 168,
    "start_time": "2024-12-08T17:19:06.126Z"
   },
   {
    "duration": 5,
    "start_time": "2024-12-08T17:19:06.297Z"
   },
   {
    "duration": 42,
    "start_time": "2024-12-08T17:19:06.305Z"
   },
   {
    "duration": 47,
    "start_time": "2024-12-08T17:19:06.348Z"
   },
   {
    "duration": 197,
    "start_time": "2024-12-08T17:19:06.397Z"
   },
   {
    "duration": 5,
    "start_time": "2024-12-08T17:19:06.596Z"
   },
   {
    "duration": 217,
    "start_time": "2024-12-08T17:19:06.604Z"
   },
   {
    "duration": 4,
    "start_time": "2024-12-08T17:19:06.822Z"
   },
   {
    "duration": 197,
    "start_time": "2024-12-08T17:19:06.827Z"
   },
   {
    "duration": 0,
    "start_time": "2024-12-08T17:19:07.026Z"
   },
   {
    "duration": 0,
    "start_time": "2024-12-08T17:19:07.028Z"
   },
   {
    "duration": 0,
    "start_time": "2024-12-08T17:19:07.029Z"
   },
   {
    "duration": 0,
    "start_time": "2024-12-08T17:19:07.031Z"
   },
   {
    "duration": 58,
    "start_time": "2024-12-08T17:19:52.313Z"
   },
   {
    "duration": 56,
    "start_time": "2024-12-08T17:24:39.734Z"
   },
   {
    "duration": 983,
    "start_time": "2024-12-08T17:25:09.191Z"
   },
   {
    "duration": 216,
    "start_time": "2024-12-08T17:25:10.176Z"
   },
   {
    "duration": 3,
    "start_time": "2024-12-08T17:25:10.394Z"
   },
   {
    "duration": 64,
    "start_time": "2024-12-08T17:25:10.399Z"
   },
   {
    "duration": 74,
    "start_time": "2024-12-08T17:25:10.465Z"
   },
   {
    "duration": 69,
    "start_time": "2024-12-08T17:25:10.541Z"
   },
   {
    "duration": 447,
    "start_time": "2024-12-08T17:25:10.612Z"
   },
   {
    "duration": 764,
    "start_time": "2024-12-08T17:25:11.062Z"
   },
   {
    "duration": 44,
    "start_time": "2024-12-08T17:25:11.828Z"
   },
   {
    "duration": 6,
    "start_time": "2024-12-08T17:25:11.886Z"
   },
   {
    "duration": 7,
    "start_time": "2024-12-08T17:25:11.894Z"
   },
   {
    "duration": 168,
    "start_time": "2024-12-08T17:25:11.903Z"
   },
   {
    "duration": 5,
    "start_time": "2024-12-08T17:25:12.073Z"
   },
   {
    "duration": 41,
    "start_time": "2024-12-08T17:25:12.086Z"
   },
   {
    "duration": 26,
    "start_time": "2024-12-08T17:25:12.129Z"
   },
   {
    "duration": 185,
    "start_time": "2024-12-08T17:25:12.157Z"
   },
   {
    "duration": 5,
    "start_time": "2024-12-08T17:25:12.344Z"
   },
   {
    "duration": 214,
    "start_time": "2024-12-08T17:25:12.351Z"
   },
   {
    "duration": 3,
    "start_time": "2024-12-08T17:25:12.567Z"
   },
   {
    "duration": 194,
    "start_time": "2024-12-08T17:25:12.571Z"
   },
   {
    "duration": 0,
    "start_time": "2024-12-08T17:25:12.767Z"
   },
   {
    "duration": 0,
    "start_time": "2024-12-08T17:25:12.769Z"
   },
   {
    "duration": 0,
    "start_time": "2024-12-08T17:25:12.770Z"
   },
   {
    "duration": 0,
    "start_time": "2024-12-08T17:25:12.771Z"
   },
   {
    "duration": 169,
    "start_time": "2024-12-08T17:27:14.463Z"
   },
   {
    "duration": 16,
    "start_time": "2024-12-08T17:27:28.085Z"
   },
   {
    "duration": 1000,
    "start_time": "2024-12-08T17:27:48.782Z"
   },
   {
    "duration": 291,
    "start_time": "2024-12-08T17:27:49.784Z"
   },
   {
    "duration": 3,
    "start_time": "2024-12-08T17:27:50.077Z"
   },
   {
    "duration": 64,
    "start_time": "2024-12-08T17:27:50.082Z"
   },
   {
    "duration": 60,
    "start_time": "2024-12-08T17:27:50.148Z"
   },
   {
    "duration": 59,
    "start_time": "2024-12-08T17:27:50.211Z"
   },
   {
    "duration": 455,
    "start_time": "2024-12-08T17:27:50.272Z"
   },
   {
    "duration": 765,
    "start_time": "2024-12-08T17:27:50.729Z"
   },
   {
    "duration": 44,
    "start_time": "2024-12-08T17:27:51.495Z"
   },
   {
    "duration": 7,
    "start_time": "2024-12-08T17:27:51.542Z"
   },
   {
    "duration": 6,
    "start_time": "2024-12-08T17:27:51.551Z"
   },
   {
    "duration": 188,
    "start_time": "2024-12-08T17:27:51.558Z"
   },
   {
    "duration": 5,
    "start_time": "2024-12-08T17:27:51.748Z"
   },
   {
    "duration": 44,
    "start_time": "2024-12-08T17:27:51.755Z"
   },
   {
    "duration": 27,
    "start_time": "2024-12-08T17:27:51.802Z"
   },
   {
    "duration": 179,
    "start_time": "2024-12-08T17:27:51.831Z"
   },
   {
    "duration": 4,
    "start_time": "2024-12-08T17:27:52.012Z"
   },
   {
    "duration": 1006,
    "start_time": "2024-12-08T17:31:11.683Z"
   },
   {
    "duration": 300,
    "start_time": "2024-12-08T17:31:12.691Z"
   },
   {
    "duration": 4,
    "start_time": "2024-12-08T17:31:12.993Z"
   },
   {
    "duration": 65,
    "start_time": "2024-12-08T17:31:12.999Z"
   },
   {
    "duration": 70,
    "start_time": "2024-12-08T17:31:13.067Z"
   },
   {
    "duration": 80,
    "start_time": "2024-12-08T17:31:13.139Z"
   },
   {
    "duration": 470,
    "start_time": "2024-12-08T17:31:13.220Z"
   },
   {
    "duration": 775,
    "start_time": "2024-12-08T17:31:13.692Z"
   },
   {
    "duration": 52,
    "start_time": "2024-12-08T17:31:14.469Z"
   },
   {
    "duration": 6,
    "start_time": "2024-12-08T17:31:14.523Z"
   },
   {
    "duration": 7,
    "start_time": "2024-12-08T17:31:14.531Z"
   },
   {
    "duration": 166,
    "start_time": "2024-12-08T17:31:14.541Z"
   },
   {
    "duration": 5,
    "start_time": "2024-12-08T17:31:14.709Z"
   },
   {
    "duration": 40,
    "start_time": "2024-12-08T17:31:14.718Z"
   },
   {
    "duration": 41,
    "start_time": "2024-12-08T17:31:14.760Z"
   },
   {
    "duration": 173,
    "start_time": "2024-12-08T17:31:14.804Z"
   },
   {
    "duration": 5,
    "start_time": "2024-12-08T17:31:14.986Z"
   },
   {
    "duration": 158,
    "start_time": "2024-12-08T17:31:42.744Z"
   },
   {
    "duration": 14,
    "start_time": "2024-12-08T17:31:45.921Z"
   },
   {
    "duration": 975,
    "start_time": "2024-12-08T17:31:50.114Z"
   },
   {
    "duration": 296,
    "start_time": "2024-12-08T17:31:51.265Z"
   },
   {
    "duration": 3,
    "start_time": "2024-12-08T17:31:53.424Z"
   },
   {
    "duration": 64,
    "start_time": "2024-12-08T17:31:55.294Z"
   },
   {
    "duration": 58,
    "start_time": "2024-12-08T17:32:01.187Z"
   },
   {
    "duration": 62,
    "start_time": "2024-12-08T17:32:02.830Z"
   },
   {
    "duration": 442,
    "start_time": "2024-12-08T17:32:04.167Z"
   },
   {
    "duration": 775,
    "start_time": "2024-12-08T17:32:05.971Z"
   },
   {
    "duration": 45,
    "start_time": "2024-12-08T17:32:07.203Z"
   },
   {
    "duration": 9,
    "start_time": "2024-12-08T17:32:08.130Z"
   },
   {
    "duration": 72,
    "start_time": "2024-12-08T17:32:10.223Z"
   },
   {
    "duration": 152,
    "start_time": "2024-12-08T17:32:11.716Z"
   },
   {
    "duration": 5,
    "start_time": "2024-12-08T17:32:16.160Z"
   },
   {
    "duration": 40,
    "start_time": "2024-12-08T17:32:17.383Z"
   },
   {
    "duration": 25,
    "start_time": "2024-12-08T17:32:18.541Z"
   },
   {
    "duration": 171,
    "start_time": "2024-12-08T17:32:21.831Z"
   },
   {
    "duration": 5,
    "start_time": "2024-12-08T17:32:25.712Z"
   },
   {
    "duration": 156,
    "start_time": "2024-12-08T17:32:47.347Z"
   },
   {
    "duration": 1036,
    "start_time": "2024-12-08T17:33:00.147Z"
   },
   {
    "duration": 315,
    "start_time": "2024-12-08T17:33:01.186Z"
   },
   {
    "duration": 3,
    "start_time": "2024-12-08T17:33:01.503Z"
   },
   {
    "duration": 78,
    "start_time": "2024-12-08T17:33:01.508Z"
   },
   {
    "duration": 61,
    "start_time": "2024-12-08T17:33:01.590Z"
   },
   {
    "duration": 71,
    "start_time": "2024-12-08T17:33:01.654Z"
   },
   {
    "duration": 463,
    "start_time": "2024-12-08T17:33:01.727Z"
   },
   {
    "duration": 773,
    "start_time": "2024-12-08T17:33:02.192Z"
   },
   {
    "duration": 57,
    "start_time": "2024-12-08T17:33:02.967Z"
   },
   {
    "duration": 7,
    "start_time": "2024-12-08T17:33:03.026Z"
   },
   {
    "duration": 7,
    "start_time": "2024-12-08T17:33:03.034Z"
   },
   {
    "duration": 193,
    "start_time": "2024-12-08T17:33:03.042Z"
   },
   {
    "duration": 4,
    "start_time": "2024-12-08T17:33:03.237Z"
   },
   {
    "duration": 59,
    "start_time": "2024-12-08T17:33:03.245Z"
   },
   {
    "duration": 26,
    "start_time": "2024-12-08T17:33:03.306Z"
   },
   {
    "duration": 201,
    "start_time": "2024-12-08T17:33:03.333Z"
   },
   {
    "duration": 4,
    "start_time": "2024-12-08T17:33:03.536Z"
   },
   {
    "duration": 222,
    "start_time": "2024-12-08T17:33:03.543Z"
   },
   {
    "duration": 4,
    "start_time": "2024-12-08T17:33:03.767Z"
   },
   {
    "duration": 206,
    "start_time": "2024-12-08T17:33:03.773Z"
   },
   {
    "duration": 0,
    "start_time": "2024-12-08T17:33:03.981Z"
   },
   {
    "duration": 0,
    "start_time": "2024-12-08T17:33:03.986Z"
   },
   {
    "duration": 0,
    "start_time": "2024-12-08T17:33:03.988Z"
   },
   {
    "duration": 0,
    "start_time": "2024-12-08T17:33:03.989Z"
   },
   {
    "duration": 46,
    "start_time": "2024-12-08T17:42:30.137Z"
   },
   {
    "duration": 4,
    "start_time": "2024-12-08T17:42:32.049Z"
   },
   {
    "duration": 66,
    "start_time": "2024-12-08T17:42:40.973Z"
   },
   {
    "duration": 959,
    "start_time": "2024-12-08T17:42:49.571Z"
   },
   {
    "duration": 253,
    "start_time": "2024-12-08T17:42:50.532Z"
   },
   {
    "duration": 11,
    "start_time": "2024-12-08T17:42:50.802Z"
   },
   {
    "duration": 65,
    "start_time": "2024-12-08T17:42:50.815Z"
   },
   {
    "duration": 61,
    "start_time": "2024-12-08T17:42:50.881Z"
   },
   {
    "duration": 74,
    "start_time": "2024-12-08T17:42:50.943Z"
   },
   {
    "duration": 464,
    "start_time": "2024-12-08T17:42:51.019Z"
   },
   {
    "duration": 724,
    "start_time": "2024-12-08T17:42:51.490Z"
   },
   {
    "duration": 45,
    "start_time": "2024-12-08T17:42:52.216Z"
   },
   {
    "duration": 6,
    "start_time": "2024-12-08T17:42:52.265Z"
   },
   {
    "duration": 7,
    "start_time": "2024-12-08T17:42:52.272Z"
   },
   {
    "duration": 181,
    "start_time": "2024-12-08T17:42:52.280Z"
   },
   {
    "duration": 4,
    "start_time": "2024-12-08T17:42:52.463Z"
   },
   {
    "duration": 60,
    "start_time": "2024-12-08T17:42:52.469Z"
   },
   {
    "duration": 26,
    "start_time": "2024-12-08T17:42:52.531Z"
   },
   {
    "duration": 192,
    "start_time": "2024-12-08T17:42:52.559Z"
   },
   {
    "duration": 6,
    "start_time": "2024-12-08T17:42:52.753Z"
   },
   {
    "duration": 66,
    "start_time": "2024-12-08T17:42:52.761Z"
   },
   {
    "duration": 3,
    "start_time": "2024-12-08T17:42:52.829Z"
   },
   {
    "duration": 200,
    "start_time": "2024-12-08T17:42:52.834Z"
   },
   {
    "duration": 0,
    "start_time": "2024-12-08T17:42:53.036Z"
   },
   {
    "duration": 0,
    "start_time": "2024-12-08T17:42:53.036Z"
   },
   {
    "duration": 0,
    "start_time": "2024-12-08T17:42:53.038Z"
   },
   {
    "duration": 0,
    "start_time": "2024-12-08T17:42:53.039Z"
   },
   {
    "duration": 60,
    "start_time": "2024-12-08T17:43:34.707Z"
   },
   {
    "duration": 3,
    "start_time": "2024-12-08T17:46:24.793Z"
   },
   {
    "duration": 19,
    "start_time": "2024-12-08T17:46:31.780Z"
   },
   {
    "duration": 21,
    "start_time": "2024-12-08T17:46:34.243Z"
   },
   {
    "duration": 178,
    "start_time": "2024-12-08T17:47:36.404Z"
   },
   {
    "duration": 1092,
    "start_time": "2024-12-08T17:47:42.943Z"
   },
   {
    "duration": 226,
    "start_time": "2024-12-08T17:47:44.037Z"
   },
   {
    "duration": 3,
    "start_time": "2024-12-08T17:47:44.265Z"
   },
   {
    "duration": 94,
    "start_time": "2024-12-08T17:47:44.271Z"
   },
   {
    "duration": 81,
    "start_time": "2024-12-08T17:47:44.367Z"
   },
   {
    "duration": 70,
    "start_time": "2024-12-08T17:47:44.451Z"
   },
   {
    "duration": 458,
    "start_time": "2024-12-08T17:47:44.523Z"
   },
   {
    "duration": 820,
    "start_time": "2024-12-08T17:47:44.987Z"
   },
   {
    "duration": 44,
    "start_time": "2024-12-08T17:47:45.809Z"
   },
   {
    "duration": 9,
    "start_time": "2024-12-08T17:47:45.857Z"
   },
   {
    "duration": 7,
    "start_time": "2024-12-08T17:47:45.887Z"
   },
   {
    "duration": 207,
    "start_time": "2024-12-08T17:47:45.896Z"
   },
   {
    "duration": 5,
    "start_time": "2024-12-08T17:47:46.105Z"
   },
   {
    "duration": 44,
    "start_time": "2024-12-08T17:47:46.111Z"
   },
   {
    "duration": 47,
    "start_time": "2024-12-08T17:47:46.157Z"
   },
   {
    "duration": 184,
    "start_time": "2024-12-08T17:47:46.206Z"
   },
   {
    "duration": 4,
    "start_time": "2024-12-08T17:47:46.394Z"
   },
   {
    "duration": 214,
    "start_time": "2024-12-08T17:47:46.400Z"
   },
   {
    "duration": 3,
    "start_time": "2024-12-08T17:47:46.618Z"
   },
   {
    "duration": 18,
    "start_time": "2024-12-08T17:47:46.624Z"
   },
   {
    "duration": 347,
    "start_time": "2024-12-08T17:47:46.644Z"
   },
   {
    "duration": 8,
    "start_time": "2024-12-08T17:47:46.993Z"
   },
   {
    "duration": 4,
    "start_time": "2024-12-08T17:47:47.004Z"
   },
   {
    "duration": 816,
    "start_time": "2024-12-08T17:47:47.010Z"
   },
   {
    "duration": 9,
    "start_time": "2024-12-08T17:48:03.495Z"
   },
   {
    "duration": 8,
    "start_time": "2024-12-08T17:48:49.805Z"
   },
   {
    "duration": 27,
    "start_time": "2024-12-08T17:49:21.374Z"
   },
   {
    "duration": 986,
    "start_time": "2024-12-08T17:50:17.595Z"
   },
   {
    "duration": 219,
    "start_time": "2024-12-08T17:50:18.586Z"
   },
   {
    "duration": 4,
    "start_time": "2024-12-08T17:50:18.807Z"
   },
   {
    "duration": 73,
    "start_time": "2024-12-08T17:50:18.813Z"
   },
   {
    "duration": 57,
    "start_time": "2024-12-08T17:50:18.889Z"
   },
   {
    "duration": 73,
    "start_time": "2024-12-08T17:50:18.948Z"
   },
   {
    "duration": 465,
    "start_time": "2024-12-08T17:50:19.023Z"
   },
   {
    "duration": 777,
    "start_time": "2024-12-08T17:50:19.489Z"
   },
   {
    "duration": 54,
    "start_time": "2024-12-08T17:50:20.268Z"
   },
   {
    "duration": 6,
    "start_time": "2024-12-08T17:50:20.324Z"
   },
   {
    "duration": 7,
    "start_time": "2024-12-08T17:50:20.332Z"
   },
   {
    "duration": 173,
    "start_time": "2024-12-08T17:50:20.341Z"
   },
   {
    "duration": 5,
    "start_time": "2024-12-08T17:50:20.516Z"
   },
   {
    "duration": 43,
    "start_time": "2024-12-08T17:50:20.524Z"
   },
   {
    "duration": 28,
    "start_time": "2024-12-08T17:50:20.586Z"
   },
   {
    "duration": 190,
    "start_time": "2024-12-08T17:50:20.615Z"
   },
   {
    "duration": 5,
    "start_time": "2024-12-08T17:50:20.806Z"
   },
   {
    "duration": 183,
    "start_time": "2024-12-08T17:50:20.813Z"
   },
   {
    "duration": 3,
    "start_time": "2024-12-08T17:50:20.998Z"
   },
   {
    "duration": 18,
    "start_time": "2024-12-08T17:50:21.002Z"
   },
   {
    "duration": 386,
    "start_time": "2024-12-08T17:50:21.023Z"
   },
   {
    "duration": 77,
    "start_time": "2024-12-08T17:50:21.411Z"
   },
   {
    "duration": 3,
    "start_time": "2024-12-08T17:50:21.490Z"
   },
   {
    "duration": 8,
    "start_time": "2024-12-08T17:50:21.495Z"
   },
   {
    "duration": 389,
    "start_time": "2024-12-08T17:50:21.505Z"
   },
   {
    "duration": 435,
    "start_time": "2024-12-08T17:52:46.313Z"
   },
   {
    "duration": 7,
    "start_time": "2024-12-08T17:53:35.557Z"
   },
   {
    "duration": 2,
    "start_time": "2024-12-08T17:53:39.521Z"
   },
   {
    "duration": 10,
    "start_time": "2024-12-08T17:53:41.398Z"
   },
   {
    "duration": 16,
    "start_time": "2024-12-08T17:53:52.740Z"
   },
   {
    "duration": 11,
    "start_time": "2024-12-08T17:54:12.994Z"
   },
   {
    "duration": 11,
    "start_time": "2024-12-08T17:54:19.807Z"
   },
   {
    "duration": 12,
    "start_time": "2024-12-08T17:54:22.550Z"
   },
   {
    "duration": 14,
    "start_time": "2024-12-08T17:56:08.548Z"
   },
   {
    "duration": 8,
    "start_time": "2024-12-08T17:57:23.828Z"
   },
   {
    "duration": 935,
    "start_time": "2024-12-08T17:57:34.539Z"
   },
   {
    "duration": 221,
    "start_time": "2024-12-08T17:57:35.476Z"
   },
   {
    "duration": 4,
    "start_time": "2024-12-08T17:57:35.699Z"
   },
   {
    "duration": 66,
    "start_time": "2024-12-08T17:57:35.705Z"
   },
   {
    "duration": 70,
    "start_time": "2024-12-08T17:57:35.772Z"
   },
   {
    "duration": 67,
    "start_time": "2024-12-08T17:57:35.844Z"
   },
   {
    "duration": 450,
    "start_time": "2024-12-08T17:57:35.913Z"
   },
   {
    "duration": 737,
    "start_time": "2024-12-08T17:57:36.365Z"
   },
   {
    "duration": 44,
    "start_time": "2024-12-08T17:57:37.104Z"
   },
   {
    "duration": 6,
    "start_time": "2024-12-08T17:57:37.151Z"
   },
   {
    "duration": 31,
    "start_time": "2024-12-08T17:57:37.159Z"
   },
   {
    "duration": 161,
    "start_time": "2024-12-08T17:57:37.192Z"
   },
   {
    "duration": 5,
    "start_time": "2024-12-08T17:57:37.355Z"
   },
   {
    "duration": 55,
    "start_time": "2024-12-08T17:57:37.362Z"
   },
   {
    "duration": 25,
    "start_time": "2024-12-08T17:57:37.419Z"
   },
   {
    "duration": 184,
    "start_time": "2024-12-08T17:57:37.446Z"
   },
   {
    "duration": 5,
    "start_time": "2024-12-08T17:57:37.632Z"
   },
   {
    "duration": 185,
    "start_time": "2024-12-08T17:57:37.639Z"
   },
   {
    "duration": 3,
    "start_time": "2024-12-08T17:57:37.825Z"
   },
   {
    "duration": 32,
    "start_time": "2024-12-08T17:57:37.830Z"
   },
   {
    "duration": 316,
    "start_time": "2024-12-08T17:57:37.887Z"
   },
   {
    "duration": 83,
    "start_time": "2024-12-08T17:57:38.205Z"
   },
   {
    "duration": 7,
    "start_time": "2024-12-08T17:57:38.292Z"
   },
   {
    "duration": 84,
    "start_time": "2024-12-08T17:57:38.303Z"
   },
   {
    "duration": 17,
    "start_time": "2024-12-08T17:57:38.389Z"
   },
   {
    "duration": 12,
    "start_time": "2024-12-08T17:57:43.956Z"
   },
   {
    "duration": 44,
    "start_time": "2024-12-08T17:59:42.282Z"
   },
   {
    "duration": 19,
    "start_time": "2024-12-08T18:02:04.275Z"
   },
   {
    "duration": 6,
    "start_time": "2024-12-08T18:04:21.914Z"
   },
   {
    "duration": 13,
    "start_time": "2024-12-08T18:06:16.736Z"
   },
   {
    "duration": 9,
    "start_time": "2024-12-08T18:09:22.515Z"
   },
   {
    "duration": 5,
    "start_time": "2024-12-08T18:10:00.214Z"
   },
   {
    "duration": 38,
    "start_time": "2024-12-08T18:10:01.446Z"
   },
   {
    "duration": 8,
    "start_time": "2024-12-08T18:10:04.205Z"
   },
   {
    "duration": 259,
    "start_time": "2024-12-08T18:10:15.428Z"
   },
   {
    "duration": 183,
    "start_time": "2024-12-08T18:10:23.110Z"
   },
   {
    "duration": 37,
    "start_time": "2024-12-08T18:11:40.889Z"
   },
   {
    "duration": 4,
    "start_time": "2024-12-08T18:34:26.288Z"
   },
   {
    "duration": 55,
    "start_time": "2024-12-08T18:34:28.447Z"
   },
   {
    "duration": 22,
    "start_time": "2024-12-08T18:34:31.361Z"
   },
   {
    "duration": 161,
    "start_time": "2024-12-08T18:34:34.285Z"
   },
   {
    "duration": 27,
    "start_time": "2024-12-08T18:34:58.287Z"
   },
   {
    "duration": 30,
    "start_time": "2024-12-08T18:35:00.685Z"
   },
   {
    "duration": 10,
    "start_time": "2024-12-08T18:35:02.560Z"
   },
   {
    "duration": 23,
    "start_time": "2024-12-08T18:36:58.996Z"
   },
   {
    "duration": 11,
    "start_time": "2024-12-08T18:37:01.037Z"
   },
   {
    "duration": 30,
    "start_time": "2024-12-08T18:37:08.882Z"
   },
   {
    "duration": 324,
    "start_time": "2024-12-08T18:37:12.998Z"
   },
   {
    "duration": 287,
    "start_time": "2024-12-08T18:37:16.245Z"
   },
   {
    "duration": 2700,
    "start_time": "2024-12-09T14:49:52.761Z"
   },
   {
    "duration": 295,
    "start_time": "2024-12-09T14:49:55.464Z"
   },
   {
    "duration": 4,
    "start_time": "2024-12-09T14:49:55.760Z"
   },
   {
    "duration": 78,
    "start_time": "2024-12-09T14:49:55.766Z"
   },
   {
    "duration": 65,
    "start_time": "2024-12-09T14:49:55.846Z"
   },
   {
    "duration": 61,
    "start_time": "2024-12-09T14:49:55.913Z"
   },
   {
    "duration": 531,
    "start_time": "2024-12-09T14:49:55.976Z"
   },
   {
    "duration": 793,
    "start_time": "2024-12-09T14:49:56.512Z"
   },
   {
    "duration": 44,
    "start_time": "2024-12-09T14:49:57.312Z"
   },
   {
    "duration": 7,
    "start_time": "2024-12-09T14:49:57.358Z"
   },
   {
    "duration": 7,
    "start_time": "2024-12-09T14:49:57.366Z"
   },
   {
    "duration": 176,
    "start_time": "2024-12-09T14:49:57.375Z"
   },
   {
    "duration": 6,
    "start_time": "2024-12-09T14:49:57.553Z"
   },
   {
    "duration": 63,
    "start_time": "2024-12-09T14:49:57.562Z"
   },
   {
    "duration": 26,
    "start_time": "2024-12-09T14:49:57.627Z"
   },
   {
    "duration": 182,
    "start_time": "2024-12-09T14:49:57.654Z"
   },
   {
    "duration": 30,
    "start_time": "2024-12-09T14:49:57.838Z"
   },
   {
    "duration": 41,
    "start_time": "2024-12-09T14:49:57.870Z"
   },
   {
    "duration": 4,
    "start_time": "2024-12-09T14:49:57.913Z"
   },
   {
    "duration": 94,
    "start_time": "2024-12-09T14:49:57.918Z"
   },
   {
    "duration": 399,
    "start_time": "2024-12-09T14:49:58.014Z"
   },
   {
    "duration": 469,
    "start_time": "2024-12-09T14:49:58.417Z"
   },
   {
    "duration": 0,
    "start_time": "2024-12-09T14:49:58.888Z"
   },
   {
    "duration": 0,
    "start_time": "2024-12-09T14:49:58.890Z"
   },
   {
    "duration": 0,
    "start_time": "2024-12-09T14:49:58.892Z"
   },
   {
    "duration": 0,
    "start_time": "2024-12-09T14:49:58.893Z"
   },
   {
    "duration": 0,
    "start_time": "2024-12-09T14:49:58.894Z"
   },
   {
    "duration": 68,
    "start_time": "2024-12-09T14:58:00.092Z"
   },
   {
    "duration": 1012,
    "start_time": "2024-12-09T14:58:14.020Z"
   },
   {
    "duration": 225,
    "start_time": "2024-12-09T14:58:15.034Z"
   },
   {
    "duration": 3,
    "start_time": "2024-12-09T14:58:15.262Z"
   },
   {
    "duration": 79,
    "start_time": "2024-12-09T14:58:15.267Z"
   },
   {
    "duration": 63,
    "start_time": "2024-12-09T14:58:15.348Z"
   },
   {
    "duration": 62,
    "start_time": "2024-12-09T14:58:15.413Z"
   },
   {
    "duration": 451,
    "start_time": "2024-12-09T14:58:15.476Z"
   },
   {
    "duration": 753,
    "start_time": "2024-12-09T14:58:15.929Z"
   },
   {
    "duration": 57,
    "start_time": "2024-12-09T14:58:16.684Z"
   },
   {
    "duration": 7,
    "start_time": "2024-12-09T14:58:16.743Z"
   },
   {
    "duration": 6,
    "start_time": "2024-12-09T14:58:16.752Z"
   },
   {
    "duration": 167,
    "start_time": "2024-12-09T14:58:16.759Z"
   },
   {
    "duration": 6,
    "start_time": "2024-12-09T14:58:16.928Z"
   },
   {
    "duration": 49,
    "start_time": "2024-12-09T14:58:16.937Z"
   },
   {
    "duration": 43,
    "start_time": "2024-12-09T14:58:16.988Z"
   },
   {
    "duration": 172,
    "start_time": "2024-12-09T14:58:17.033Z"
   },
   {
    "duration": 39,
    "start_time": "2024-12-09T14:58:17.212Z"
   },
   {
    "duration": 25,
    "start_time": "2024-12-09T14:58:17.255Z"
   },
   {
    "duration": 3,
    "start_time": "2024-12-09T14:58:17.282Z"
   },
   {
    "duration": 42,
    "start_time": "2024-12-09T14:58:17.289Z"
   },
   {
    "duration": 713,
    "start_time": "2024-12-09T14:58:17.332Z"
   },
   {
    "duration": 0,
    "start_time": "2024-12-09T14:58:18.047Z"
   },
   {
    "duration": 0,
    "start_time": "2024-12-09T14:58:18.048Z"
   },
   {
    "duration": 0,
    "start_time": "2024-12-09T14:58:18.050Z"
   },
   {
    "duration": 0,
    "start_time": "2024-12-09T14:58:18.051Z"
   },
   {
    "duration": 0,
    "start_time": "2024-12-09T14:58:18.053Z"
   },
   {
    "duration": 0,
    "start_time": "2024-12-09T14:58:18.054Z"
   },
   {
    "duration": 8,
    "start_time": "2024-12-09T14:59:36.917Z"
   },
   {
    "duration": 13,
    "start_time": "2024-12-09T14:59:39.886Z"
   },
   {
    "duration": 34,
    "start_time": "2024-12-09T15:00:02.666Z"
   },
   {
    "duration": 22,
    "start_time": "2024-12-09T15:00:04.958Z"
   },
   {
    "duration": 3,
    "start_time": "2024-12-09T15:00:05.397Z"
   },
   {
    "duration": 23,
    "start_time": "2024-12-09T15:00:05.874Z"
   },
   {
    "duration": 69,
    "start_time": "2024-12-09T15:00:06.842Z"
   },
   {
    "duration": 68,
    "start_time": "2024-12-09T15:00:41.235Z"
   },
   {
    "duration": 30,
    "start_time": "2024-12-09T15:03:28.888Z"
   },
   {
    "duration": 11,
    "start_time": "2024-12-09T15:03:39.474Z"
   },
   {
    "duration": 13,
    "start_time": "2024-12-09T15:03:50.957Z"
   },
   {
    "duration": 38,
    "start_time": "2024-12-09T15:06:05.600Z"
   },
   {
    "duration": 22,
    "start_time": "2024-12-09T15:06:08.520Z"
   },
   {
    "duration": 3,
    "start_time": "2024-12-09T15:06:09.629Z"
   },
   {
    "duration": 22,
    "start_time": "2024-12-09T15:06:11.552Z"
   },
   {
    "duration": 263,
    "start_time": "2024-12-09T15:06:15.561Z"
   },
   {
    "duration": 57,
    "start_time": "2024-12-09T15:13:29.283Z"
   },
   {
    "duration": 31,
    "start_time": "2024-12-09T15:13:53.726Z"
   },
   {
    "duration": 10,
    "start_time": "2024-12-09T15:14:06.534Z"
   },
   {
    "duration": 947,
    "start_time": "2024-12-09T15:14:56.850Z"
   },
   {
    "duration": 236,
    "start_time": "2024-12-09T15:14:57.799Z"
   },
   {
    "duration": 3,
    "start_time": "2024-12-09T15:14:58.037Z"
   },
   {
    "duration": 68,
    "start_time": "2024-12-09T15:14:58.043Z"
   },
   {
    "duration": 60,
    "start_time": "2024-12-09T15:14:58.113Z"
   },
   {
    "duration": 74,
    "start_time": "2024-12-09T15:14:58.174Z"
   },
   {
    "duration": 450,
    "start_time": "2024-12-09T15:14:58.251Z"
   },
   {
    "duration": 759,
    "start_time": "2024-12-09T15:14:58.711Z"
   },
   {
    "duration": 53,
    "start_time": "2024-12-09T15:14:59.472Z"
   },
   {
    "duration": 8,
    "start_time": "2024-12-09T15:14:59.528Z"
   },
   {
    "duration": 7,
    "start_time": "2024-12-09T15:14:59.537Z"
   },
   {
    "duration": 169,
    "start_time": "2024-12-09T15:14:59.545Z"
   },
   {
    "duration": 5,
    "start_time": "2024-12-09T15:14:59.716Z"
   },
   {
    "duration": 49,
    "start_time": "2024-12-09T15:14:59.723Z"
   },
   {
    "duration": 41,
    "start_time": "2024-12-09T15:14:59.774Z"
   },
   {
    "duration": 173,
    "start_time": "2024-12-09T15:14:59.817Z"
   },
   {
    "duration": 38,
    "start_time": "2024-12-09T15:14:59.992Z"
   },
   {
    "duration": 11,
    "start_time": "2024-12-09T15:15:00.032Z"
   },
   {
    "duration": 4,
    "start_time": "2024-12-09T15:15:00.045Z"
   },
   {
    "duration": 24,
    "start_time": "2024-12-09T15:15:00.051Z"
   },
   {
    "duration": 3,
    "start_time": "2024-12-09T15:15:00.079Z"
   },
   {
    "duration": 50,
    "start_time": "2024-12-09T15:15:00.084Z"
   },
   {
    "duration": 465,
    "start_time": "2024-12-09T15:15:00.136Z"
   },
   {
    "duration": 0,
    "start_time": "2024-12-09T15:15:00.603Z"
   },
   {
    "duration": 0,
    "start_time": "2024-12-09T15:15:00.604Z"
   },
   {
    "duration": 0,
    "start_time": "2024-12-09T15:15:00.605Z"
   },
   {
    "duration": 0,
    "start_time": "2024-12-09T15:15:00.606Z"
   },
   {
    "duration": 0,
    "start_time": "2024-12-09T15:15:00.611Z"
   },
   {
    "duration": 0,
    "start_time": "2024-12-09T15:15:00.613Z"
   },
   {
    "duration": 32,
    "start_time": "2024-12-09T15:15:17.166Z"
   },
   {
    "duration": 23,
    "start_time": "2024-12-09T15:15:21.630Z"
   },
   {
    "duration": 2,
    "start_time": "2024-12-09T15:15:22.384Z"
   },
   {
    "duration": 24,
    "start_time": "2024-12-09T15:15:24.209Z"
   },
   {
    "duration": 40,
    "start_time": "2024-12-09T15:15:26.917Z"
   },
   {
    "duration": 41,
    "start_time": "2024-12-09T15:15:40.210Z"
   },
   {
    "duration": 309,
    "start_time": "2024-12-09T15:16:38.229Z"
   },
   {
    "duration": 8,
    "start_time": "2024-12-09T15:16:48.865Z"
   },
   {
    "duration": 14,
    "start_time": "2024-12-09T15:16:50.297Z"
   },
   {
    "duration": 6,
    "start_time": "2024-12-09T15:17:42.542Z"
   },
   {
    "duration": 11,
    "start_time": "2024-12-09T15:17:55.995Z"
   },
   {
    "duration": 10,
    "start_time": "2024-12-09T15:17:58.520Z"
   },
   {
    "duration": 11,
    "start_time": "2024-12-09T15:17:59.905Z"
   },
   {
    "duration": 7,
    "start_time": "2024-12-09T15:18:21.343Z"
   },
   {
    "duration": 11,
    "start_time": "2024-12-09T15:18:22.419Z"
   },
   {
    "duration": 10,
    "start_time": "2024-12-09T15:18:30.511Z"
   },
   {
    "duration": 10,
    "start_time": "2024-12-09T15:18:34.743Z"
   },
   {
    "duration": 10,
    "start_time": "2024-12-09T15:18:36.369Z"
   },
   {
    "duration": 10,
    "start_time": "2024-12-09T15:18:39.202Z"
   },
   {
    "duration": 466,
    "start_time": "2024-12-09T15:23:30.649Z"
   },
   {
    "duration": 346,
    "start_time": "2024-12-09T15:24:04.684Z"
   },
   {
    "duration": 6,
    "start_time": "2024-12-09T15:24:21.769Z"
   },
   {
    "duration": 11,
    "start_time": "2024-12-09T15:24:23.307Z"
   },
   {
    "duration": 7,
    "start_time": "2024-12-09T15:24:40.029Z"
   },
   {
    "duration": 10,
    "start_time": "2024-12-09T15:24:41.162Z"
   },
   {
    "duration": 9,
    "start_time": "2024-12-09T15:24:57.163Z"
   },
   {
    "duration": 13,
    "start_time": "2024-12-09T15:25:30.011Z"
   },
   {
    "duration": 22,
    "start_time": "2024-12-09T15:26:27.764Z"
   },
   {
    "duration": 14,
    "start_time": "2024-12-09T15:26:31.125Z"
   },
   {
    "duration": 3,
    "start_time": "2024-12-09T15:27:24.523Z"
   },
   {
    "duration": 11,
    "start_time": "2024-12-09T15:27:52.196Z"
   },
   {
    "duration": 11,
    "start_time": "2024-12-09T15:27:58.704Z"
   },
   {
    "duration": 2551,
    "start_time": "2024-12-09T15:47:16.185Z"
   },
   {
    "duration": 23,
    "start_time": "2024-12-09T15:50:00.394Z"
   },
   {
    "duration": 333,
    "start_time": "2024-12-09T16:08:14.911Z"
   },
   {
    "duration": 2,
    "start_time": "2024-12-09T16:11:45.306Z"
   },
   {
    "duration": 3,
    "start_time": "2024-12-09T16:19:20.589Z"
   },
   {
    "duration": 3,
    "start_time": "2024-12-09T16:19:37.785Z"
   },
   {
    "duration": 3,
    "start_time": "2024-12-09T16:19:43.888Z"
   },
   {
    "duration": 2538,
    "start_time": "2024-12-09T16:20:10.388Z"
   },
   {
    "duration": 2455,
    "start_time": "2024-12-09T16:21:12.630Z"
   },
   {
    "duration": 2445,
    "start_time": "2024-12-09T16:21:28.054Z"
   },
   {
    "duration": 4,
    "start_time": "2024-12-09T16:23:15.769Z"
   },
   {
    "duration": 10,
    "start_time": "2024-12-09T16:31:12.176Z"
   },
   {
    "duration": 20,
    "start_time": "2024-12-09T16:44:02.369Z"
   },
   {
    "duration": 3,
    "start_time": "2024-12-09T16:45:07.106Z"
   },
   {
    "duration": 2398,
    "start_time": "2024-12-09T16:45:08.611Z"
   },
   {
    "duration": 4,
    "start_time": "2024-12-09T16:45:11.012Z"
   },
   {
    "duration": 950,
    "start_time": "2024-12-09T16:45:21.889Z"
   },
   {
    "duration": 225,
    "start_time": "2024-12-09T16:45:22.841Z"
   },
   {
    "duration": 3,
    "start_time": "2024-12-09T16:45:23.068Z"
   },
   {
    "duration": 73,
    "start_time": "2024-12-09T16:45:23.074Z"
   },
   {
    "duration": 62,
    "start_time": "2024-12-09T16:45:23.149Z"
   },
   {
    "duration": 70,
    "start_time": "2024-12-09T16:45:23.213Z"
   },
   {
    "duration": 458,
    "start_time": "2024-12-09T16:45:23.285Z"
   },
   {
    "duration": 740,
    "start_time": "2024-12-09T16:45:23.745Z"
   },
   {
    "duration": 60,
    "start_time": "2024-12-09T16:45:24.487Z"
   },
   {
    "duration": 6,
    "start_time": "2024-12-09T16:45:24.551Z"
   },
   {
    "duration": 7,
    "start_time": "2024-12-09T16:45:24.558Z"
   },
   {
    "duration": 173,
    "start_time": "2024-12-09T16:45:24.566Z"
   },
   {
    "duration": 6,
    "start_time": "2024-12-09T16:45:24.740Z"
   },
   {
    "duration": 64,
    "start_time": "2024-12-09T16:45:24.748Z"
   },
   {
    "duration": 26,
    "start_time": "2024-12-09T16:45:24.813Z"
   },
   {
    "duration": 186,
    "start_time": "2024-12-09T16:45:24.841Z"
   },
   {
    "duration": 309,
    "start_time": "2024-12-09T16:45:25.029Z"
   },
   {
    "duration": 0,
    "start_time": "2024-12-09T16:45:25.340Z"
   },
   {
    "duration": 0,
    "start_time": "2024-12-09T16:45:25.341Z"
   },
   {
    "duration": 0,
    "start_time": "2024-12-09T16:45:25.343Z"
   },
   {
    "duration": 0,
    "start_time": "2024-12-09T16:45:25.344Z"
   },
   {
    "duration": 0,
    "start_time": "2024-12-09T16:45:25.345Z"
   },
   {
    "duration": 0,
    "start_time": "2024-12-09T16:45:25.346Z"
   },
   {
    "duration": 0,
    "start_time": "2024-12-09T16:45:25.347Z"
   },
   {
    "duration": 0,
    "start_time": "2024-12-09T16:45:25.348Z"
   },
   {
    "duration": 0,
    "start_time": "2024-12-09T16:45:25.349Z"
   },
   {
    "duration": 945,
    "start_time": "2024-12-09T16:46:14.878Z"
   },
   {
    "duration": 217,
    "start_time": "2024-12-09T16:46:15.825Z"
   },
   {
    "duration": 4,
    "start_time": "2024-12-09T16:46:16.044Z"
   },
   {
    "duration": 80,
    "start_time": "2024-12-09T16:46:16.050Z"
   },
   {
    "duration": 57,
    "start_time": "2024-12-09T16:46:16.132Z"
   },
   {
    "duration": 72,
    "start_time": "2024-12-09T16:46:16.191Z"
   },
   {
    "duration": 448,
    "start_time": "2024-12-09T16:46:16.265Z"
   },
   {
    "duration": 775,
    "start_time": "2024-12-09T16:46:16.715Z"
   },
   {
    "duration": 55,
    "start_time": "2024-12-09T16:46:17.492Z"
   },
   {
    "duration": 6,
    "start_time": "2024-12-09T16:46:17.551Z"
   },
   {
    "duration": 7,
    "start_time": "2024-12-09T16:46:17.558Z"
   },
   {
    "duration": 164,
    "start_time": "2024-12-09T16:46:17.567Z"
   },
   {
    "duration": 5,
    "start_time": "2024-12-09T16:46:17.733Z"
   },
   {
    "duration": 51,
    "start_time": "2024-12-09T16:46:17.739Z"
   },
   {
    "duration": 49,
    "start_time": "2024-12-09T16:46:17.791Z"
   },
   {
    "duration": 172,
    "start_time": "2024-12-09T16:46:17.841Z"
   },
   {
    "duration": 37,
    "start_time": "2024-12-09T16:46:18.014Z"
   },
   {
    "duration": 21,
    "start_time": "2024-12-09T16:46:18.053Z"
   },
   {
    "duration": 4,
    "start_time": "2024-12-09T16:46:18.076Z"
   },
   {
    "duration": 50,
    "start_time": "2024-12-09T16:46:18.081Z"
   },
   {
    "duration": 496,
    "start_time": "2024-12-09T16:46:18.133Z"
   },
   {
    "duration": 89,
    "start_time": "2024-12-09T16:46:18.633Z"
   },
   {
    "duration": 4,
    "start_time": "2024-12-09T16:46:18.723Z"
   },
   {
    "duration": 2678,
    "start_time": "2024-12-09T16:46:18.729Z"
   },
   {
    "duration": 4,
    "start_time": "2024-12-09T16:46:21.409Z"
   },
   {
    "duration": 998,
    "start_time": "2024-12-09T16:47:24.999Z"
   },
   {
    "duration": 221,
    "start_time": "2024-12-09T16:47:25.999Z"
   },
   {
    "duration": 3,
    "start_time": "2024-12-09T16:47:26.224Z"
   },
   {
    "duration": 64,
    "start_time": "2024-12-09T16:47:26.228Z"
   },
   {
    "duration": 68,
    "start_time": "2024-12-09T16:47:26.295Z"
   },
   {
    "duration": 68,
    "start_time": "2024-12-09T16:47:26.365Z"
   },
   {
    "duration": 444,
    "start_time": "2024-12-09T16:47:26.434Z"
   },
   {
    "duration": 751,
    "start_time": "2024-12-09T16:47:26.880Z"
   },
   {
    "duration": 44,
    "start_time": "2024-12-09T16:47:27.633Z"
   },
   {
    "duration": 7,
    "start_time": "2024-12-09T16:47:27.678Z"
   },
   {
    "duration": 28,
    "start_time": "2024-12-09T16:47:27.687Z"
   },
   {
    "duration": 151,
    "start_time": "2024-12-09T16:47:27.716Z"
   },
   {
    "duration": 5,
    "start_time": "2024-12-09T16:47:27.869Z"
   },
   {
    "duration": 62,
    "start_time": "2024-12-09T16:47:27.878Z"
   },
   {
    "duration": 25,
    "start_time": "2024-12-09T16:47:27.942Z"
   },
   {
    "duration": 187,
    "start_time": "2024-12-09T16:47:27.969Z"
   },
   {
    "duration": 30,
    "start_time": "2024-12-09T16:47:28.159Z"
   },
   {
    "duration": 35,
    "start_time": "2024-12-09T16:47:28.191Z"
   },
   {
    "duration": 3,
    "start_time": "2024-12-09T16:47:28.227Z"
   },
   {
    "duration": 23,
    "start_time": "2024-12-09T16:47:28.232Z"
   },
   {
    "duration": 481,
    "start_time": "2024-12-09T16:47:28.257Z"
   },
   {
    "duration": 84,
    "start_time": "2024-12-09T16:47:28.739Z"
   },
   {
    "duration": 2,
    "start_time": "2024-12-09T16:47:28.825Z"
   },
   {
    "duration": 2543,
    "start_time": "2024-12-09T16:47:28.829Z"
   },
   {
    "duration": 24,
    "start_time": "2024-12-09T16:47:31.374Z"
   },
   {
    "duration": 4,
    "start_time": "2024-12-09T16:47:31.411Z"
   },
   {
    "duration": 5,
    "start_time": "2024-12-09T16:49:18.432Z"
   },
   {
    "duration": 24,
    "start_time": "2024-12-09T16:52:45.100Z"
   },
   {
    "duration": 22,
    "start_time": "2024-12-09T16:54:55.390Z"
   },
   {
    "duration": 7,
    "start_time": "2024-12-09T16:55:17.221Z"
   },
   {
    "duration": 5,
    "start_time": "2024-12-09T16:55:32.442Z"
   },
   {
    "duration": 19,
    "start_time": "2024-12-09T16:56:22.230Z"
   },
   {
    "duration": 5,
    "start_time": "2024-12-09T16:56:24.128Z"
   },
   {
    "duration": 6,
    "start_time": "2024-12-09T16:56:25.137Z"
   },
   {
    "duration": 5,
    "start_time": "2024-12-09T16:56:41.561Z"
   },
   {
    "duration": 5,
    "start_time": "2024-12-09T16:56:45.301Z"
   },
   {
    "duration": 23,
    "start_time": "2024-12-09T16:57:17.082Z"
   },
   {
    "duration": 3,
    "start_time": "2024-12-09T16:57:34.884Z"
   },
   {
    "duration": 5,
    "start_time": "2024-12-09T16:58:11.728Z"
   },
   {
    "duration": 5,
    "start_time": "2024-12-09T16:58:14.448Z"
   },
   {
    "duration": 4,
    "start_time": "2024-12-09T17:01:19.437Z"
   },
   {
    "duration": 4,
    "start_time": "2024-12-09T17:01:21.433Z"
   },
   {
    "duration": 9,
    "start_time": "2024-12-09T17:01:53.629Z"
   },
   {
    "duration": 4,
    "start_time": "2024-12-09T17:02:21.477Z"
   },
   {
    "duration": 9,
    "start_time": "2024-12-09T17:03:42.789Z"
   },
   {
    "duration": 590,
    "start_time": "2024-12-09T17:19:38.507Z"
   },
   {
    "duration": 232,
    "start_time": "2024-12-09T17:19:56.833Z"
   },
   {
    "duration": 230,
    "start_time": "2024-12-09T17:20:54.380Z"
   },
   {
    "duration": 225,
    "start_time": "2024-12-09T17:21:35.079Z"
   },
   {
    "duration": 230,
    "start_time": "2024-12-09T17:21:48.878Z"
   },
   {
    "duration": 225,
    "start_time": "2024-12-09T17:22:11.705Z"
   },
   {
    "duration": 8,
    "start_time": "2024-12-09T17:23:41.031Z"
   },
   {
    "duration": 13,
    "start_time": "2024-12-09T17:23:54.330Z"
   },
   {
    "duration": 31,
    "start_time": "2024-12-09T17:23:59.909Z"
   },
   {
    "duration": 8,
    "start_time": "2024-12-09T17:24:11.102Z"
   },
   {
    "duration": 28,
    "start_time": "2024-12-09T17:24:23.395Z"
   },
   {
    "duration": 8,
    "start_time": "2024-12-09T17:24:35.555Z"
   },
   {
    "duration": 31,
    "start_time": "2024-12-09T17:24:56.187Z"
   },
   {
    "duration": 227,
    "start_time": "2024-12-09T17:25:34.142Z"
   },
   {
    "duration": 228,
    "start_time": "2024-12-09T17:25:42.909Z"
   },
   {
    "duration": 237,
    "start_time": "2024-12-09T17:25:49.788Z"
   },
   {
    "duration": 235,
    "start_time": "2024-12-09T17:26:01.124Z"
   },
   {
    "duration": 250,
    "start_time": "2024-12-09T17:26:17.546Z"
   },
   {
    "duration": 238,
    "start_time": "2024-12-09T17:27:19.875Z"
   },
   {
    "duration": 251,
    "start_time": "2024-12-09T17:27:39.147Z"
   },
   {
    "duration": 287,
    "start_time": "2024-12-09T17:28:22.457Z"
   },
   {
    "duration": 11,
    "start_time": "2024-12-09T17:33:44.149Z"
   },
   {
    "duration": 15,
    "start_time": "2024-12-09T17:34:04.555Z"
   },
   {
    "duration": 17,
    "start_time": "2024-12-09T17:34:08.508Z"
   },
   {
    "duration": 67,
    "start_time": "2024-12-09T17:35:29.965Z"
   },
   {
    "duration": 130,
    "start_time": "2024-12-09T17:35:57.993Z"
   },
   {
    "duration": 209,
    "start_time": "2024-12-09T17:38:45.014Z"
   },
   {
    "duration": 484,
    "start_time": "2024-12-09T17:39:43.929Z"
   },
   {
    "duration": 130,
    "start_time": "2024-12-09T17:51:09.183Z"
   },
   {
    "duration": 116,
    "start_time": "2024-12-09T17:51:52.714Z"
   },
   {
    "duration": 66,
    "start_time": "2024-12-09T17:52:14.959Z"
   },
   {
    "duration": 135,
    "start_time": "2024-12-09T17:52:54.900Z"
   },
   {
    "duration": 478,
    "start_time": "2024-12-09T17:55:57.546Z"
   },
   {
    "duration": 445,
    "start_time": "2024-12-09T17:57:49.987Z"
   },
   {
    "duration": 451,
    "start_time": "2024-12-09T17:59:43.976Z"
   },
   {
    "duration": 20,
    "start_time": "2024-12-09T18:04:41.321Z"
   },
   {
    "duration": 15,
    "start_time": "2024-12-09T18:04:50.170Z"
   },
   {
    "duration": 128,
    "start_time": "2024-12-09T18:04:52.893Z"
   },
   {
    "duration": 86,
    "start_time": "2024-12-09T18:05:24.747Z"
   },
   {
    "duration": 70,
    "start_time": "2024-12-09T18:05:40.661Z"
   },
   {
    "duration": 413,
    "start_time": "2024-12-09T18:07:00.920Z"
   },
   {
    "duration": 76,
    "start_time": "2024-12-09T18:07:48.550Z"
   },
   {
    "duration": 96,
    "start_time": "2024-12-09T18:10:47.335Z"
   },
   {
    "duration": 77,
    "start_time": "2024-12-09T18:11:09.054Z"
   },
   {
    "duration": 2,
    "start_time": "2024-12-09T18:17:45.259Z"
   },
   {
    "duration": 946,
    "start_time": "2024-12-09T18:20:42.693Z"
   },
   {
    "duration": 303,
    "start_time": "2024-12-09T18:20:43.641Z"
   },
   {
    "duration": 8,
    "start_time": "2024-12-09T18:20:43.946Z"
   },
   {
    "duration": 31,
    "start_time": "2024-12-09T18:20:43.957Z"
   },
   {
    "duration": 25,
    "start_time": "2024-12-09T18:20:43.990Z"
   },
   {
    "duration": 29,
    "start_time": "2024-12-09T18:20:44.017Z"
   },
   {
    "duration": 8,
    "start_time": "2024-12-09T18:20:44.049Z"
   },
   {
    "duration": 52,
    "start_time": "2024-12-09T18:20:44.059Z"
   },
   {
    "duration": 237,
    "start_time": "2024-12-09T18:20:44.113Z"
   },
   {
    "duration": 0,
    "start_time": "2024-12-09T18:20:44.352Z"
   },
   {
    "duration": 0,
    "start_time": "2024-12-09T18:20:44.353Z"
   },
   {
    "duration": 0,
    "start_time": "2024-12-09T18:20:44.354Z"
   },
   {
    "duration": 20,
    "start_time": "2024-12-09T18:20:58.234Z"
   },
   {
    "duration": 20,
    "start_time": "2024-12-09T18:21:03.301Z"
   },
   {
    "duration": 952,
    "start_time": "2024-12-09T18:27:40.581Z"
   },
   {
    "duration": 315,
    "start_time": "2024-12-09T18:27:41.536Z"
   },
   {
    "duration": 10,
    "start_time": "2024-12-09T18:27:41.854Z"
   },
   {
    "duration": 32,
    "start_time": "2024-12-09T18:27:41.867Z"
   },
   {
    "duration": 8,
    "start_time": "2024-12-09T18:27:41.913Z"
   },
   {
    "duration": 27,
    "start_time": "2024-12-09T18:27:41.922Z"
   },
   {
    "duration": 8,
    "start_time": "2024-12-09T18:27:41.951Z"
   },
   {
    "duration": 53,
    "start_time": "2024-12-09T18:27:41.961Z"
   },
   {
    "duration": 17,
    "start_time": "2024-12-09T18:27:42.016Z"
   },
   {
    "duration": 256,
    "start_time": "2024-12-09T18:27:42.035Z"
   },
   {
    "duration": 0,
    "start_time": "2024-12-09T18:27:42.293Z"
   },
   {
    "duration": 0,
    "start_time": "2024-12-09T18:27:42.294Z"
   },
   {
    "duration": 82,
    "start_time": "2024-12-09T18:28:47.748Z"
   },
   {
    "duration": 125,
    "start_time": "2024-12-09T18:29:04.002Z"
   },
   {
    "duration": 940,
    "start_time": "2024-12-09T18:36:05.019Z"
   },
   {
    "duration": 60,
    "start_time": "2024-12-09T18:43:06.671Z"
   },
   {
    "duration": 1044,
    "start_time": "2024-12-09T18:43:48.317Z"
   },
   {
    "duration": 925,
    "start_time": "2024-12-09T18:46:21.387Z"
   },
   {
    "duration": 313,
    "start_time": "2024-12-09T18:46:22.314Z"
   },
   {
    "duration": 8,
    "start_time": "2024-12-09T18:46:22.629Z"
   },
   {
    "duration": 32,
    "start_time": "2024-12-09T18:46:22.638Z"
   },
   {
    "duration": 8,
    "start_time": "2024-12-09T18:46:22.673Z"
   },
   {
    "duration": 30,
    "start_time": "2024-12-09T18:46:22.711Z"
   },
   {
    "duration": 8,
    "start_time": "2024-12-09T18:46:22.743Z"
   },
   {
    "duration": 31,
    "start_time": "2024-12-09T18:46:22.753Z"
   },
   {
    "duration": 38,
    "start_time": "2024-12-09T18:46:22.786Z"
   },
   {
    "duration": 188,
    "start_time": "2024-12-09T18:46:22.825Z"
   },
   {
    "duration": 1021,
    "start_time": "2024-12-09T18:46:23.015Z"
   },
   {
    "duration": 58,
    "start_time": "2024-12-09T18:46:24.038Z"
   },
   {
    "duration": 964,
    "start_time": "2024-12-09T18:46:24.098Z"
   },
   {
    "duration": 148,
    "start_time": "2024-12-09T18:46:25.065Z"
   },
   {
    "duration": 199,
    "start_time": "2024-12-09T18:46:25.215Z"
   },
   {
    "duration": 497,
    "start_time": "2024-12-09T18:46:25.416Z"
   },
   {
    "duration": 990,
    "start_time": "2024-12-09T18:47:24.538Z"
   },
   {
    "duration": 301,
    "start_time": "2024-12-09T18:47:25.531Z"
   },
   {
    "duration": 9,
    "start_time": "2024-12-09T18:47:25.833Z"
   },
   {
    "duration": 32,
    "start_time": "2024-12-09T18:47:25.845Z"
   },
   {
    "duration": 8,
    "start_time": "2024-12-09T18:47:25.879Z"
   },
   {
    "duration": 32,
    "start_time": "2024-12-09T18:47:25.911Z"
   },
   {
    "duration": 10,
    "start_time": "2024-12-09T18:47:25.945Z"
   },
   {
    "duration": 33,
    "start_time": "2024-12-09T18:47:25.957Z"
   },
   {
    "duration": 38,
    "start_time": "2024-12-09T18:47:25.993Z"
   },
   {
    "duration": 180,
    "start_time": "2024-12-09T18:47:26.033Z"
   },
   {
    "duration": 1026,
    "start_time": "2024-12-09T18:47:26.215Z"
   },
   {
    "duration": 71,
    "start_time": "2024-12-09T18:47:27.244Z"
   },
   {
    "duration": 1003,
    "start_time": "2024-12-09T18:47:27.317Z"
   },
   {
    "duration": 16,
    "start_time": "2024-12-09T18:47:28.321Z"
   },
   {
    "duration": 175,
    "start_time": "2024-12-09T18:47:28.339Z"
   },
   {
    "duration": 419,
    "start_time": "2024-12-09T18:47:28.516Z"
   },
   {
    "duration": 172,
    "start_time": "2024-12-09T18:48:53.945Z"
   },
   {
    "duration": 946,
    "start_time": "2024-12-09T18:49:24.759Z"
   },
   {
    "duration": 301,
    "start_time": "2024-12-09T18:49:25.707Z"
   },
   {
    "duration": 9,
    "start_time": "2024-12-09T18:49:26.011Z"
   },
   {
    "duration": 29,
    "start_time": "2024-12-09T18:49:26.022Z"
   },
   {
    "duration": 8,
    "start_time": "2024-12-09T18:49:26.053Z"
   },
   {
    "duration": 49,
    "start_time": "2024-12-09T18:49:26.062Z"
   },
   {
    "duration": 7,
    "start_time": "2024-12-09T18:49:26.113Z"
   },
   {
    "duration": 30,
    "start_time": "2024-12-09T18:49:26.122Z"
   },
   {
    "duration": 17,
    "start_time": "2024-12-09T18:49:26.153Z"
   },
   {
    "duration": 151,
    "start_time": "2024-12-09T18:49:26.173Z"
   },
   {
    "duration": 1080,
    "start_time": "2024-12-09T18:49:26.326Z"
   },
   {
    "duration": 59,
    "start_time": "2024-12-09T18:49:27.412Z"
   },
   {
    "duration": 971,
    "start_time": "2024-12-09T18:49:27.472Z"
   },
   {
    "duration": 182,
    "start_time": "2024-12-09T18:49:28.445Z"
   },
   {
    "duration": 196,
    "start_time": "2024-12-09T18:49:28.629Z"
   },
   {
    "duration": 506,
    "start_time": "2024-12-09T18:49:28.827Z"
   },
   {
    "duration": 212,
    "start_time": "2024-12-09T18:50:38.801Z"
   },
   {
    "duration": 117,
    "start_time": "2024-12-09T18:53:56.216Z"
   },
   {
    "duration": 432,
    "start_time": "2024-12-09T18:54:03.589Z"
   },
   {
    "duration": 1041,
    "start_time": "2024-12-09T19:14:30.248Z"
   },
   {
    "duration": 392,
    "start_time": "2024-12-09T19:14:31.292Z"
   },
   {
    "duration": 9,
    "start_time": "2024-12-09T19:14:31.685Z"
   },
   {
    "duration": 32,
    "start_time": "2024-12-09T19:14:31.695Z"
   },
   {
    "duration": 9,
    "start_time": "2024-12-09T19:14:31.729Z"
   },
   {
    "duration": 50,
    "start_time": "2024-12-09T19:14:31.740Z"
   },
   {
    "duration": 7,
    "start_time": "2024-12-09T19:14:31.792Z"
   },
   {
    "duration": 31,
    "start_time": "2024-12-09T19:14:31.801Z"
   },
   {
    "duration": 20,
    "start_time": "2024-12-09T19:14:31.834Z"
   },
   {
    "duration": 152,
    "start_time": "2024-12-09T19:14:31.855Z"
   },
   {
    "duration": 1124,
    "start_time": "2024-12-09T19:14:32.009Z"
   },
   {
    "duration": 77,
    "start_time": "2024-12-09T19:14:33.135Z"
   },
   {
    "duration": 1016,
    "start_time": "2024-12-09T19:14:33.214Z"
   },
   {
    "duration": 172,
    "start_time": "2024-12-09T19:14:34.234Z"
   },
   {
    "duration": 191,
    "start_time": "2024-12-09T19:14:34.407Z"
   },
   {
    "duration": 74,
    "start_time": "2024-12-09T19:14:44.032Z"
   },
   {
    "duration": 420,
    "start_time": "2024-12-09T19:14:50.190Z"
   },
   {
    "duration": 166,
    "start_time": "2024-12-09T21:18:44.129Z"
   },
   {
    "duration": 2741,
    "start_time": "2024-12-09T21:18:57.537Z"
   },
   {
    "duration": 391,
    "start_time": "2024-12-09T21:19:00.280Z"
   },
   {
    "duration": 10,
    "start_time": "2024-12-09T21:19:00.673Z"
   },
   {
    "duration": 46,
    "start_time": "2024-12-09T21:19:00.685Z"
   },
   {
    "duration": 9,
    "start_time": "2024-12-09T21:19:00.733Z"
   },
   {
    "duration": 29,
    "start_time": "2024-12-09T21:19:00.743Z"
   },
   {
    "duration": 8,
    "start_time": "2024-12-09T21:19:00.774Z"
   },
   {
    "duration": 55,
    "start_time": "2024-12-09T21:19:00.784Z"
   },
   {
    "duration": 90,
    "start_time": "2024-12-09T21:19:00.841Z"
   },
   {
    "duration": 198,
    "start_time": "2024-12-09T21:19:00.935Z"
   },
   {
    "duration": 1041,
    "start_time": "2024-12-09T21:19:01.135Z"
   },
   {
    "duration": 65,
    "start_time": "2024-12-09T21:19:02.178Z"
   },
   {
    "duration": 1009,
    "start_time": "2024-12-09T21:19:02.245Z"
   },
   {
    "duration": 187,
    "start_time": "2024-12-09T21:19:03.256Z"
   },
   {
    "duration": 13,
    "start_time": "2024-12-09T21:19:03.445Z"
   },
   {
    "duration": 484,
    "start_time": "2024-12-09T21:19:03.463Z"
   },
   {
    "duration": 8,
    "start_time": "2024-12-09T21:20:06.345Z"
   },
   {
    "duration": 1045,
    "start_time": "2024-12-09T21:20:17.203Z"
   },
   {
    "duration": 318,
    "start_time": "2024-12-09T21:20:18.251Z"
   },
   {
    "duration": 9,
    "start_time": "2024-12-09T21:20:18.571Z"
   },
   {
    "duration": 34,
    "start_time": "2024-12-09T21:20:18.582Z"
   },
   {
    "duration": 9,
    "start_time": "2024-12-09T21:20:18.633Z"
   },
   {
    "duration": 29,
    "start_time": "2024-12-09T21:20:18.644Z"
   },
   {
    "duration": 8,
    "start_time": "2024-12-09T21:20:18.675Z"
   },
   {
    "duration": 59,
    "start_time": "2024-12-09T21:20:18.685Z"
   },
   {
    "duration": 17,
    "start_time": "2024-12-09T21:20:18.746Z"
   },
   {
    "duration": 172,
    "start_time": "2024-12-09T21:20:18.765Z"
   },
   {
    "duration": 1049,
    "start_time": "2024-12-09T21:20:18.940Z"
   },
   {
    "duration": 65,
    "start_time": "2024-12-09T21:20:19.992Z"
   },
   {
    "duration": 1002,
    "start_time": "2024-12-09T21:20:20.059Z"
   },
   {
    "duration": 181,
    "start_time": "2024-12-09T21:20:21.064Z"
   },
   {
    "duration": 11,
    "start_time": "2024-12-09T21:20:21.247Z"
   },
   {
    "duration": 485,
    "start_time": "2024-12-09T21:20:21.261Z"
   },
   {
    "duration": 10,
    "start_time": "2024-12-09T21:20:49.274Z"
   },
   {
    "duration": 8,
    "start_time": "2024-12-09T21:22:14.564Z"
   },
   {
    "duration": 1471,
    "start_time": "2024-12-09T21:33:35.401Z"
   },
   {
    "duration": 1453,
    "start_time": "2024-12-09T21:35:45.805Z"
   },
   {
    "duration": 2697,
    "start_time": "2024-12-10T22:16:18.844Z"
   },
   {
    "duration": 403,
    "start_time": "2024-12-10T22:16:21.544Z"
   },
   {
    "duration": 9,
    "start_time": "2024-12-10T22:16:21.948Z"
   },
   {
    "duration": 31,
    "start_time": "2024-12-10T22:16:21.960Z"
   },
   {
    "duration": 8,
    "start_time": "2024-12-10T22:16:22.009Z"
   },
   {
    "duration": 28,
    "start_time": "2024-12-10T22:16:22.018Z"
   },
   {
    "duration": 8,
    "start_time": "2024-12-10T22:16:22.047Z"
   },
   {
    "duration": 55,
    "start_time": "2024-12-10T22:16:22.057Z"
   },
   {
    "duration": 19,
    "start_time": "2024-12-10T22:16:22.114Z"
   },
   {
    "duration": 186,
    "start_time": "2024-12-10T22:16:22.136Z"
   },
   {
    "duration": 1151,
    "start_time": "2024-12-10T22:16:22.323Z"
   },
   {
    "duration": 68,
    "start_time": "2024-12-10T22:16:23.476Z"
   },
   {
    "duration": 989,
    "start_time": "2024-12-10T22:16:23.546Z"
   },
   {
    "duration": 180,
    "start_time": "2024-12-10T22:16:24.538Z"
   },
   {
    "duration": 14,
    "start_time": "2024-12-10T22:16:24.722Z"
   },
   {
    "duration": 385,
    "start_time": "2024-12-10T22:16:24.811Z"
   },
   {
    "duration": 1242,
    "start_time": "2024-12-10T23:29:55.649Z"
   },
   {
    "duration": 2608,
    "start_time": "2024-12-11T01:31:56.575Z"
   },
   {
    "duration": 374,
    "start_time": "2024-12-11T01:31:59.185Z"
   },
   {
    "duration": 8,
    "start_time": "2024-12-11T01:31:59.561Z"
   },
   {
    "duration": 43,
    "start_time": "2024-12-11T01:31:59.572Z"
   },
   {
    "duration": 8,
    "start_time": "2024-12-11T01:31:59.617Z"
   },
   {
    "duration": 30,
    "start_time": "2024-12-11T01:31:59.627Z"
   },
   {
    "duration": 9,
    "start_time": "2024-12-11T01:31:59.658Z"
   },
   {
    "duration": 59,
    "start_time": "2024-12-11T01:31:59.669Z"
   },
   {
    "duration": 20,
    "start_time": "2024-12-11T01:31:59.730Z"
   },
   {
    "duration": 172,
    "start_time": "2024-12-11T01:31:59.754Z"
   },
   {
    "duration": 1122,
    "start_time": "2024-12-11T01:31:59.928Z"
   },
   {
    "duration": 62,
    "start_time": "2024-12-11T01:32:01.052Z"
   },
   {
    "duration": 1016,
    "start_time": "2024-12-11T01:32:01.117Z"
   },
   {
    "duration": 187,
    "start_time": "2024-12-11T01:32:02.135Z"
   },
   {
    "duration": 10,
    "start_time": "2024-12-11T01:32:02.324Z"
   },
   {
    "duration": 1356,
    "start_time": "2024-12-11T01:32:02.336Z"
   },
   {
    "duration": 3,
    "start_time": "2024-12-11T01:45:33.230Z"
   },
   {
    "duration": 991,
    "start_time": "2024-12-11T01:45:41.224Z"
   },
   {
    "duration": 304,
    "start_time": "2024-12-11T01:45:42.219Z"
   },
   {
    "duration": 9,
    "start_time": "2024-12-11T01:45:42.525Z"
   },
   {
    "duration": 32,
    "start_time": "2024-12-11T01:45:42.536Z"
   },
   {
    "duration": 7,
    "start_time": "2024-12-11T01:45:42.570Z"
   },
   {
    "duration": 57,
    "start_time": "2024-12-11T01:45:42.579Z"
   },
   {
    "duration": 8,
    "start_time": "2024-12-11T01:45:42.637Z"
   },
   {
    "duration": 32,
    "start_time": "2024-12-11T01:45:42.647Z"
   },
   {
    "duration": 36,
    "start_time": "2024-12-11T01:45:42.681Z"
   },
   {
    "duration": 201,
    "start_time": "2024-12-11T01:45:42.720Z"
   },
   {
    "duration": 1022,
    "start_time": "2024-12-11T01:45:42.923Z"
   },
   {
    "duration": 57,
    "start_time": "2024-12-11T01:45:43.949Z"
   },
   {
    "duration": 987,
    "start_time": "2024-12-11T01:45:44.012Z"
   },
   {
    "duration": 211,
    "start_time": "2024-12-11T01:45:45.002Z"
   },
   {
    "duration": 16,
    "start_time": "2024-12-11T01:45:45.215Z"
   },
   {
    "duration": 480,
    "start_time": "2024-12-11T01:45:45.312Z"
   },
   {
    "duration": 480,
    "start_time": "2024-12-11T01:54:45.701Z"
   },
   {
    "duration": 5,
    "start_time": "2024-12-11T01:55:11.316Z"
   },
   {
    "duration": 163,
    "start_time": "2024-12-11T15:46:14.431Z"
   },
   {
    "duration": 2729,
    "start_time": "2024-12-11T15:46:22.670Z"
   },
   {
    "duration": 376,
    "start_time": "2024-12-11T15:46:25.401Z"
   },
   {
    "duration": 9,
    "start_time": "2024-12-11T15:46:25.779Z"
   },
   {
    "duration": 43,
    "start_time": "2024-12-11T15:46:25.790Z"
   },
   {
    "duration": 7,
    "start_time": "2024-12-11T15:46:25.835Z"
   },
   {
    "duration": 27,
    "start_time": "2024-12-11T15:46:25.844Z"
   },
   {
    "duration": 8,
    "start_time": "2024-12-11T15:46:25.872Z"
   },
   {
    "duration": 53,
    "start_time": "2024-12-11T15:46:25.882Z"
   },
   {
    "duration": 17,
    "start_time": "2024-12-11T15:46:25.937Z"
   },
   {
    "duration": 187,
    "start_time": "2024-12-11T15:46:25.957Z"
   },
   {
    "duration": 1077,
    "start_time": "2024-12-11T15:46:26.145Z"
   },
   {
    "duration": 60,
    "start_time": "2024-12-11T15:46:27.224Z"
   },
   {
    "duration": 975,
    "start_time": "2024-12-11T15:46:27.286Z"
   },
   {
    "duration": 174,
    "start_time": "2024-12-11T15:46:28.262Z"
   },
   {
    "duration": 11,
    "start_time": "2024-12-11T15:46:28.438Z"
   },
   {
    "duration": 553,
    "start_time": "2024-12-11T15:46:28.453Z"
   },
   {
    "duration": 17,
    "start_time": "2024-12-11T15:46:29.008Z"
   },
   {
    "duration": 8,
    "start_time": "2024-12-11T16:00:42.924Z"
   },
   {
    "duration": 164,
    "start_time": "2024-12-11T18:00:35.697Z"
   },
   {
    "duration": 2687,
    "start_time": "2024-12-11T18:00:43.048Z"
   },
   {
    "duration": 385,
    "start_time": "2024-12-11T18:00:45.737Z"
   },
   {
    "duration": 8,
    "start_time": "2024-12-11T18:00:46.124Z"
   },
   {
    "duration": 33,
    "start_time": "2024-12-11T18:00:46.134Z"
   },
   {
    "duration": 8,
    "start_time": "2024-12-11T18:00:46.170Z"
   },
   {
    "duration": 54,
    "start_time": "2024-12-11T18:00:46.180Z"
   },
   {
    "duration": 9,
    "start_time": "2024-12-11T18:00:46.235Z"
   },
   {
    "duration": 32,
    "start_time": "2024-12-11T18:00:46.246Z"
   },
   {
    "duration": 39,
    "start_time": "2024-12-11T18:00:46.280Z"
   },
   {
    "duration": 197,
    "start_time": "2024-12-11T18:00:46.321Z"
   },
   {
    "duration": 1126,
    "start_time": "2024-12-11T18:00:46.521Z"
   },
   {
    "duration": 74,
    "start_time": "2024-12-11T18:00:47.649Z"
   },
   {
    "duration": 1003,
    "start_time": "2024-12-11T18:00:47.725Z"
   },
   {
    "duration": 191,
    "start_time": "2024-12-11T18:00:48.732Z"
   },
   {
    "duration": 10,
    "start_time": "2024-12-11T18:00:48.925Z"
   },
   {
    "duration": 966,
    "start_time": "2024-12-11T18:00:48.937Z"
   },
   {
    "duration": 854,
    "start_time": "2024-12-11T18:01:18.787Z"
   },
   {
    "duration": 851,
    "start_time": "2024-12-11T18:07:41.375Z"
   },
   {
    "duration": 223,
    "start_time": "2024-12-11T18:12:06.110Z"
   },
   {
    "duration": 11,
    "start_time": "2024-12-11T18:13:33.069Z"
   },
   {
    "duration": 10,
    "start_time": "2024-12-11T18:13:50.837Z"
   },
   {
    "duration": 10,
    "start_time": "2024-12-11T18:15:16.110Z"
   },
   {
    "duration": 16,
    "start_time": "2024-12-11T18:15:16.961Z"
   },
   {
    "duration": 12,
    "start_time": "2024-12-11T18:24:51.765Z"
   },
   {
    "duration": 63,
    "start_time": "2024-12-11T18:30:07.757Z"
   },
   {
    "duration": 1033,
    "start_time": "2024-12-11T18:30:22.511Z"
   },
   {
    "duration": 957,
    "start_time": "2024-12-11T18:30:37.329Z"
   },
   {
    "duration": 1033,
    "start_time": "2024-12-11T18:31:08.696Z"
   },
   {
    "duration": 919,
    "start_time": "2024-12-11T18:31:33.298Z"
   },
   {
    "duration": 5,
    "start_time": "2024-12-11T18:32:42.588Z"
   },
   {
    "duration": 5,
    "start_time": "2024-12-11T18:33:04.662Z"
   },
   {
    "duration": 1007,
    "start_time": "2024-12-11T18:33:40.839Z"
   },
   {
    "duration": 306,
    "start_time": "2024-12-11T18:33:41.848Z"
   },
   {
    "duration": 8,
    "start_time": "2024-12-11T18:33:42.156Z"
   },
   {
    "duration": 33,
    "start_time": "2024-12-11T18:33:42.165Z"
   },
   {
    "duration": 7,
    "start_time": "2024-12-11T18:33:42.213Z"
   },
   {
    "duration": 31,
    "start_time": "2024-12-11T18:33:42.222Z"
   },
   {
    "duration": 8,
    "start_time": "2024-12-11T18:33:42.255Z"
   },
   {
    "duration": 57,
    "start_time": "2024-12-11T18:33:42.265Z"
   },
   {
    "duration": 21,
    "start_time": "2024-12-11T18:33:42.324Z"
   },
   {
    "duration": 248,
    "start_time": "2024-12-11T18:33:42.347Z"
   },
   {
    "duration": 1,
    "start_time": "2024-12-11T18:33:42.596Z"
   },
   {
    "duration": 0,
    "start_time": "2024-12-11T18:33:42.598Z"
   },
   {
    "duration": 0,
    "start_time": "2024-12-11T18:33:42.599Z"
   },
   {
    "duration": 0,
    "start_time": "2024-12-11T18:33:42.600Z"
   },
   {
    "duration": 0,
    "start_time": "2024-12-11T18:33:42.601Z"
   },
   {
    "duration": 0,
    "start_time": "2024-12-11T18:33:42.601Z"
   },
   {
    "duration": 0,
    "start_time": "2024-12-11T18:33:42.602Z"
   },
   {
    "duration": 0,
    "start_time": "2024-12-11T18:33:42.602Z"
   },
   {
    "duration": 0,
    "start_time": "2024-12-11T18:33:42.612Z"
   },
   {
    "duration": 124,
    "start_time": "2024-12-11T18:34:22.011Z"
   },
   {
    "duration": 1189,
    "start_time": "2024-12-11T18:34:34.804Z"
   },
   {
    "duration": 346,
    "start_time": "2024-12-11T18:34:35.996Z"
   },
   {
    "duration": 11,
    "start_time": "2024-12-11T18:34:36.344Z"
   },
   {
    "duration": 55,
    "start_time": "2024-12-11T18:34:36.357Z"
   },
   {
    "duration": 11,
    "start_time": "2024-12-11T18:34:36.416Z"
   },
   {
    "duration": 36,
    "start_time": "2024-12-11T18:34:36.431Z"
   },
   {
    "duration": 10,
    "start_time": "2024-12-11T18:34:36.469Z"
   },
   {
    "duration": 52,
    "start_time": "2024-12-11T18:34:36.482Z"
   },
   {
    "duration": 24,
    "start_time": "2024-12-11T18:34:36.537Z"
   },
   {
    "duration": 164,
    "start_time": "2024-12-11T18:34:36.563Z"
   },
   {
    "duration": 1184,
    "start_time": "2024-12-11T18:34:36.728Z"
   },
   {
    "duration": 66,
    "start_time": "2024-12-11T18:34:37.914Z"
   },
   {
    "duration": 994,
    "start_time": "2024-12-11T18:34:37.984Z"
   },
   {
    "duration": 5,
    "start_time": "2024-12-11T18:34:38.980Z"
   },
   {
    "duration": 25,
    "start_time": "2024-12-11T18:34:38.987Z"
   },
   {
    "duration": 19,
    "start_time": "2024-12-11T18:34:39.015Z"
   },
   {
    "duration": 976,
    "start_time": "2024-12-11T18:34:39.036Z"
   },
   {
    "duration": 10,
    "start_time": "2024-12-11T18:34:40.013Z"
   },
   {
    "duration": 320,
    "start_time": "2024-12-11T18:34:40.025Z"
   },
   {
    "duration": 9,
    "start_time": "2024-12-11T18:35:20.720Z"
   },
   {
    "duration": 842,
    "start_time": "2024-12-11T18:35:35.506Z"
   },
   {
    "duration": 9,
    "start_time": "2024-12-11T18:35:45.841Z"
   },
   {
    "duration": 969,
    "start_time": "2024-12-11T18:35:51.402Z"
   },
   {
    "duration": 304,
    "start_time": "2024-12-11T18:35:52.374Z"
   },
   {
    "duration": 10,
    "start_time": "2024-12-11T18:35:52.680Z"
   },
   {
    "duration": 42,
    "start_time": "2024-12-11T18:35:52.692Z"
   },
   {
    "duration": 7,
    "start_time": "2024-12-11T18:35:52.736Z"
   },
   {
    "duration": 28,
    "start_time": "2024-12-11T18:35:52.745Z"
   },
   {
    "duration": 9,
    "start_time": "2024-12-11T18:35:52.775Z"
   },
   {
    "duration": 51,
    "start_time": "2024-12-11T18:35:52.786Z"
   },
   {
    "duration": 21,
    "start_time": "2024-12-11T18:35:52.839Z"
   },
   {
    "duration": 160,
    "start_time": "2024-12-11T18:35:52.862Z"
   },
   {
    "duration": 1100,
    "start_time": "2024-12-11T18:35:53.024Z"
   },
   {
    "duration": 62,
    "start_time": "2024-12-11T18:35:54.126Z"
   },
   {
    "duration": 958,
    "start_time": "2024-12-11T18:35:54.190Z"
   },
   {
    "duration": 5,
    "start_time": "2024-12-11T18:35:55.149Z"
   },
   {
    "duration": 10,
    "start_time": "2024-12-11T18:35:55.155Z"
   },
   {
    "duration": 13,
    "start_time": "2024-12-11T18:35:55.167Z"
   },
   {
    "duration": 846,
    "start_time": "2024-12-11T18:35:55.182Z"
   },
   {
    "duration": 10,
    "start_time": "2024-12-11T18:35:56.030Z"
   },
   {
    "duration": 14,
    "start_time": "2024-12-11T18:36:16.751Z"
   },
   {
    "duration": 809,
    "start_time": "2024-12-11T18:36:20.778Z"
   },
   {
    "duration": 827,
    "start_time": "2024-12-11T18:39:51.772Z"
   },
   {
    "duration": 11,
    "start_time": "2024-12-11T18:40:21.968Z"
   },
   {
    "duration": 10,
    "start_time": "2024-12-11T18:40:55.877Z"
   },
   {
    "duration": 921,
    "start_time": "2024-12-11T18:41:06.285Z"
   },
   {
    "duration": 305,
    "start_time": "2024-12-11T18:41:07.209Z"
   },
   {
    "duration": 8,
    "start_time": "2024-12-11T18:41:07.517Z"
   },
   {
    "duration": 32,
    "start_time": "2024-12-11T18:41:07.527Z"
   },
   {
    "duration": 7,
    "start_time": "2024-12-11T18:41:07.563Z"
   },
   {
    "duration": 55,
    "start_time": "2024-12-11T18:41:07.571Z"
   },
   {
    "duration": 9,
    "start_time": "2024-12-11T18:41:07.628Z"
   },
   {
    "duration": 31,
    "start_time": "2024-12-11T18:41:07.639Z"
   },
   {
    "duration": 40,
    "start_time": "2024-12-11T18:41:07.672Z"
   },
   {
    "duration": 118,
    "start_time": "2024-12-11T18:41:07.715Z"
   },
   {
    "duration": 15,
    "start_time": "2024-12-11T18:41:07.912Z"
   },
   {
    "duration": 1014,
    "start_time": "2024-12-11T18:41:07.930Z"
   },
   {
    "duration": 65,
    "start_time": "2024-12-11T18:41:08.946Z"
   },
   {
    "duration": 933,
    "start_time": "2024-12-11T18:41:09.014Z"
   },
   {
    "duration": 9,
    "start_time": "2024-12-11T18:41:09.949Z"
   },
   {
    "duration": 11,
    "start_time": "2024-12-11T18:41:09.962Z"
   },
   {
    "duration": 13,
    "start_time": "2024-12-11T18:41:09.976Z"
   },
   {
    "duration": 30,
    "start_time": "2024-12-11T18:41:09.990Z"
   },
   {
    "duration": 863,
    "start_time": "2024-12-11T18:41:10.022Z"
   },
   {
    "duration": 10,
    "start_time": "2024-12-11T18:41:10.886Z"
   },
   {
    "duration": 979,
    "start_time": "2024-12-11T18:44:01.742Z"
   },
   {
    "duration": 296,
    "start_time": "2024-12-11T18:44:02.723Z"
   },
   {
    "duration": 9,
    "start_time": "2024-12-11T18:44:03.020Z"
   },
   {
    "duration": 30,
    "start_time": "2024-12-11T18:44:03.031Z"
   },
   {
    "duration": 8,
    "start_time": "2024-12-11T18:44:03.063Z"
   },
   {
    "duration": 52,
    "start_time": "2024-12-11T18:44:03.073Z"
   },
   {
    "duration": 8,
    "start_time": "2024-12-11T18:44:03.126Z"
   },
   {
    "duration": 30,
    "start_time": "2024-12-11T18:44:03.135Z"
   },
   {
    "duration": 18,
    "start_time": "2024-12-11T18:44:03.166Z"
   },
   {
    "duration": 145,
    "start_time": "2024-12-11T18:44:03.187Z"
   },
   {
    "duration": 14,
    "start_time": "2024-12-11T18:44:03.416Z"
   },
   {
    "duration": 1014,
    "start_time": "2024-12-11T18:44:03.431Z"
   },
   {
    "duration": 69,
    "start_time": "2024-12-11T18:44:04.446Z"
   },
   {
    "duration": 935,
    "start_time": "2024-12-11T18:44:04.517Z"
   },
   {
    "duration": 4,
    "start_time": "2024-12-11T18:44:05.454Z"
   },
   {
    "duration": 9,
    "start_time": "2024-12-11T18:44:05.460Z"
   },
   {
    "duration": 12,
    "start_time": "2024-12-11T18:44:05.470Z"
   },
   {
    "duration": 30,
    "start_time": "2024-12-11T18:44:05.484Z"
   },
   {
    "duration": 856,
    "start_time": "2024-12-11T18:44:05.515Z"
   },
   {
    "duration": 10,
    "start_time": "2024-12-11T18:44:06.373Z"
   },
   {
    "duration": 17,
    "start_time": "2024-12-11T18:47:10.458Z"
   },
   {
    "duration": 251,
    "start_time": "2024-12-11T18:50:09.181Z"
   },
   {
    "duration": 299,
    "start_time": "2024-12-11T18:50:16.218Z"
   },
   {
    "duration": 75,
    "start_time": "2024-12-11T18:50:37.260Z"
   },
   {
    "duration": 86,
    "start_time": "2024-12-11T18:51:09.340Z"
   },
   {
    "duration": 5,
    "start_time": "2024-12-11T18:51:22.444Z"
   },
   {
    "duration": 68,
    "start_time": "2024-12-11T18:51:42.162Z"
   },
   {
    "duration": 5,
    "start_time": "2024-12-11T18:51:44.727Z"
   },
   {
    "duration": 5,
    "start_time": "2024-12-11T18:51:54.981Z"
   },
   {
    "duration": 86,
    "start_time": "2024-12-11T18:54:51.244Z"
   },
   {
    "duration": 160,
    "start_time": "2024-12-11T18:55:55.055Z"
   },
   {
    "duration": 111,
    "start_time": "2024-12-11T18:57:20.622Z"
   },
   {
    "duration": 847,
    "start_time": "2024-12-11T18:57:46.422Z"
   },
   {
    "duration": 726,
    "start_time": "2024-12-11T19:00:10.882Z"
   },
   {
    "duration": 10,
    "start_time": "2024-12-11T19:00:22.055Z"
   },
   {
    "duration": 6,
    "start_time": "2024-12-11T19:00:44.507Z"
   },
   {
    "duration": 7,
    "start_time": "2024-12-11T19:00:49.323Z"
   },
   {
    "duration": 13,
    "start_time": "2024-12-11T19:00:52.437Z"
   },
   {
    "duration": 996,
    "start_time": "2024-12-11T19:06:09.176Z"
   },
   {
    "duration": 322,
    "start_time": "2024-12-11T19:06:10.174Z"
   },
   {
    "duration": 14,
    "start_time": "2024-12-11T19:06:10.498Z"
   },
   {
    "duration": 31,
    "start_time": "2024-12-11T19:06:10.514Z"
   },
   {
    "duration": 8,
    "start_time": "2024-12-11T19:06:10.547Z"
   },
   {
    "duration": 27,
    "start_time": "2024-12-11T19:06:10.557Z"
   },
   {
    "duration": 29,
    "start_time": "2024-12-11T19:06:10.586Z"
   },
   {
    "duration": 29,
    "start_time": "2024-12-11T19:06:10.618Z"
   },
   {
    "duration": 18,
    "start_time": "2024-12-11T19:06:10.648Z"
   },
   {
    "duration": 159,
    "start_time": "2024-12-11T19:06:10.670Z"
   },
   {
    "duration": 1113,
    "start_time": "2024-12-11T19:06:10.830Z"
   },
   {
    "duration": 72,
    "start_time": "2024-12-11T19:06:11.945Z"
   },
   {
    "duration": 927,
    "start_time": "2024-12-11T19:06:12.019Z"
   },
   {
    "duration": 5,
    "start_time": "2024-12-11T19:06:12.949Z"
   },
   {
    "duration": 9,
    "start_time": "2024-12-11T19:06:12.955Z"
   },
   {
    "duration": 13,
    "start_time": "2024-12-11T19:06:12.965Z"
   },
   {
    "duration": 8,
    "start_time": "2024-12-11T19:06:12.980Z"
   },
   {
    "duration": 833,
    "start_time": "2024-12-11T19:06:13.012Z"
   },
   {
    "duration": 13,
    "start_time": "2024-12-11T19:06:13.847Z"
   },
   {
    "duration": 302,
    "start_time": "2024-12-11T19:06:54.244Z"
   },
   {
    "duration": 304,
    "start_time": "2024-12-11T19:07:06.918Z"
   },
   {
    "duration": 303,
    "start_time": "2024-12-11T19:07:26.820Z"
   },
   {
    "duration": 312,
    "start_time": "2024-12-11T19:07:39.418Z"
   },
   {
    "duration": 320,
    "start_time": "2024-12-11T19:07:48.702Z"
   },
   {
    "duration": 326,
    "start_time": "2024-12-11T19:07:52.395Z"
   },
   {
    "duration": 317,
    "start_time": "2024-12-11T19:07:56.466Z"
   },
   {
    "duration": 334,
    "start_time": "2024-12-11T19:08:00.198Z"
   },
   {
    "duration": 326,
    "start_time": "2024-12-11T19:08:05.218Z"
   },
   {
    "duration": 20,
    "start_time": "2024-12-11T19:08:51.742Z"
   },
   {
    "duration": 18,
    "start_time": "2024-12-11T19:10:05.554Z"
   },
   {
    "duration": 979,
    "start_time": "2024-12-11T19:12:32.427Z"
   },
   {
    "duration": 336,
    "start_time": "2024-12-11T19:12:33.408Z"
   },
   {
    "duration": 8,
    "start_time": "2024-12-11T19:12:33.745Z"
   },
   {
    "duration": 32,
    "start_time": "2024-12-11T19:12:33.755Z"
   },
   {
    "duration": 27,
    "start_time": "2024-12-11T19:12:33.789Z"
   },
   {
    "duration": 28,
    "start_time": "2024-12-11T19:12:33.818Z"
   },
   {
    "duration": 9,
    "start_time": "2024-12-11T19:12:33.848Z"
   },
   {
    "duration": 58,
    "start_time": "2024-12-11T19:12:33.859Z"
   },
   {
    "duration": 20,
    "start_time": "2024-12-11T19:12:33.919Z"
   },
   {
    "duration": 170,
    "start_time": "2024-12-11T19:12:33.943Z"
   },
   {
    "duration": 1041,
    "start_time": "2024-12-11T19:12:34.115Z"
   },
   {
    "duration": 73,
    "start_time": "2024-12-11T19:12:35.158Z"
   },
   {
    "duration": 970,
    "start_time": "2024-12-11T19:12:35.233Z"
   },
   {
    "duration": 9,
    "start_time": "2024-12-11T19:12:36.205Z"
   },
   {
    "duration": 7,
    "start_time": "2024-12-11T19:12:36.216Z"
   },
   {
    "duration": 12,
    "start_time": "2024-12-11T19:12:36.225Z"
   },
   {
    "duration": 9,
    "start_time": "2024-12-11T19:12:36.238Z"
   },
   {
    "duration": 870,
    "start_time": "2024-12-11T19:12:36.249Z"
   },
   {
    "duration": 13,
    "start_time": "2024-12-11T19:12:37.120Z"
   },
   {
    "duration": 14,
    "start_time": "2024-12-11T19:13:00.895Z"
   },
   {
    "duration": 855,
    "start_time": "2024-12-11T19:16:07.687Z"
   },
   {
    "duration": 861,
    "start_time": "2024-12-11T19:16:30.801Z"
   },
   {
    "duration": 877,
    "start_time": "2024-12-11T19:17:06.577Z"
   },
   {
    "duration": 620,
    "start_time": "2024-12-11T19:17:46.740Z"
   },
   {
    "duration": 3641,
    "start_time": "2024-12-11T19:18:29.277Z"
   },
   {
    "duration": 856,
    "start_time": "2024-12-11T19:19:18.029Z"
   },
   {
    "duration": 861,
    "start_time": "2024-12-11T19:19:28.239Z"
   },
   {
    "duration": 897,
    "start_time": "2024-12-11T19:19:50.495Z"
   },
   {
    "duration": 24,
    "start_time": "2024-12-11T19:20:12.850Z"
   },
   {
    "duration": 881,
    "start_time": "2024-12-11T19:20:21.250Z"
   },
   {
    "duration": 83,
    "start_time": "2024-12-11T19:25:24.050Z"
   },
   {
    "duration": 880,
    "start_time": "2024-12-11T19:25:51.661Z"
   },
   {
    "duration": 435,
    "start_time": "2024-12-11T19:26:51.652Z"
   },
   {
    "duration": 2536,
    "start_time": "2024-12-11T19:27:20.960Z"
   },
   {
    "duration": 916,
    "start_time": "2024-12-11T19:28:16.751Z"
   },
   {
    "duration": 933,
    "start_time": "2024-12-11T19:33:29.874Z"
   },
   {
    "duration": 920,
    "start_time": "2024-12-11T19:34:01.101Z"
   },
   {
    "duration": 12,
    "start_time": "2024-12-11T19:34:24.608Z"
   },
   {
    "duration": 14,
    "start_time": "2024-12-11T19:34:35.037Z"
   },
   {
    "duration": 14,
    "start_time": "2024-12-11T19:34:47.838Z"
   },
   {
    "duration": 10,
    "start_time": "2024-12-11T19:36:19.056Z"
   },
   {
    "duration": 15,
    "start_time": "2024-12-11T19:36:38.084Z"
   },
   {
    "duration": 14,
    "start_time": "2024-12-11T19:36:46.226Z"
   },
   {
    "duration": 1268,
    "start_time": "2024-12-11T19:37:53.738Z"
   },
   {
    "duration": 1181,
    "start_time": "2024-12-11T19:40:07.854Z"
   },
   {
    "duration": 877,
    "start_time": "2024-12-11T19:40:25.057Z"
   },
   {
    "duration": 855,
    "start_time": "2024-12-11T19:44:01.632Z"
   },
   {
    "duration": 867,
    "start_time": "2024-12-11T19:44:17.601Z"
   },
   {
    "duration": 26,
    "start_time": "2024-12-11T19:45:21.058Z"
   },
   {
    "duration": 916,
    "start_time": "2024-12-11T19:45:39.631Z"
   },
   {
    "duration": 911,
    "start_time": "2024-12-11T19:46:29.068Z"
   },
   {
    "duration": 2550,
    "start_time": "2024-12-11T19:47:09.457Z"
   },
   {
    "duration": 2526,
    "start_time": "2024-12-11T19:47:41.486Z"
   },
   {
    "duration": 2568,
    "start_time": "2024-12-11T19:48:18.430Z"
   },
   {
    "duration": 2550,
    "start_time": "2024-12-11T19:49:04.844Z"
   },
   {
    "duration": 2457,
    "start_time": "2024-12-11T19:51:15.337Z"
   },
   {
    "duration": 855,
    "start_time": "2024-12-11T19:51:27.208Z"
   },
   {
    "duration": 12885,
    "start_time": "2024-12-11T19:51:57.137Z"
   },
   {
    "duration": 848,
    "start_time": "2024-12-11T19:52:29.986Z"
   },
   {
    "duration": 879,
    "start_time": "2024-12-11T19:52:39.449Z"
   },
   {
    "duration": 7,
    "start_time": "2024-12-11T20:13:54.246Z"
   },
   {
    "duration": 593,
    "start_time": "2024-12-11T20:14:14.924Z"
   },
   {
    "duration": 592,
    "start_time": "2024-12-11T20:14:22.766Z"
   },
   {
    "duration": 999,
    "start_time": "2024-12-11T20:14:28.904Z"
   },
   {
    "duration": 347,
    "start_time": "2024-12-11T20:14:29.905Z"
   },
   {
    "duration": 8,
    "start_time": "2024-12-11T20:14:30.253Z"
   },
   {
    "duration": 50,
    "start_time": "2024-12-11T20:14:30.263Z"
   },
   {
    "duration": 8,
    "start_time": "2024-12-11T20:14:30.315Z"
   },
   {
    "duration": 27,
    "start_time": "2024-12-11T20:14:30.325Z"
   },
   {
    "duration": 8,
    "start_time": "2024-12-11T20:14:30.354Z"
   },
   {
    "duration": 49,
    "start_time": "2024-12-11T20:14:30.364Z"
   },
   {
    "duration": 18,
    "start_time": "2024-12-11T20:14:30.414Z"
   },
   {
    "duration": 178,
    "start_time": "2024-12-11T20:14:30.435Z"
   },
   {
    "duration": 13,
    "start_time": "2024-12-11T20:14:30.618Z"
   },
   {
    "duration": 1005,
    "start_time": "2024-12-11T20:14:30.635Z"
   },
   {
    "duration": 69,
    "start_time": "2024-12-11T20:14:31.642Z"
   },
   {
    "duration": 916,
    "start_time": "2024-12-11T20:14:31.713Z"
   },
   {
    "duration": 5,
    "start_time": "2024-12-11T20:14:32.630Z"
   },
   {
    "duration": 9,
    "start_time": "2024-12-11T20:14:32.637Z"
   },
   {
    "duration": 604,
    "start_time": "2024-12-11T20:14:32.648Z"
   },
   {
    "duration": 1945,
    "start_time": "2024-12-11T20:15:39.101Z"
   },
   {
    "duration": 1661,
    "start_time": "2024-12-11T20:16:00.126Z"
   },
   {
    "duration": 30,
    "start_time": "2024-12-11T20:16:22.948Z"
   },
   {
    "duration": 4964,
    "start_time": "2024-12-11T20:17:09.929Z"
   },
   {
    "duration": 595,
    "start_time": "2024-12-11T20:25:12.325Z"
   },
   {
    "duration": 831,
    "start_time": "2024-12-11T20:26:13.887Z"
   },
   {
    "duration": 23,
    "start_time": "2024-12-11T20:31:31.273Z"
   },
   {
    "duration": 8935,
    "start_time": "2024-12-11T20:31:41.825Z"
   },
   {
    "duration": 8854,
    "start_time": "2024-12-11T20:32:09.819Z"
   },
   {
    "duration": 989,
    "start_time": "2024-12-11T20:36:01.499Z"
   },
   {
    "duration": 364,
    "start_time": "2024-12-11T20:36:02.491Z"
   },
   {
    "duration": 8,
    "start_time": "2024-12-11T20:36:02.857Z"
   },
   {
    "duration": 53,
    "start_time": "2024-12-11T20:36:02.867Z"
   },
   {
    "duration": 8,
    "start_time": "2024-12-11T20:36:02.924Z"
   },
   {
    "duration": 30,
    "start_time": "2024-12-11T20:36:02.933Z"
   },
   {
    "duration": 8,
    "start_time": "2024-12-11T20:36:02.965Z"
   },
   {
    "duration": 57,
    "start_time": "2024-12-11T20:36:02.975Z"
   },
   {
    "duration": 21,
    "start_time": "2024-12-11T20:36:03.034Z"
   },
   {
    "duration": 161,
    "start_time": "2024-12-11T20:36:03.056Z"
   },
   {
    "duration": 11,
    "start_time": "2024-12-11T20:36:03.219Z"
   },
   {
    "duration": 952,
    "start_time": "2024-12-11T20:36:03.311Z"
   },
   {
    "duration": 70,
    "start_time": "2024-12-11T20:36:04.266Z"
   },
   {
    "duration": 985,
    "start_time": "2024-12-11T20:36:04.340Z"
   },
   {
    "duration": 5,
    "start_time": "2024-12-11T20:36:05.327Z"
   },
   {
    "duration": 9,
    "start_time": "2024-12-11T20:36:05.334Z"
   },
   {
    "duration": 1119,
    "start_time": "2024-12-11T20:46:34.159Z"
   },
   {
    "duration": 392,
    "start_time": "2024-12-11T20:46:35.281Z"
   },
   {
    "duration": 9,
    "start_time": "2024-12-11T20:46:35.675Z"
   },
   {
    "duration": 58,
    "start_time": "2024-12-11T20:46:35.685Z"
   },
   {
    "duration": 8,
    "start_time": "2024-12-11T20:46:35.745Z"
   },
   {
    "duration": 41,
    "start_time": "2024-12-11T20:46:35.755Z"
   },
   {
    "duration": 10,
    "start_time": "2024-12-11T20:46:35.812Z"
   },
   {
    "duration": 44,
    "start_time": "2024-12-11T20:46:35.824Z"
   },
   {
    "duration": 41,
    "start_time": "2024-12-11T20:46:35.871Z"
   },
   {
    "duration": 299,
    "start_time": "2024-12-11T20:46:35.913Z"
   },
   {
    "duration": 16,
    "start_time": "2024-12-11T20:46:36.215Z"
   },
   {
    "duration": 1014,
    "start_time": "2024-12-11T20:46:36.235Z"
   },
   {
    "duration": 70,
    "start_time": "2024-12-11T20:46:37.251Z"
   },
   {
    "duration": 913,
    "start_time": "2024-12-11T20:46:37.325Z"
   },
   {
    "duration": 4,
    "start_time": "2024-12-11T20:46:38.241Z"
   },
   {
    "duration": 8,
    "start_time": "2024-12-11T20:46:38.248Z"
   },
   {
    "duration": 24020,
    "start_time": "2024-12-11T20:46:38.258Z"
   },
   {
    "duration": 9,
    "start_time": "2024-12-11T20:47:16.157Z"
   },
   {
    "duration": 27022,
    "start_time": "2024-12-11T20:51:13.391Z"
   },
   {
    "duration": 27214,
    "start_time": "2024-12-11T20:52:33.941Z"
   },
   {
    "duration": 24715,
    "start_time": "2024-12-11T20:54:32.859Z"
   },
   {
    "duration": 22437,
    "start_time": "2024-12-11T20:55:16.178Z"
   },
   {
    "duration": 11135,
    "start_time": "2024-12-11T20:56:25.216Z"
   },
   {
    "duration": 510,
    "start_time": "2024-12-11T20:57:49.303Z"
   },
   {
    "duration": 11215,
    "start_time": "2024-12-11T20:58:58.179Z"
   },
   {
    "duration": 22304,
    "start_time": "2024-12-11T21:00:07.027Z"
   },
   {
    "duration": 22426,
    "start_time": "2024-12-11T21:00:39.898Z"
   },
   {
    "duration": 22948,
    "start_time": "2024-12-11T21:02:08.767Z"
   },
   {
    "duration": 21564,
    "start_time": "2024-12-11T21:05:37.255Z"
   },
   {
    "duration": 21947,
    "start_time": "2024-12-11T21:06:46.439Z"
   },
   {
    "duration": 5,
    "start_time": "2024-12-11T21:07:49.644Z"
   },
   {
    "duration": 3,
    "start_time": "2024-12-11T21:08:03.633Z"
   },
   {
    "duration": 4,
    "start_time": "2024-12-11T21:08:19.012Z"
   },
   {
    "duration": 166,
    "start_time": "2024-12-11T21:08:28.771Z"
   },
   {
    "duration": 25,
    "start_time": "2024-12-11T21:08:45.486Z"
   },
   {
    "duration": 21568,
    "start_time": "2024-12-11T21:08:52.861Z"
   },
   {
    "duration": 21160,
    "start_time": "2024-12-11T21:17:00.706Z"
   },
   {
    "duration": 21211,
    "start_time": "2024-12-11T21:18:19.466Z"
   },
   {
    "duration": 5,
    "start_time": "2024-12-11T21:28:41.087Z"
   },
   {
    "duration": 6,
    "start_time": "2024-12-11T21:31:17.569Z"
   },
   {
    "duration": 7,
    "start_time": "2024-12-11T21:31:25.229Z"
   },
   {
    "duration": 587,
    "start_time": "2024-12-11T21:31:41.618Z"
   },
   {
    "duration": 760,
    "start_time": "2024-12-11T21:32:17.313Z"
   },
   {
    "duration": 22578,
    "start_time": "2024-12-11T21:33:03.349Z"
   },
   {
    "duration": 22675,
    "start_time": "2024-12-11T21:38:46.142Z"
   },
   {
    "duration": 3,
    "start_time": "2024-12-11T21:40:03.043Z"
   },
   {
    "duration": 93,
    "start_time": "2024-12-11T21:40:41.847Z"
   },
   {
    "duration": 1337,
    "start_time": "2024-12-11T21:40:52.507Z"
   },
   {
    "duration": 428,
    "start_time": "2024-12-11T21:40:53.847Z"
   },
   {
    "duration": 10,
    "start_time": "2024-12-11T21:40:54.277Z"
   },
   {
    "duration": 63,
    "start_time": "2024-12-11T21:40:54.288Z"
   },
   {
    "duration": 10,
    "start_time": "2024-12-11T21:40:54.354Z"
   },
   {
    "duration": 62,
    "start_time": "2024-12-11T21:40:54.366Z"
   },
   {
    "duration": 9,
    "start_time": "2024-12-11T21:40:54.430Z"
   },
   {
    "duration": 39,
    "start_time": "2024-12-11T21:40:54.441Z"
   },
   {
    "duration": 45,
    "start_time": "2024-12-11T21:40:54.481Z"
   },
   {
    "duration": 208,
    "start_time": "2024-12-11T21:40:54.529Z"
   },
   {
    "duration": 92,
    "start_time": "2024-12-11T21:40:54.739Z"
   },
   {
    "duration": 1184,
    "start_time": "2024-12-11T21:40:54.834Z"
   },
   {
    "duration": 91,
    "start_time": "2024-12-11T21:40:56.020Z"
   },
   {
    "duration": 1074,
    "start_time": "2024-12-11T21:40:56.115Z"
   },
   {
    "duration": 6,
    "start_time": "2024-12-11T21:40:57.192Z"
   },
   {
    "duration": 11,
    "start_time": "2024-12-11T21:40:57.213Z"
   },
   {
    "duration": 370,
    "start_time": "2024-12-11T21:40:57.226Z"
   },
   {
    "duration": 26,
    "start_time": "2024-12-11T21:41:09.115Z"
   },
   {
    "duration": 24,
    "start_time": "2024-12-11T21:41:13.794Z"
   },
   {
    "duration": 271,
    "start_time": "2024-12-11T21:41:48.443Z"
   },
   {
    "duration": 1136,
    "start_time": "2024-12-11T21:42:39.264Z"
   },
   {
    "duration": 30,
    "start_time": "2024-12-11T21:47:25.823Z"
   },
   {
    "duration": 1365,
    "start_time": "2024-12-11T21:47:50.333Z"
   },
   {
    "duration": 508,
    "start_time": "2024-12-11T21:48:01.754Z"
   },
   {
    "duration": 8909,
    "start_time": "2024-12-11T21:48:21.647Z"
   },
   {
    "duration": 27,
    "start_time": "2024-12-11T21:49:19.314Z"
   },
   {
    "duration": 235,
    "start_time": "2024-12-11T21:51:15.914Z"
   },
   {
    "duration": 976,
    "start_time": "2024-12-11T21:53:33.571Z"
   },
   {
    "duration": 374,
    "start_time": "2024-12-11T21:53:34.549Z"
   },
   {
    "duration": 9,
    "start_time": "2024-12-11T21:53:34.925Z"
   },
   {
    "duration": 31,
    "start_time": "2024-12-11T21:53:34.936Z"
   },
   {
    "duration": 8,
    "start_time": "2024-12-11T21:53:34.970Z"
   },
   {
    "duration": 55,
    "start_time": "2024-12-11T21:53:34.980Z"
   },
   {
    "duration": 8,
    "start_time": "2024-12-11T21:53:35.037Z"
   },
   {
    "duration": 31,
    "start_time": "2024-12-11T21:53:35.047Z"
   },
   {
    "duration": 44,
    "start_time": "2024-12-11T21:53:35.080Z"
   },
   {
    "duration": 110,
    "start_time": "2024-12-11T21:53:35.125Z"
   },
   {
    "duration": 14,
    "start_time": "2024-12-11T21:53:35.311Z"
   },
   {
    "duration": 1017,
    "start_time": "2024-12-11T21:53:35.330Z"
   },
   {
    "duration": 76,
    "start_time": "2024-12-11T21:53:36.349Z"
   },
   {
    "duration": 953,
    "start_time": "2024-12-11T21:53:36.428Z"
   },
   {
    "duration": 5,
    "start_time": "2024-12-11T21:53:37.383Z"
   },
   {
    "duration": 9,
    "start_time": "2024-12-11T21:53:37.389Z"
   },
   {
    "duration": 357,
    "start_time": "2024-12-11T21:53:37.400Z"
   },
   {
    "duration": 46126,
    "start_time": "2024-12-11T21:53:51.318Z"
   },
   {
    "duration": 1577,
    "start_time": "2024-12-11T21:55:49.346Z"
   },
   {
    "duration": 812,
    "start_time": "2024-12-11T21:55:56.522Z"
   },
   {
    "duration": 1890,
    "start_time": "2024-12-11T21:56:19.743Z"
   },
   {
    "duration": 1788,
    "start_time": "2024-12-11T21:57:08.292Z"
   },
   {
    "duration": 1778,
    "start_time": "2024-12-11T21:57:20.719Z"
   },
   {
    "duration": 1822,
    "start_time": "2024-12-11T21:58:04.476Z"
   },
   {
    "duration": 11,
    "start_time": "2024-12-11T22:00:31.309Z"
   },
   {
    "duration": 8,
    "start_time": "2024-12-11T22:00:41.039Z"
   },
   {
    "duration": 1781,
    "start_time": "2024-12-11T22:00:46.932Z"
   },
   {
    "duration": 1828,
    "start_time": "2024-12-11T22:03:03.991Z"
   },
   {
    "duration": 1884,
    "start_time": "2024-12-11T22:03:30.997Z"
   },
   {
    "duration": 775,
    "start_time": "2024-12-11T22:03:53.689Z"
   },
   {
    "duration": 9,
    "start_time": "2024-12-11T22:04:17.763Z"
   },
   {
    "duration": 760,
    "start_time": "2024-12-11T22:04:22.101Z"
   },
   {
    "duration": 30,
    "start_time": "2024-12-11T22:07:43.501Z"
   },
   {
    "duration": 736,
    "start_time": "2024-12-11T22:08:03.265Z"
   },
   {
    "duration": 1085,
    "start_time": "2024-12-12T03:33:01.290Z"
   },
   {
    "duration": 428,
    "start_time": "2024-12-12T03:33:02.377Z"
   },
   {
    "duration": 8,
    "start_time": "2024-12-12T03:33:02.806Z"
   },
   {
    "duration": 30,
    "start_time": "2024-12-12T03:33:02.817Z"
   },
   {
    "duration": 29,
    "start_time": "2024-12-12T03:33:02.848Z"
   },
   {
    "duration": 27,
    "start_time": "2024-12-12T03:33:02.879Z"
   },
   {
    "duration": 7,
    "start_time": "2024-12-12T03:33:02.908Z"
   },
   {
    "duration": 54,
    "start_time": "2024-12-12T03:33:02.917Z"
   },
   {
    "duration": 17,
    "start_time": "2024-12-12T03:33:02.973Z"
   },
   {
    "duration": 178,
    "start_time": "2024-12-12T03:33:02.993Z"
   },
   {
    "duration": 1038,
    "start_time": "2024-12-12T03:33:03.173Z"
   },
   {
    "duration": 70,
    "start_time": "2024-12-12T03:33:04.213Z"
   },
   {
    "duration": 961,
    "start_time": "2024-12-12T03:33:04.285Z"
   },
   {
    "duration": 5,
    "start_time": "2024-12-12T03:33:05.248Z"
   },
   {
    "duration": 21,
    "start_time": "2024-12-12T03:33:05.255Z"
   },
   {
    "duration": 772,
    "start_time": "2024-12-12T03:33:05.279Z"
   },
   {
    "duration": 172,
    "start_time": "2024-12-12T04:46:17.951Z"
   },
   {
    "duration": 2751,
    "start_time": "2024-12-12T04:46:25.294Z"
   },
   {
    "duration": 444,
    "start_time": "2024-12-12T04:46:28.048Z"
   },
   {
    "duration": 8,
    "start_time": "2024-12-12T04:46:28.494Z"
   },
   {
    "duration": 33,
    "start_time": "2024-12-12T04:46:28.504Z"
   },
   {
    "duration": 8,
    "start_time": "2024-12-12T04:46:28.539Z"
   },
   {
    "duration": 56,
    "start_time": "2024-12-12T04:46:28.549Z"
   },
   {
    "duration": 8,
    "start_time": "2024-12-12T04:46:28.608Z"
   },
   {
    "duration": 30,
    "start_time": "2024-12-12T04:46:28.617Z"
   },
   {
    "duration": 40,
    "start_time": "2024-12-12T04:46:28.649Z"
   },
   {
    "duration": 200,
    "start_time": "2024-12-12T04:46:28.692Z"
   },
   {
    "duration": 1028,
    "start_time": "2024-12-12T04:46:28.894Z"
   },
   {
    "duration": 74,
    "start_time": "2024-12-12T04:46:29.924Z"
   },
   {
    "duration": 1000,
    "start_time": "2024-12-12T04:46:30.000Z"
   },
   {
    "duration": 5,
    "start_time": "2024-12-12T04:46:31.001Z"
   },
   {
    "duration": 8,
    "start_time": "2024-12-12T04:46:31.008Z"
   },
   {
    "duration": 874,
    "start_time": "2024-12-12T04:46:31.018Z"
   },
   {
    "duration": 859,
    "start_time": "2024-12-12T04:50:34.100Z"
   },
   {
    "duration": 724,
    "start_time": "2024-12-12T04:50:43.202Z"
   },
   {
    "duration": 747,
    "start_time": "2024-12-12T04:50:53.093Z"
   },
   {
    "duration": 701,
    "start_time": "2024-12-12T04:51:01.792Z"
   },
   {
    "duration": 718,
    "start_time": "2024-12-12T04:51:04.668Z"
   },
   {
    "duration": 733,
    "start_time": "2024-12-12T04:51:08.147Z"
   },
   {
    "duration": 722,
    "start_time": "2024-12-12T04:51:12.574Z"
   },
   {
    "duration": 669,
    "start_time": "2024-12-12T04:53:31.388Z"
   },
   {
    "duration": 159,
    "start_time": "2024-12-12T04:55:26.831Z"
   },
   {
    "duration": 83,
    "start_time": "2024-12-12T04:55:55.226Z"
   },
   {
    "duration": 1763,
    "start_time": "2024-12-12T04:55:59.764Z"
   },
   {
    "duration": 1761,
    "start_time": "2024-12-12T04:56:08.665Z"
   },
   {
    "duration": 1791,
    "start_time": "2024-12-12T04:56:12.367Z"
   },
   {
    "duration": 1735,
    "start_time": "2024-12-12T04:56:16.107Z"
   },
   {
    "duration": 1760,
    "start_time": "2024-12-12T04:56:24.610Z"
   },
   {
    "duration": 1689,
    "start_time": "2024-12-12T04:56:45.744Z"
   },
   {
    "duration": 1783,
    "start_time": "2024-12-12T04:57:09.034Z"
   },
   {
    "duration": 1753,
    "start_time": "2024-12-12T04:57:18.291Z"
   },
   {
    "duration": 1770,
    "start_time": "2024-12-12T04:57:49.986Z"
   },
   {
    "duration": 1781,
    "start_time": "2024-12-12T04:57:54.469Z"
   },
   {
    "duration": 1758,
    "start_time": "2024-12-12T04:57:57.300Z"
   },
   {
    "duration": 1773,
    "start_time": "2024-12-12T04:58:04.839Z"
   },
   {
    "duration": 165,
    "start_time": "2024-12-12T13:29:53.317Z"
   },
   {
    "duration": 2636,
    "start_time": "2024-12-12T13:30:02.295Z"
   },
   {
    "duration": 428,
    "start_time": "2024-12-12T13:30:04.933Z"
   },
   {
    "duration": 8,
    "start_time": "2024-12-12T13:30:05.363Z"
   },
   {
    "duration": 54,
    "start_time": "2024-12-12T13:30:05.373Z"
   },
   {
    "duration": 8,
    "start_time": "2024-12-12T13:30:05.428Z"
   },
   {
    "duration": 29,
    "start_time": "2024-12-12T13:30:05.438Z"
   },
   {
    "duration": 8,
    "start_time": "2024-12-12T13:30:05.469Z"
   },
   {
    "duration": 56,
    "start_time": "2024-12-12T13:30:05.478Z"
   },
   {
    "duration": 19,
    "start_time": "2024-12-12T13:30:05.536Z"
   },
   {
    "duration": 268,
    "start_time": "2024-12-12T13:30:05.558Z"
   },
   {
    "duration": 1123,
    "start_time": "2024-12-12T13:30:05.831Z"
   },
   {
    "duration": 68,
    "start_time": "2024-12-12T13:30:06.956Z"
   },
   {
    "duration": 943,
    "start_time": "2024-12-12T13:30:07.026Z"
   },
   {
    "duration": 4,
    "start_time": "2024-12-12T13:30:07.971Z"
   },
   {
    "duration": 7,
    "start_time": "2024-12-12T13:30:07.977Z"
   },
   {
    "duration": 3457,
    "start_time": "2024-12-12T13:30:07.986Z"
   },
   {
    "duration": 62,
    "start_time": "2024-12-12T13:32:04.383Z"
   },
   {
    "duration": 952,
    "start_time": "2024-12-12T13:32:11.961Z"
   },
   {
    "duration": 339,
    "start_time": "2024-12-12T13:32:12.915Z"
   },
   {
    "duration": 7,
    "start_time": "2024-12-12T13:32:13.257Z"
   },
   {
    "duration": 32,
    "start_time": "2024-12-12T13:32:13.266Z"
   },
   {
    "duration": 29,
    "start_time": "2024-12-12T13:32:13.300Z"
   },
   {
    "duration": 28,
    "start_time": "2024-12-12T13:32:13.330Z"
   },
   {
    "duration": 8,
    "start_time": "2024-12-12T13:32:13.360Z"
   },
   {
    "duration": 56,
    "start_time": "2024-12-12T13:32:13.369Z"
   },
   {
    "duration": 18,
    "start_time": "2024-12-12T13:32:13.427Z"
   },
   {
    "duration": 183,
    "start_time": "2024-12-12T13:32:13.447Z"
   },
   {
    "duration": 1029,
    "start_time": "2024-12-12T13:32:13.632Z"
   },
   {
    "duration": 71,
    "start_time": "2024-12-12T13:32:14.663Z"
   },
   {
    "duration": 954,
    "start_time": "2024-12-12T13:32:14.737Z"
   },
   {
    "duration": 4,
    "start_time": "2024-12-12T13:32:15.694Z"
   },
   {
    "duration": 8,
    "start_time": "2024-12-12T13:32:15.700Z"
   },
   {
    "duration": 3525,
    "start_time": "2024-12-12T13:32:15.725Z"
   },
   {
    "duration": 1704,
    "start_time": "2024-12-12T13:32:29.354Z"
   },
   {
    "duration": 2286,
    "start_time": "2024-12-12T13:45:56.413Z"
   },
   {
    "duration": 2240,
    "start_time": "2024-12-12T13:46:39.164Z"
   },
   {
    "duration": 1673,
    "start_time": "2024-12-12T14:00:39.622Z"
   },
   {
    "duration": 1672,
    "start_time": "2024-12-12T14:00:59.296Z"
   },
   {
    "duration": 1716,
    "start_time": "2024-12-12T14:01:14.176Z"
   },
   {
    "duration": 1713,
    "start_time": "2024-12-12T14:04:06.248Z"
   },
   {
    "duration": 1714,
    "start_time": "2024-12-12T14:04:16.615Z"
   },
   {
    "duration": 1705,
    "start_time": "2024-12-12T14:04:22.573Z"
   },
   {
    "duration": 1130,
    "start_time": "2024-12-12T14:04:28.856Z"
   },
   {
    "duration": 344,
    "start_time": "2024-12-12T14:04:29.989Z"
   },
   {
    "duration": 7,
    "start_time": "2024-12-12T14:04:30.335Z"
   },
   {
    "duration": 31,
    "start_time": "2024-12-12T14:04:30.344Z"
   },
   {
    "duration": 8,
    "start_time": "2024-12-12T14:04:30.378Z"
   },
   {
    "duration": 53,
    "start_time": "2024-12-12T14:04:30.387Z"
   },
   {
    "duration": 9,
    "start_time": "2024-12-12T14:04:30.441Z"
   },
   {
    "duration": 34,
    "start_time": "2024-12-12T14:04:30.451Z"
   },
   {
    "duration": 41,
    "start_time": "2024-12-12T14:04:30.486Z"
   },
   {
    "duration": 203,
    "start_time": "2024-12-12T14:04:30.529Z"
   },
   {
    "duration": 1037,
    "start_time": "2024-12-12T14:04:30.734Z"
   },
   {
    "duration": 73,
    "start_time": "2024-12-12T14:04:31.773Z"
   },
   {
    "duration": 977,
    "start_time": "2024-12-12T14:04:31.848Z"
   },
   {
    "duration": 4,
    "start_time": "2024-12-12T14:04:32.829Z"
   },
   {
    "duration": 9,
    "start_time": "2024-12-12T14:04:32.835Z"
   },
   {
    "duration": 1746,
    "start_time": "2024-12-12T14:04:32.845Z"
   },
   {
    "duration": 12,
    "start_time": "2024-12-12T14:06:01.382Z"
   },
   {
    "duration": 141,
    "start_time": "2024-12-12T14:06:18.790Z"
   },
   {
    "duration": 11,
    "start_time": "2024-12-12T14:06:20.966Z"
   },
   {
    "duration": 139,
    "start_time": "2024-12-12T14:10:10.099Z"
   },
   {
    "duration": 13,
    "start_time": "2024-12-12T14:10:13.297Z"
   },
   {
    "duration": 934,
    "start_time": "2024-12-12T14:10:24.085Z"
   },
   {
    "duration": 334,
    "start_time": "2024-12-12T14:10:25.021Z"
   },
   {
    "duration": 7,
    "start_time": "2024-12-12T14:10:25.356Z"
   },
   {
    "duration": 34,
    "start_time": "2024-12-12T14:10:25.365Z"
   },
   {
    "duration": 8,
    "start_time": "2024-12-12T14:10:25.424Z"
   },
   {
    "duration": 29,
    "start_time": "2024-12-12T14:10:25.434Z"
   },
   {
    "duration": 8,
    "start_time": "2024-12-12T14:10:25.464Z"
   },
   {
    "duration": 51,
    "start_time": "2024-12-12T14:10:25.474Z"
   },
   {
    "duration": 20,
    "start_time": "2024-12-12T14:10:25.527Z"
   },
   {
    "duration": 193,
    "start_time": "2024-12-12T14:10:25.549Z"
   },
   {
    "duration": 89,
    "start_time": "2024-12-12T14:10:25.744Z"
   },
   {
    "duration": 1172,
    "start_time": "2024-12-12T14:10:25.838Z"
   },
   {
    "duration": 82,
    "start_time": "2024-12-12T14:10:27.012Z"
   },
   {
    "duration": 992,
    "start_time": "2024-12-12T14:10:27.097Z"
   },
   {
    "duration": 324,
    "start_time": "2024-12-12T14:10:28.090Z"
   },
   {
    "duration": 0,
    "start_time": "2024-12-12T14:10:28.416Z"
   },
   {
    "duration": 0,
    "start_time": "2024-12-12T14:10:28.419Z"
   },
   {
    "duration": 28,
    "start_time": "2024-12-12T14:10:45.390Z"
   },
   {
    "duration": 9,
    "start_time": "2024-12-12T14:10:52.522Z"
   },
   {
    "duration": 1841,
    "start_time": "2024-12-12T14:10:56.390Z"
   },
   {
    "duration": 1793,
    "start_time": "2024-12-12T14:19:58.401Z"
   },
   {
    "duration": 163,
    "start_time": "2024-12-12T14:34:03.238Z"
   },
   {
    "duration": 1829,
    "start_time": "2024-12-12T14:34:27.068Z"
   },
   {
    "duration": 14,
    "start_time": "2024-12-12T14:40:24.198Z"
   },
   {
    "duration": 16,
    "start_time": "2024-12-12T14:40:53.327Z"
   },
   {
    "duration": 5,
    "start_time": "2024-12-12T14:41:03.046Z"
   },
   {
    "duration": 12,
    "start_time": "2024-12-12T14:41:34.180Z"
   },
   {
    "duration": 12,
    "start_time": "2024-12-12T14:41:36.820Z"
   },
   {
    "duration": 11,
    "start_time": "2024-12-12T14:42:05.794Z"
   },
   {
    "duration": 5,
    "start_time": "2024-12-12T14:42:16.544Z"
   },
   {
    "duration": 8,
    "start_time": "2024-12-12T14:44:01.507Z"
   },
   {
    "duration": 9,
    "start_time": "2024-12-12T14:44:39.964Z"
   },
   {
    "duration": 9,
    "start_time": "2024-12-12T14:44:43.837Z"
   },
   {
    "duration": 8,
    "start_time": "2024-12-12T14:46:39.095Z"
   },
   {
    "duration": 7,
    "start_time": "2024-12-12T14:46:53.167Z"
   },
   {
    "duration": 7,
    "start_time": "2024-12-12T14:47:37.552Z"
   },
   {
    "duration": 9,
    "start_time": "2024-12-12T14:47:44.641Z"
   },
   {
    "duration": 27,
    "start_time": "2024-12-12T14:56:35.986Z"
   },
   {
    "duration": 26,
    "start_time": "2024-12-12T14:57:18.463Z"
   },
   {
    "duration": 1951,
    "start_time": "2024-12-12T14:58:14.273Z"
   },
   {
    "duration": 1917,
    "start_time": "2024-12-12T14:58:22.978Z"
   },
   {
    "duration": 1927,
    "start_time": "2024-12-12T14:58:30.875Z"
   },
   {
    "duration": 1950,
    "start_time": "2024-12-12T14:58:34.633Z"
   },
   {
    "duration": 1949,
    "start_time": "2024-12-12T14:59:32.323Z"
   },
   {
    "duration": 1993,
    "start_time": "2024-12-12T14:59:37.568Z"
   },
   {
    "duration": 1992,
    "start_time": "2024-12-12T14:59:50.291Z"
   },
   {
    "duration": 1991,
    "start_time": "2024-12-12T15:01:17.423Z"
   },
   {
    "duration": 1929,
    "start_time": "2024-12-12T15:01:31.741Z"
   },
   {
    "duration": 2225,
    "start_time": "2024-12-12T15:03:34.145Z"
   },
   {
    "duration": 2233,
    "start_time": "2024-12-12T15:03:41.391Z"
   },
   {
    "duration": 1937,
    "start_time": "2024-12-12T15:03:49.653Z"
   },
   {
    "duration": 130,
    "start_time": "2024-12-12T15:05:06.914Z"
   },
   {
    "duration": 1988,
    "start_time": "2024-12-12T15:05:16.411Z"
   },
   {
    "duration": 1949,
    "start_time": "2024-12-12T15:11:17.715Z"
   },
   {
    "duration": 1982,
    "start_time": "2024-12-12T15:18:10.262Z"
   },
   {
    "duration": 1906,
    "start_time": "2024-12-12T15:18:15.013Z"
   },
   {
    "duration": 1979,
    "start_time": "2024-12-12T15:18:20.808Z"
   },
   {
    "duration": 1968,
    "start_time": "2024-12-12T15:21:37.816Z"
   },
   {
    "duration": 1942,
    "start_time": "2024-12-12T15:21:49.704Z"
   },
   {
    "duration": 1912,
    "start_time": "2024-12-12T15:21:54.231Z"
   },
   {
    "duration": 2045,
    "start_time": "2024-12-12T15:22:17.902Z"
   },
   {
    "duration": 1974,
    "start_time": "2024-12-12T15:22:36.375Z"
   },
   {
    "duration": 246,
    "start_time": "2024-12-12T15:22:43.411Z"
   },
   {
    "duration": 1963,
    "start_time": "2024-12-12T15:22:52.268Z"
   },
   {
    "duration": 1998,
    "start_time": "2024-12-12T15:22:57.019Z"
   },
   {
    "duration": 28,
    "start_time": "2024-12-12T15:23:17.016Z"
   },
   {
    "duration": 28,
    "start_time": "2024-12-12T15:23:19.691Z"
   },
   {
    "duration": 26,
    "start_time": "2024-12-12T15:23:24.606Z"
   },
   {
    "duration": 8,
    "start_time": "2024-12-12T15:23:40.763Z"
   },
   {
    "duration": 49,
    "start_time": "2024-12-12T15:23:55.070Z"
   },
   {
    "duration": 50,
    "start_time": "2024-12-12T15:24:06.997Z"
   },
   {
    "duration": 48,
    "start_time": "2024-12-12T15:24:52.657Z"
   },
   {
    "duration": 24,
    "start_time": "2024-12-12T15:25:05.256Z"
   },
   {
    "duration": 1966,
    "start_time": "2024-12-12T15:25:33.608Z"
   },
   {
    "duration": 1977,
    "start_time": "2024-12-12T15:26:01.983Z"
   },
   {
    "duration": 2038,
    "start_time": "2024-12-12T15:28:34.101Z"
   },
   {
    "duration": 2067,
    "start_time": "2024-12-12T15:28:37.982Z"
   },
   {
    "duration": 1975,
    "start_time": "2024-12-12T15:29:53.355Z"
   },
   {
    "duration": 2124,
    "start_time": "2024-12-12T15:32:42.322Z"
   },
   {
    "duration": 26,
    "start_time": "2024-12-12T15:33:05.273Z"
   },
   {
    "duration": 28,
    "start_time": "2024-12-12T15:33:57.903Z"
   },
   {
    "duration": 1951,
    "start_time": "2024-12-12T15:34:03.407Z"
   },
   {
    "duration": 1925,
    "start_time": "2024-12-12T15:34:07.541Z"
   },
   {
    "duration": 1908,
    "start_time": "2024-12-12T15:35:12.643Z"
   },
   {
    "duration": 2689,
    "start_time": "2024-12-12T18:52:06.870Z"
   },
   {
    "duration": 408,
    "start_time": "2024-12-12T18:52:09.561Z"
   },
   {
    "duration": 9,
    "start_time": "2024-12-12T18:52:09.970Z"
   },
   {
    "duration": 50,
    "start_time": "2024-12-12T18:52:09.980Z"
   },
   {
    "duration": 7,
    "start_time": "2024-12-12T18:52:10.032Z"
   },
   {
    "duration": 26,
    "start_time": "2024-12-12T18:52:10.040Z"
   },
   {
    "duration": 8,
    "start_time": "2024-12-12T18:52:10.068Z"
   },
   {
    "duration": 32,
    "start_time": "2024-12-12T18:52:10.104Z"
   },
   {
    "duration": 17,
    "start_time": "2024-12-12T18:52:10.138Z"
   },
   {
    "duration": 266,
    "start_time": "2024-12-12T18:52:10.157Z"
   },
   {
    "duration": 85,
    "start_time": "2024-12-12T18:52:10.425Z"
   },
   {
    "duration": 1049,
    "start_time": "2024-12-12T18:52:10.512Z"
   },
   {
    "duration": 70,
    "start_time": "2024-12-12T18:52:11.563Z"
   },
   {
    "duration": 984,
    "start_time": "2024-12-12T18:52:11.635Z"
   },
   {
    "duration": 5,
    "start_time": "2024-12-12T18:52:12.621Z"
   },
   {
    "duration": 9,
    "start_time": "2024-12-12T18:52:12.628Z"
   },
   {
    "duration": 269,
    "start_time": "2024-12-12T18:52:12.639Z"
   },
   {
    "duration": 1871,
    "start_time": "2024-12-12T18:53:49.952Z"
   },
   {
    "duration": 361,
    "start_time": "2024-12-12T18:54:06.500Z"
   },
   {
    "duration": 6,
    "start_time": "2024-12-12T18:54:42.434Z"
   },
   {
    "duration": 15,
    "start_time": "2024-12-12T18:54:57.144Z"
   },
   {
    "duration": 25,
    "start_time": "2024-12-12T18:56:00.736Z"
   },
   {
    "duration": 170,
    "start_time": "2024-12-13T04:48:36.236Z"
   },
   {
    "duration": 20,
    "start_time": "2024-12-13T04:48:48.120Z"
   },
   {
    "duration": 2742,
    "start_time": "2024-12-13T04:48:54.486Z"
   },
   {
    "duration": 413,
    "start_time": "2024-12-13T04:48:57.231Z"
   },
   {
    "duration": 28,
    "start_time": "2024-12-13T04:48:57.646Z"
   },
   {
    "duration": 31,
    "start_time": "2024-12-13T04:48:57.675Z"
   },
   {
    "duration": 7,
    "start_time": "2024-12-13T04:48:57.710Z"
   },
   {
    "duration": 30,
    "start_time": "2024-12-13T04:48:57.719Z"
   },
   {
    "duration": 8,
    "start_time": "2024-12-13T04:48:57.770Z"
   },
   {
    "duration": 31,
    "start_time": "2024-12-13T04:48:57.779Z"
   },
   {
    "duration": 20,
    "start_time": "2024-12-13T04:48:57.812Z"
   },
   {
    "duration": 246,
    "start_time": "2024-12-13T04:48:57.835Z"
   },
   {
    "duration": 87,
    "start_time": "2024-12-13T04:48:58.083Z"
   },
   {
    "duration": 1052,
    "start_time": "2024-12-13T04:48:58.172Z"
   },
   {
    "duration": 72,
    "start_time": "2024-12-13T04:48:59.226Z"
   },
   {
    "duration": 933,
    "start_time": "2024-12-13T04:48:59.301Z"
   },
   {
    "duration": 5,
    "start_time": "2024-12-13T04:49:00.236Z"
   },
   {
    "duration": 8,
    "start_time": "2024-12-13T04:49:00.242Z"
   },
   {
    "duration": 2051,
    "start_time": "2024-12-13T04:49:00.252Z"
   },
   {
    "duration": 2057,
    "start_time": "2024-12-13T04:49:04.893Z"
   },
   {
    "duration": 2167,
    "start_time": "2024-12-13T04:49:57.095Z"
   },
   {
    "duration": 172,
    "start_time": "2024-12-13T14:45:07.579Z"
   },
   {
    "duration": 2706,
    "start_time": "2024-12-13T14:45:14.867Z"
   },
   {
    "duration": 437,
    "start_time": "2024-12-13T14:45:17.575Z"
   },
   {
    "duration": 8,
    "start_time": "2024-12-13T14:45:18.014Z"
   },
   {
    "duration": 30,
    "start_time": "2024-12-13T14:45:18.024Z"
   },
   {
    "duration": 31,
    "start_time": "2024-12-13T14:45:18.056Z"
   },
   {
    "duration": 27,
    "start_time": "2024-12-13T14:45:18.089Z"
   },
   {
    "duration": 12,
    "start_time": "2024-12-13T14:45:18.118Z"
   },
   {
    "duration": 31,
    "start_time": "2024-12-13T14:45:18.134Z"
   },
   {
    "duration": 37,
    "start_time": "2024-12-13T14:45:18.167Z"
   },
   {
    "duration": 287,
    "start_time": "2024-12-13T14:45:18.206Z"
   },
   {
    "duration": 12,
    "start_time": "2024-12-13T14:45:18.495Z"
   },
   {
    "duration": 1117,
    "start_time": "2024-12-13T14:45:18.509Z"
   },
   {
    "duration": 71,
    "start_time": "2024-12-13T14:45:19.628Z"
   },
   {
    "duration": 996,
    "start_time": "2024-12-13T14:45:19.701Z"
   },
   {
    "duration": 7,
    "start_time": "2024-12-13T14:45:20.700Z"
   },
   {
    "duration": 11,
    "start_time": "2024-12-13T14:45:20.710Z"
   },
   {
    "duration": 2133,
    "start_time": "2024-12-13T14:45:20.723Z"
   },
   {
    "duration": 3156,
    "start_time": "2024-12-13T14:53:45.860Z"
   },
   {
    "duration": 3109,
    "start_time": "2024-12-13T14:54:45.904Z"
   },
   {
    "duration": 3087,
    "start_time": "2024-12-13T14:54:57.453Z"
   },
   {
    "duration": 3081,
    "start_time": "2024-12-13T15:07:18.416Z"
   },
   {
    "duration": 3453,
    "start_time": "2024-12-13T15:07:39.036Z"
   },
   {
    "duration": 2101,
    "start_time": "2024-12-13T15:08:24.845Z"
   },
   {
    "duration": 3194,
    "start_time": "2024-12-13T15:08:56.435Z"
   },
   {
    "duration": 3093,
    "start_time": "2024-12-13T15:09:23.570Z"
   },
   {
    "duration": 3114,
    "start_time": "2024-12-13T15:09:34.072Z"
   },
   {
    "duration": 8,
    "start_time": "2024-12-13T15:11:46.078Z"
   },
   {
    "duration": 998,
    "start_time": "2024-12-13T15:23:18.978Z"
   },
   {
    "duration": 360,
    "start_time": "2024-12-13T15:23:19.978Z"
   },
   {
    "duration": 8,
    "start_time": "2024-12-13T15:23:20.341Z"
   },
   {
    "duration": 51,
    "start_time": "2024-12-13T15:23:20.351Z"
   },
   {
    "duration": 7,
    "start_time": "2024-12-13T15:23:20.404Z"
   },
   {
    "duration": 27,
    "start_time": "2024-12-13T15:23:20.413Z"
   },
   {
    "duration": 8,
    "start_time": "2024-12-13T15:23:20.442Z"
   },
   {
    "duration": 55,
    "start_time": "2024-12-13T15:23:20.451Z"
   },
   {
    "duration": 17,
    "start_time": "2024-12-13T15:23:20.508Z"
   },
   {
    "duration": 260,
    "start_time": "2024-12-13T15:23:20.528Z"
   },
   {
    "duration": 1026,
    "start_time": "2024-12-13T15:23:20.793Z"
   },
   {
    "duration": 73,
    "start_time": "2024-12-13T15:23:21.822Z"
   },
   {
    "duration": 921,
    "start_time": "2024-12-13T15:23:21.897Z"
   },
   {
    "duration": 4,
    "start_time": "2024-12-13T15:23:22.821Z"
   },
   {
    "duration": 8,
    "start_time": "2024-12-13T15:23:22.827Z"
   },
   {
    "duration": 3173,
    "start_time": "2024-12-13T15:23:22.836Z"
   }
  ],
  "kernelspec": {
   "display_name": "Python 3 (ipykernel)",
   "language": "python",
   "name": "python3"
  },
  "language_info": {
   "codemirror_mode": {
    "name": "ipython",
    "version": 3
   },
   "file_extension": ".py",
   "mimetype": "text/x-python",
   "name": "python",
   "nbconvert_exporter": "python",
   "pygments_lexer": "ipython3",
   "version": "3.9.19"
  },
  "toc": {
   "base_numbering": 1,
   "nav_menu": {},
   "number_sections": true,
   "sideBar": true,
   "skip_h1_title": true,
   "title_cell": "Table of Contents",
   "title_sidebar": "Contents",
   "toc_cell": false,
   "toc_position": {
    "height": "calc(100% - 180px)",
    "left": "10px",
    "top": "150px",
    "width": "242.4px"
   },
   "toc_section_display": true,
   "toc_window_display": true
  }
 },
 "nbformat": 4,
 "nbformat_minor": 2
}
